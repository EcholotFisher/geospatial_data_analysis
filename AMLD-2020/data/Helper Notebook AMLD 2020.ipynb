{
 "cells": [
  {
   "cell_type": "code",
   "execution_count": 1,
   "metadata": {},
   "outputs": [],
   "source": [
    "import pandas as pd\n",
    "import numpy as np\n",
    "import pickle\n"
   ]
  },
  {
   "cell_type": "markdown",
   "metadata": {},
   "source": [
    "# Read process and save sample for testing reasons"
   ]
  },
  {
   "cell_type": "code",
   "execution_count": 2,
   "metadata": {},
   "outputs": [],
   "source": [
    "# constants\n",
    "\n",
    "FILE_NAME = \"train.csv\"\n",
    "SAMPLE_SIZE = 100000"
   ]
  },
  {
   "cell_type": "code",
   "execution_count": 3,
   "metadata": {},
   "outputs": [
    {
     "data": {
      "text/html": [
       "<div>\n",
       "<style scoped>\n",
       "    .dataframe tbody tr th:only-of-type {\n",
       "        vertical-align: middle;\n",
       "    }\n",
       "\n",
       "    .dataframe tbody tr th {\n",
       "        vertical-align: top;\n",
       "    }\n",
       "\n",
       "    .dataframe thead th {\n",
       "        text-align: right;\n",
       "    }\n",
       "</style>\n",
       "<table border=\"1\" class=\"dataframe\">\n",
       "  <thead>\n",
       "    <tr style=\"text-align: right;\">\n",
       "      <th></th>\n",
       "      <th>fare_amount</th>\n",
       "      <th>pickup_datetime</th>\n",
       "      <th>pickup_longitude</th>\n",
       "      <th>pickup_latitude</th>\n",
       "      <th>dropoff_longitude</th>\n",
       "      <th>dropoff_latitude</th>\n",
       "      <th>passenger_count</th>\n",
       "    </tr>\n",
       "  </thead>\n",
       "  <tbody>\n",
       "    <tr>\n",
       "      <th>0</th>\n",
       "      <td>8.1</td>\n",
       "      <td>2009-01-23 02:28:00-05:00</td>\n",
       "      <td>-73.996071</td>\n",
       "      <td>40.732605</td>\n",
       "      <td>-73.980675</td>\n",
       "      <td>40.761864</td>\n",
       "      <td>1</td>\n",
       "    </tr>\n",
       "    <tr>\n",
       "      <th>1</th>\n",
       "      <td>9.0</td>\n",
       "      <td>2014-01-04 16:11:00-05:00</td>\n",
       "      <td>-73.977638</td>\n",
       "      <td>40.752346</td>\n",
       "      <td>-73.970390</td>\n",
       "      <td>40.768867</td>\n",
       "      <td>2</td>\n",
       "    </tr>\n",
       "    <tr>\n",
       "      <th>2</th>\n",
       "      <td>6.5</td>\n",
       "      <td>2015-06-21 21:54:24-04:00</td>\n",
       "      <td>-74.000076</td>\n",
       "      <td>40.728611</td>\n",
       "      <td>-73.988731</td>\n",
       "      <td>40.722172</td>\n",
       "      <td>6</td>\n",
       "    </tr>\n",
       "    <tr>\n",
       "      <th>3</th>\n",
       "      <td>4.5</td>\n",
       "      <td>2010-11-24 07:46:52-05:00</td>\n",
       "      <td>-73.962685</td>\n",
       "      <td>40.775646</td>\n",
       "      <td>-73.957436</td>\n",
       "      <td>40.777767</td>\n",
       "      <td>1</td>\n",
       "    </tr>\n",
       "    <tr>\n",
       "      <th>4</th>\n",
       "      <td>4.5</td>\n",
       "      <td>2011-10-31 22:19:34-04:00</td>\n",
       "      <td>-73.996300</td>\n",
       "      <td>40.753601</td>\n",
       "      <td>-73.998802</td>\n",
       "      <td>40.761101</td>\n",
       "      <td>1</td>\n",
       "    </tr>\n",
       "  </tbody>\n",
       "</table>\n",
       "</div>"
      ],
      "text/plain": [
       "   fare_amount           pickup_datetime  pickup_longitude  pickup_latitude  \\\n",
       "0          8.1 2009-01-23 02:28:00-05:00        -73.996071        40.732605   \n",
       "1          9.0 2014-01-04 16:11:00-05:00        -73.977638        40.752346   \n",
       "2          6.5 2015-06-21 21:54:24-04:00        -74.000076        40.728611   \n",
       "3          4.5 2010-11-24 07:46:52-05:00        -73.962685        40.775646   \n",
       "4          4.5 2011-10-31 22:19:34-04:00        -73.996300        40.753601   \n",
       "\n",
       "   dropoff_longitude  dropoff_latitude  passenger_count  \n",
       "0         -73.980675         40.761864                1  \n",
       "1         -73.970390         40.768867                2  \n",
       "2         -73.988731         40.722172                6  \n",
       "3         -73.957436         40.777767                1  \n",
       "4         -73.998802         40.761101                1  "
      ]
     },
     "execution_count": 3,
     "metadata": {},
     "output_type": "execute_result"
    }
   ],
   "source": [
    "# `read_sample` takes ~2 minutes\n",
    "\n",
    "def read_sample(file_name, sample_size=100000):\n",
    "    np.random.seed(42)\n",
    "    n_rows = sum(1 for line in open(file_name)) - 1 #number of records in file (excludes header)\n",
    "    ix = np.array(range(1,n_rows+1))\n",
    "    skip = np.sort(np.random.choice(a=ix, size=n_rows-sample_size, replace=False)) #the 0-indexed header will not be included in the skip list\n",
    "    return pd.read_csv(file_name, skiprows=skip)\n",
    "    \n",
    "def process_df(df):\n",
    "    df2 = df.copy()\n",
    "\n",
    "    # drop not useful key\n",
    "    df2 = df2.drop('key', axis=1)\n",
    "\n",
    "    # convert timestamp from UTC to localtime New York\n",
    "    time_col = pd.to_datetime(df2['pickup_datetime'])\n",
    "    time_col = time_col.dt.tz_localize('utc').dt.tz_convert('America/New_York')\n",
    "    df2['pickup_datetime'] = time_col\n",
    "    \n",
    "    # downcast float precision\n",
    "    numerical_cols = ['fare_amount', 'pickup_longitude', \n",
    "                  'pickup_latitude', 'dropoff_longitude', \n",
    "                  'dropoff_latitude']\n",
    "    df2[numerical_cols] = df2[numerical_cols].apply(pd.to_numeric,downcast='float')\n",
    "    \n",
    "    return df2\n",
    "\n",
    "\n",
    "df = read_sample(file_name=FILE_NAME, sample_size=SAMPLE_SIZE)\n",
    "df = process_df(df)\n",
    "df.head()\n",
    "    "
   ]
  },
  {
   "cell_type": "code",
   "execution_count": 4,
   "metadata": {},
   "outputs": [
    {
     "name": "stdout",
     "output_type": "stream",
     "text": [
      "<class 'pandas.core.frame.DataFrame'>\n",
      "RangeIndex: 100000 entries, 0 to 99999\n",
      "Data columns (total 7 columns):\n",
      "fare_amount          100000 non-null float32\n",
      "pickup_datetime      100000 non-null datetime64[ns, America/New_York]\n",
      "pickup_longitude     100000 non-null float32\n",
      "pickup_latitude      100000 non-null float32\n",
      "dropoff_longitude    99997 non-null float32\n",
      "dropoff_latitude     99997 non-null float32\n",
      "passenger_count      100000 non-null int64\n",
      "dtypes: datetime64[ns, America/New_York](1), float32(5), int64(1)\n",
      "memory usage: 3.4 MB\n"
     ]
    }
   ],
   "source": [
    "df.info(memory_usage='deep')"
   ]
  },
  {
   "cell_type": "code",
   "execution_count": 9,
   "metadata": {},
   "outputs": [
    {
     "name": "stdout",
     "output_type": "stream",
     "text": [
      "AMLD- Baseline Model.ipynb\r\n",
      "Helper Notebook AMLD 2020.ipynb\r\n",
      "Isochrone Maps.ipynb\r\n",
      "List of Exercises for getting started at some geospatial data analysis.ipynb\r\n",
      "ORSM Test.ipynb\r\n",
      "README.md\r\n",
      "Traces Visualisation.ipynb\r\n",
      "\u001b[1m\u001b[36mdata\u001b[m\u001b[m/\r\n",
      "\u001b[1m\u001b[36mrouter\u001b[m\u001b[m/\r\n",
      "\u001b[31mtrain.csv\u001b[m\u001b[m*\r\n"
     ]
    }
   ],
   "source": [
    "%ls"
   ]
  },
  {
   "cell_type": "code",
   "execution_count": 12,
   "metadata": {},
   "outputs": [],
   "source": [
    "# save as pickle to keep format\n",
    "\n",
    "# with open('data/sample_100000.csv.pickle', 'wb') as f:\n",
    "#     pickle.dump(df, f)\n",
    "\n",
    "# save as csv\n",
    "df.to_csv('data/sample_100000.csv', index=False)\n"
   ]
  },
  {
   "cell_type": "code",
   "execution_count": 6,
   "metadata": {},
   "outputs": [],
   "source": [
    "# save as pickle to keep format\n",
    "\n",
    "# with open('data/sample_100000.csv.pickle', 'rb') as f:\n",
    "#     df = pickle.load(f)"
   ]
  },
  {
   "cell_type": "code",
   "execution_count": null,
   "metadata": {},
   "outputs": [],
   "source": []
  }
 ],
 "metadata": {
  "hide_input": false,
  "kernelspec": {
   "display_name": "Python 3",
   "language": "python",
   "name": "python3"
  },
  "language_info": {
   "codemirror_mode": {
    "name": "ipython",
    "version": 3
   },
   "file_extension": ".py",
   "mimetype": "text/x-python",
   "name": "python",
   "nbconvert_exporter": "python",
   "pygments_lexer": "ipython3",
   "version": "3.6.4"
  },
  "toc": {
   "base_numbering": 1,
   "nav_menu": {},
   "number_sections": true,
   "sideBar": true,
   "skip_h1_title": false,
   "title_cell": "Table of Contents",
   "title_sidebar": "Contents",
   "toc_cell": false,
   "toc_position": {},
   "toc_section_display": true,
   "toc_window_display": false
  }
 },
 "nbformat": 4,
 "nbformat_minor": 2
}
