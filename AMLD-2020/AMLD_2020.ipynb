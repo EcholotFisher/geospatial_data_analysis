{
 "cells": [
  {
   "cell_type": "markdown",
   "metadata": {
    "colab_type": "text",
    "id": "jzbMDeGmIsjq"
   },
   "source": [
    "# Intro / Goals / Context\n",
    "\n",
    "\n",
    "## Goal: \n",
    "\n",
    "Predict the fare of taxi tours\n",
    "\n",
    "Is this a meaningful goal, or some placeholder task to do something?\n",
    "\n",
    "## Question to Public:\n",
    "\n",
    "\" What kind of feature do you think necessary to have?\"\n",
    "\n",
    "\" Why is this a datascience question?\"\n",
    "\n",
    "  - Uncertainty about the driver\n",
    "\n",
    "\n",
    "# Motivation for the workshop?\n",
    "\n",
    "\n",
    "What makes spatial data special? \n",
    "What kind of novel problems we face by working with spatial data?\n",
    "\n",
    "    \n",
    "    * COMPUTING DISTANCES: understand the spatial data properties (e.g. lat/lon, geodesical view)\n",
    "    \n",
    "    * being able to VISUALISE these datasets\n",
    "        * plot heat maps on geographical backgrounds\n",
    "        \n",
    "    * ROUNDING must respect the architecture of the city, roads and building (example: route tracing should turn around the buildings).\n",
    "    \n",
    "    \n",
    "    \n",
    "# Modelling\n",
    "\n",
    "## Get data and make exploratory plots to clean it.\n",
    "\n",
    "* Use Kepler on cleaned data and develop a nice intuition.\n",
    "\n",
    "## Baseline Model 00 (SO + CM)\n",
    "\n",
    "* Explain Euclidean distance\n",
    "* predict fare using the Euclidean distance\n",
    "    Fare ~ 1 + EuclideanDistance\n",
    "* Discuss what is the problem with the Euclidean distance.\n",
    "    * TEACHING: Different types of distances\n",
    "    * Have function definitions for different types of distances, explain code.\n",
    "* Run the same model with different types of distances, and evaluate how much better the model becomes...\n",
    "    Fare ~ 1 + X_Distance\n",
    "    \n",
    "## Updated Model 01 (EJ)\n",
    "\n",
    "* use H3 hexagones as categorical features with the idea of capturing systematic variations in locations e.g. center of the city being more busy in general in comparison to a tour along the periphery of the city.\n",
    "\n",
    "\n",
    "* demand within an hexagon.\n",
    "\n",
    "\n",
    "## Updated Model 02 \n",
    "\n",
    "* Daily seasonality: hour of the day as a feature with the idea \n",
    "    \n",
    "    \n",
    "## Updated Model 03 (CM)\n",
    "\n",
    "Use https://osmcode.org/pyosmium/ to get route features.\n",
    "\n",
    "* Get features from the route between pickup and dropoff\n",
    "  ** # of traffic lights\n",
    "  ** Allowed speed limit\n",
    "  ** Number of lanes\n",
    "  ** Number of hard lefts\n",
    "\n",
    "\n",
    "## DISCUSSION\n",
    "\n",
    "how to incorporate traffic information?\n",
    "\n",
    "\n",
    "# (QUESTIONS for us) /\n",
    "\n",
    "* do we want to train the model on all train data: Memory considerations\n",
    "\n",
    "\n",
    "* Why is this task meaningful? \n",
    "    ** A simple rule is generating these data, why do we need data science to recover a known rule?\n",
    "    \n",
    "    ** how is what we want to do different than applying the rule that generates taxi fares?\n",
    "    \n",
    "    \n",
    "* Are we going to train the model on the fly? If so, how long does it to fit it to 50 millions data points.\n",
    "\n",
    "\n",
    "    "
   ]
  },
  {
   "cell_type": "code",
   "execution_count": 1,
   "metadata": {
    "colab": {
     "base_uri": "https://localhost:8080/",
     "height": 35
    },
    "colab_type": "code",
    "id": "ASafcNAFtY3D",
    "outputId": "4ec0741f-1afe-46f4-c404-52b7d0ae8401"
   },
   "outputs": [],
   "source": [
    "# %pip install pyproj"
   ]
  },
  {
   "cell_type": "code",
   "execution_count": 2,
   "metadata": {
    "colab": {},
    "colab_type": "code",
    "id": "OxsTPZphD2ol"
   },
   "outputs": [],
   "source": [
    "# libraries\n",
    "import matplotlib.pyplot as plt\n",
    "import numpy as np\n",
    "import keplergl\n",
    "import pickle\n",
    "import pandas as pd\n",
    "\n",
    "from sklearn.model_selection import train_test_split\n",
    "from sklearn.linear_model import LinearRegression\n",
    "from sklearn.metrics import mean_squared_error\n",
    "\n",
    "from scipy.spatial.distance import cdist\n",
    "from sklearn.preprocessing import StandardScaler\n",
    "from geopandas import GeoSeries\n",
    "from sklearn.neighbors import KNeighborsRegressor\n",
    "\n",
    "from utils.osrm_router.OSRMFramework import OSRMFramework\n",
    "from utils.visualisation.lines import plot_linestring\n",
    "from utils.geometry.conversor import latlon2linestring\n",
    "\n",
    "###### constants\n",
    "TARGET = 'fare_amount'\n",
    "OSRM_PATH = 'localhost:5000'\n"
   ]
  },
  {
   "cell_type": "code",
   "execution_count": 3,
   "metadata": {
    "colab": {
     "base_uri": "https://localhost:8080/",
     "height": 336
    },
    "colab_type": "code",
    "id": "1SLycpVN9BM-",
    "outputId": "1855cfed-4c48-4817-9b74-6e8b04d7ce40"
   },
   "outputs": [
    {
     "data": {
      "text/html": [
       "<div>\n",
       "<style scoped>\n",
       "    .dataframe tbody tr th:only-of-type {\n",
       "        vertical-align: middle;\n",
       "    }\n",
       "\n",
       "    .dataframe tbody tr th {\n",
       "        vertical-align: top;\n",
       "    }\n",
       "\n",
       "    .dataframe thead th {\n",
       "        text-align: right;\n",
       "    }\n",
       "</style>\n",
       "<table border=\"1\" class=\"dataframe\">\n",
       "  <thead>\n",
       "    <tr style=\"text-align: right;\">\n",
       "      <th></th>\n",
       "      <th>fare_amount</th>\n",
       "      <th>pickup_datetime</th>\n",
       "      <th>pickup_longitude</th>\n",
       "      <th>pickup_latitude</th>\n",
       "      <th>dropoff_longitude</th>\n",
       "      <th>dropoff_latitude</th>\n",
       "      <th>passenger_count</th>\n",
       "    </tr>\n",
       "  </thead>\n",
       "  <tbody>\n",
       "    <tr>\n",
       "      <th>0</th>\n",
       "      <td>8.1</td>\n",
       "      <td>2009-01-23 07:28:00</td>\n",
       "      <td>-73.996070</td>\n",
       "      <td>40.732605</td>\n",
       "      <td>-73.980675</td>\n",
       "      <td>40.761864</td>\n",
       "      <td>1</td>\n",
       "    </tr>\n",
       "    <tr>\n",
       "      <th>1</th>\n",
       "      <td>9.0</td>\n",
       "      <td>2014-01-04 21:11:00</td>\n",
       "      <td>-73.977640</td>\n",
       "      <td>40.752346</td>\n",
       "      <td>-73.970390</td>\n",
       "      <td>40.768867</td>\n",
       "      <td>2</td>\n",
       "    </tr>\n",
       "    <tr>\n",
       "      <th>2</th>\n",
       "      <td>6.5</td>\n",
       "      <td>2015-06-22 01:54:24</td>\n",
       "      <td>-74.000080</td>\n",
       "      <td>40.728610</td>\n",
       "      <td>-73.988730</td>\n",
       "      <td>40.722170</td>\n",
       "      <td>6</td>\n",
       "    </tr>\n",
       "    <tr>\n",
       "      <th>3</th>\n",
       "      <td>4.5</td>\n",
       "      <td>2010-11-24 12:46:52</td>\n",
       "      <td>-73.962685</td>\n",
       "      <td>40.775646</td>\n",
       "      <td>-73.957436</td>\n",
       "      <td>40.777767</td>\n",
       "      <td>1</td>\n",
       "    </tr>\n",
       "    <tr>\n",
       "      <th>4</th>\n",
       "      <td>4.5</td>\n",
       "      <td>2011-11-01 02:19:34</td>\n",
       "      <td>-73.996300</td>\n",
       "      <td>40.753600</td>\n",
       "      <td>-73.998800</td>\n",
       "      <td>40.761100</td>\n",
       "      <td>1</td>\n",
       "    </tr>\n",
       "  </tbody>\n",
       "</table>\n",
       "</div>"
      ],
      "text/plain": [
       "   fare_amount     pickup_datetime  pickup_longitude  pickup_latitude  \\\n",
       "0          8.1 2009-01-23 07:28:00        -73.996070        40.732605   \n",
       "1          9.0 2014-01-04 21:11:00        -73.977640        40.752346   \n",
       "2          6.5 2015-06-22 01:54:24        -74.000080        40.728610   \n",
       "3          4.5 2010-11-24 12:46:52        -73.962685        40.775646   \n",
       "4          4.5 2011-11-01 02:19:34        -73.996300        40.753600   \n",
       "\n",
       "   dropoff_longitude  dropoff_latitude  passenger_count  \n",
       "0         -73.980675         40.761864                1  \n",
       "1         -73.970390         40.768867                2  \n",
       "2         -73.988730         40.722170                6  \n",
       "3         -73.957436         40.777767                1  \n",
       "4         -73.998800         40.761100                1  "
      ]
     },
     "metadata": {},
     "output_type": "display_data"
    },
    {
     "data": {
      "text/plain": [
       "fare_amount                 float64\n",
       "pickup_datetime      datetime64[ns]\n",
       "pickup_longitude            float64\n",
       "pickup_latitude             float64\n",
       "dropoff_longitude           float64\n",
       "dropoff_latitude            float64\n",
       "passenger_count               int64\n",
       "dtype: object"
      ]
     },
     "metadata": {},
     "output_type": "display_data"
    }
   ],
   "source": [
    "# df = pd.read_csv('https://raw.githubusercontent.com/caiomiyashiro/geospatial_data_analysis/master/data/sample_100000.csv')\n",
    "df = pd.read_csv('data/sample_100000.csv')\n",
    "df['pickup_datetime'] = pd.to_datetime(df['pickup_datetime'])\n",
    "display(df.head())\n",
    "display(df.dtypes)\n"
   ]
  },
  {
   "cell_type": "markdown",
   "metadata": {
    "colab_type": "text",
    "id": "fe6TjpszDVbG"
   },
   "source": [
    "# First Analysis\n",
    "\n",
    "## check amount of NaN - just remove them"
   ]
  },
  {
   "cell_type": "code",
   "execution_count": 4,
   "metadata": {
    "scrolled": true
   },
   "outputs": [
    {
     "data": {
      "text/plain": [
       "fare_amount          0\n",
       "pickup_longitude     0\n",
       "pickup_latitude      0\n",
       "dropoff_longitude    3\n",
       "dropoff_latitude     3\n",
       "passenger_count      0\n",
       "dtype: int64"
      ]
     },
     "metadata": {},
     "output_type": "display_data"
    }
   ],
   "source": [
    "# check amount of NaN - just remove them\n",
    "display(df.drop('pickup_datetime',axis=1).apply(lambda col: np.sum(np.isnan(col)), axis=0))\n",
    "\n",
    "df = df.loc[(~np.isnan(df['dropoff_latitude'])) & ~np.isnan(df['dropoff_longitude'])]"
   ]
  },
  {
   "cell_type": "markdown",
   "metadata": {},
   "source": [
    "## Check pickup points"
   ]
  },
  {
   "cell_type": "code",
   "execution_count": 5,
   "metadata": {},
   "outputs": [
    {
     "name": "stdout",
     "output_type": "stream",
     "text": [
      "User Guide: https://github.com/keplergl/kepler.gl/blob/master/docs/keplergl-jupyter/user-guide.md\n"
     ]
    },
    {
     "data": {
      "application/vnd.jupyter.widget-view+json": {
       "model_id": "528831dea7cb45b79d6e3b5531c710a0",
       "version_major": 2,
       "version_minor": 0
      },
      "text/plain": [
       "KeplerGl(data={'points': {'index': [0, 1, 2, 3, 4, 5, 6, 7, 8, 9, 10, 11, 12, 13, 14, 15, 16, 17, 18, 19, 20, …"
      ]
     },
     "metadata": {},
     "output_type": "display_data"
    }
   ],
   "source": [
    "w1 = keplergl.KeplerGl(height=500)\n",
    "w1.add_data(data=df[['pickup_latitude', 'pickup_longitude',\n",
    "                     'dropoff_latitude', 'dropoff_longitude']], name='points')\n",
    "w1"
   ]
  },
  {
   "cell_type": "code",
   "execution_count": 6,
   "metadata": {},
   "outputs": [
    {
     "name": "stdout",
     "output_type": "stream",
     "text": [
      "User Guide: https://github.com/keplergl/kepler.gl/blob/master/docs/keplergl-jupyter/user-guide.md\n"
     ]
    },
    {
     "data": {
      "application/vnd.jupyter.widget-view+json": {
       "model_id": "e7d801a4031140f2a1acabfaf53740be",
       "version_major": 2,
       "version_minor": 0
      },
      "text/plain": [
       "KeplerGl(data={'points': {'index': [0, 1, 2, 3, 4, 5, 6, 7, 8, 9, 10, 11, 12, 13, 14, 16, 17, 18, 19, 20, 21, …"
      ]
     },
     "metadata": {},
     "output_type": "display_data"
    }
   ],
   "source": [
    "def remove_outside_bbox(df, bbox, lat_col, lon_col):\n",
    "    df_ = df.copy()\n",
    "    mask_lat = (df_[lat_col] > bbox[0][0]) & (df_[lat_col] < bbox[1][0])\n",
    "    mask_lon = (df_[lon_col] > bbox[0][1]) & (df_[lon_col] < bbox[1][1])\n",
    "    return df_.loc[(mask_lat) & (mask_lon)]\n",
    "\n",
    "bottom_left_lat_lon = [40.492016, -74.279034]\n",
    "upper_right_lat_lon = [40.913473, -73.689152]\n",
    "bbox = [bottom_left_lat_lon, upper_right_lat_lon]\n",
    "\n",
    "df = remove_outside_bbox(df, bbox, 'pickup_latitude', 'pickup_longitude')\n",
    "df = remove_outside_bbox(df, bbox, 'dropoff_latitude', 'dropoff_longitude')\n",
    "\n",
    "w1 = keplergl.KeplerGl(height=500)\n",
    "w1.add_data(data=df[['pickup_latitude', 'pickup_longitude',\n",
    "                     'dropoff_latitude', 'dropoff_longitude']], name='points')\n",
    "w1"
   ]
  },
  {
   "cell_type": "markdown",
   "metadata": {},
   "source": [
    "## Check impossible fares\n",
    "\n",
    "Note that we're removing only impossible fares for now. Any filter based on value distribution should be done only using the training set."
   ]
  },
  {
   "cell_type": "code",
   "execution_count": 7,
   "metadata": {},
   "outputs": [
    {
     "data": {
      "text/plain": [
       "count    97734.000000\n",
       "mean        11.243156\n",
       "std          9.432648\n",
       "min        -10.100000\n",
       "25%          6.000000\n",
       "50%          8.500000\n",
       "75%         12.500000\n",
       "max        500.000000\n",
       "Name: fare_amount, dtype: float64"
      ]
     },
     "metadata": {},
     "output_type": "display_data"
    },
    {
     "name": "stdout",
     "output_type": "stream",
     "text": [
      "\n",
      "8 rows with fare under 0\n"
     ]
    }
   ],
   "source": [
    "display(df['fare_amount'].describe())\n",
    "print('')\n",
    "\n",
    "fare_under_0 = np.sum(df['fare_amount']<0)\n",
    "print(f'{fare_under_0} rows with fare under 0')\n",
    "\n",
    "df = df.loc[df['fare_amount'] > 0]"
   ]
  },
  {
   "cell_type": "markdown",
   "metadata": {
    "colab_type": "text",
    "id": "3bypvW8YD-Ih"
   },
   "source": [
    "# Split training and testing before analysis"
   ]
  },
  {
   "cell_type": "code",
   "execution_count": 8,
   "metadata": {
    "colab": {
     "base_uri": "https://localhost:8080/",
     "height": 52
    },
    "colab_type": "code",
    "id": "MRKsnouKEAvN",
    "outputId": "07716d2f-065f-4330-89df-513f69eb0fe9"
   },
   "outputs": [
    {
     "name": "stdout",
     "output_type": "stream",
     "text": [
      "Shape X_train (78178, 6)\n",
      "Shape X_test (19545, 6)\n"
     ]
    }
   ],
   "source": [
    "def split_training_test(df, target=TARGET, test_size=0.2):\n",
    "    X = df.drop(TARGET, axis=1)\n",
    "    y = df[TARGET]\n",
    "    return train_test_split(X, y, test_size=test_size, random_state=0) \n",
    "\n",
    "def join_Xy(df, target, target_str=TARGET):\n",
    "    df_ = df.copy()\n",
    "    df_[target_str] = target\n",
    "    return df_\n",
    "\n",
    "def get_initial_training_testing_set(df):\n",
    "    X_train, X_test, y_train, y_test = split_training_test(df)\n",
    "    print(f'Shape X_train {X_train.shape}')\n",
    "    print(f'Shape X_test {X_test.shape}')\n",
    "\n",
    "    # join target for easier exploratory analysis\n",
    "    df_train = join_Xy(X_train, y_train)\n",
    "    df_test = join_Xy(X_test, y_test)\n",
    "    return df_train, df_test\n",
    "\n",
    "df_train, df_test = get_initial_training_testing_set(df)"
   ]
  },
  {
   "cell_type": "markdown",
   "metadata": {},
   "source": [
    "# Data Analysis\n",
    "\n",
    "Only training data that will be used for training\n",
    "\n",
    "## Remove fares < minimum fare and outliers > 99th percentile"
   ]
  },
  {
   "cell_type": "code",
   "execution_count": 9,
   "metadata": {},
   "outputs": [
    {
     "data": {
      "text/plain": [
       "count    78178.000000\n",
       "mean        11.235410\n",
       "std          9.427895\n",
       "min          0.010000\n",
       "1%           3.300000\n",
       "5%           4.100000\n",
       "10%          4.500000\n",
       "50%          8.500000\n",
       "90%         20.000000\n",
       "95%         30.000000\n",
       "99%         52.000000\n",
       "max        500.000000\n",
       "Name: fare_amount, dtype: float64"
      ]
     },
     "metadata": {},
     "output_type": "display_data"
    }
   ],
   "source": [
    "# minimum fare: https://www1.nyc.gov/site/tlc/passengers/taxi-fare.page\n",
    "\n",
    "display(df_train['fare_amount'].describe(percentiles=[.01, .05, .1, .90,.95,.99]))\n",
    "df_train = df_train.loc[(df_train['fare_amount'] > 2.5) & (df_train['fare_amount'] < 52)]\n"
   ]
  },
  {
   "cell_type": "markdown",
   "metadata": {
    "colab_type": "text",
    "id": "dSmcxpLMF_xJ"
   },
   "source": [
    "# Model 00 - Euclidean Distance\n",
    "\n",
    "## Start experiment tracking"
   ]
  },
  {
   "cell_type": "code",
   "execution_count": 10,
   "metadata": {
    "colab": {},
    "colab_type": "code",
    "id": "ShZLGIYzk-cI"
   },
   "outputs": [],
   "source": [
    "iteration_results = {}"
   ]
  },
  {
   "cell_type": "code",
   "execution_count": 11,
   "metadata": {
    "colab": {
     "base_uri": "https://localhost:8080/",
     "height": 138
    },
    "colab_type": "code",
    "id": "sO-69Fi2FAYt",
    "outputId": "b4d0270e-167d-4a8d-b251-6d1cd365b238"
   },
   "outputs": [
    {
     "data": {
      "text/html": [
       "<div>\n",
       "<style scoped>\n",
       "    .dataframe tbody tr th:only-of-type {\n",
       "        vertical-align: middle;\n",
       "    }\n",
       "\n",
       "    .dataframe tbody tr th {\n",
       "        vertical-align: top;\n",
       "    }\n",
       "\n",
       "    .dataframe thead th {\n",
       "        text-align: right;\n",
       "    }\n",
       "</style>\n",
       "<table border=\"1\" class=\"dataframe\">\n",
       "  <thead>\n",
       "    <tr style=\"text-align: right;\">\n",
       "      <th></th>\n",
       "      <th>pickup_datetime</th>\n",
       "      <th>pickup_longitude</th>\n",
       "      <th>pickup_latitude</th>\n",
       "      <th>dropoff_longitude</th>\n",
       "      <th>dropoff_latitude</th>\n",
       "      <th>passenger_count</th>\n",
       "      <th>fare_amount</th>\n",
       "      <th>euclidean_dist</th>\n",
       "    </tr>\n",
       "  </thead>\n",
       "  <tbody>\n",
       "    <tr>\n",
       "      <th>74164</th>\n",
       "      <td>2009-03-28 17:14:03</td>\n",
       "      <td>-73.99483</td>\n",
       "      <td>40.745525</td>\n",
       "      <td>-73.96762</td>\n",
       "      <td>40.792683</td>\n",
       "      <td>3</td>\n",
       "      <td>12.9</td>\n",
       "      <td>162.281472</td>\n",
       "    </tr>\n",
       "    <tr>\n",
       "      <th>48063</th>\n",
       "      <td>2014-05-11 17:24:02</td>\n",
       "      <td>-73.98030</td>\n",
       "      <td>40.776190</td>\n",
       "      <td>-73.94921</td>\n",
       "      <td>40.805153</td>\n",
       "      <td>1</td>\n",
       "      <td>13.0</td>\n",
       "      <td>162.288681</td>\n",
       "    </tr>\n",
       "    <tr>\n",
       "      <th>73757</th>\n",
       "      <td>2013-03-08 15:07:00</td>\n",
       "      <td>-73.97310</td>\n",
       "      <td>40.780320</td>\n",
       "      <td>-73.98011</td>\n",
       "      <td>40.765630</td>\n",
       "      <td>1</td>\n",
       "      <td>7.0</td>\n",
       "      <td>162.280412</td>\n",
       "    </tr>\n",
       "  </tbody>\n",
       "</table>\n",
       "</div>"
      ],
      "text/plain": [
       "          pickup_datetime  pickup_longitude  pickup_latitude  \\\n",
       "74164 2009-03-28 17:14:03         -73.99483        40.745525   \n",
       "48063 2014-05-11 17:24:02         -73.98030        40.776190   \n",
       "73757 2013-03-08 15:07:00         -73.97310        40.780320   \n",
       "\n",
       "       dropoff_longitude  dropoff_latitude  passenger_count  fare_amount  \\\n",
       "74164          -73.96762         40.792683                3         12.9   \n",
       "48063          -73.94921         40.805153                1         13.0   \n",
       "73757          -73.98011         40.765630                1          7.0   \n",
       "\n",
       "       euclidean_dist  \n",
       "74164      162.281472  \n",
       "48063      162.288681  \n",
       "73757      162.280412  "
      ]
     },
     "execution_count": 11,
     "metadata": {},
     "output_type": "execute_result"
    }
   ],
   "source": [
    "def euclidean_distance(x1, y1, x2, y2):\n",
    "    return (((x2-x1)**2 + (y2-y1)**2)**(1/2))\n",
    "\n",
    "df_train_temp = df_train.head(3).copy()\n",
    "# Show how unrealistic it is, IF it's unrealisic\n",
    "df_train_temp['euclidean_dist'] = euclidean_distance(df_train_temp['pickup_latitude'], df_train_temp['dropoff_latitude'], \n",
    "                                                   df_train_temp['pickup_longitude'], df_train_temp['dropoff_longitude'])\n",
    "\n",
    "df_train_temp\n"
   ]
  },
  {
   "cell_type": "code",
   "execution_count": 12,
   "metadata": {
    "colab": {},
    "colab_type": "code",
    "id": "pCdZLbWRG15v"
   },
   "outputs": [],
   "source": [
    "def standardize_features(df):\n",
    "    df_copy = df.copy()\n",
    "    col_names = df_copy.columns\n",
    "    ixs = df_copy.index\n",
    "    return pd.DataFrame(StandardScaler().fit_transform(df_copy), columns=col_names, index=ixs)\n",
    "\n",
    "def pre_processing_pipeline_1(df, target_col=TARGET,\n",
    "                              pickup_latitude='pickup_latitude', dropoff_latitude='dropoff_latitude', \n",
    "                              pickup_longitude='pickup_longitude', dropoff_longitude='dropoff_longitude'):\n",
    "  \n",
    "    EUCLIDEAN_FEAT = 'euclidean_dist'\n",
    "    FEATURES = [EUCLIDEAN_FEAT]\n",
    "\n",
    "    df_copy = df.copy()\n",
    "    df_copy[EUCLIDEAN_FEAT] = euclidean_distance(df_copy[pickup_latitude], df_copy[dropoff_latitude], \n",
    "                                                 df_copy[pickup_longitude], df_copy[dropoff_longitude])\n",
    "    # in the EDA, we probably treat the nulls, so for now, just drop them\n",
    "    df_copy = df_copy.dropna()\n",
    "\n",
    "    df_res = standardize_features(df_copy[FEATURES])\n",
    "    df_res[target_col] = df_copy[target_col]\n",
    "    return df_res\n",
    "\n",
    "df_train_1= pre_processing_pipeline_1(df_train)\n",
    "df_test_1 = pre_processing_pipeline_1(df_test)\n",
    "\n"
   ]
  },
  {
   "cell_type": "code",
   "execution_count": 13,
   "metadata": {
    "colab": {},
    "colab_type": "code",
    "id": "-eXRxwMFHVjE"
   },
   "outputs": [],
   "source": [
    "model_1 = LinearRegression()\n",
    "model_1.fit(df_train_1.drop(TARGET, axis=1), df_train_1[TARGET])\n",
    "\n",
    "y_test_pred_1 = model_1.predict(df_test_1.drop(TARGET, axis=1))"
   ]
  },
  {
   "cell_type": "code",
   "execution_count": 14,
   "metadata": {},
   "outputs": [
    {
     "data": {
      "text/plain": [
       "68.0363603843696"
      ]
     },
     "execution_count": 14,
     "metadata": {},
     "output_type": "execute_result"
    }
   ],
   "source": [
    "mean_squared_error(df_test_1[TARGET], y_test_pred_1)"
   ]
  },
  {
   "cell_type": "code",
   "execution_count": 15,
   "metadata": {
    "colab": {
     "base_uri": "https://localhost:8080/",
     "height": 298
    },
    "colab_type": "code",
    "id": "N37YPJLAdTzy",
    "outputId": "b581fb72-42f9-4f2f-c8bb-ef9d506297f0"
   },
   "outputs": [
    {
     "name": "stdout",
     "output_type": "stream",
     "text": [
      "RMSE: 8.248415628735593\n"
     ]
    },
    {
     "data": {
      "image/png": "[encoded data removed]",
      "text/plain": [
       "<Figure size 432x288 with 1 Axes>"
      ]
     },
     "metadata": {},
     "output_type": "display_data"
    }
   ],
   "source": [
    "def print_evaluation(y_obs, y_pred, max_lim_y=100, return_errors=True):\n",
    "    rmse_hist = np.sqrt((y_pred - y_obs)**2)\n",
    "    plt.hist(rmse_hist[y_obs < max_lim_y], bins=100)\n",
    "    plt.title('RMSE Distribution');\n",
    "\n",
    "    if(return_errors == True):\n",
    "        return mae_hist\n",
    "\n",
    "#####\n",
    "rmse = np.sqrt(mean_squared_error(df_test_1[TARGET], y_test_pred_1))\n",
    "iteration_results['exp_1_rmse'] = rmse\n",
    "print(f'RMSE: {rmse}')\n",
    "\n",
    "print_evaluation(df_test_1[TARGET], y_test_pred_1, return_errors=False)"
   ]
  },
  {
   "cell_type": "markdown",
   "metadata": {
    "colab_type": "text",
    "id": "Hed4d4mGlVEZ"
   },
   "source": [
    "## Experimenting on different types of distance\n",
    "### Haversine - Explain\n",
    "### Great Circle - Explain\n"
   ]
  },
  {
   "cell_type": "code",
   "execution_count": 16,
   "metadata": {
    "colab": {
     "base_uri": "https://localhost:8080/",
     "height": 138
    },
    "colab_type": "code",
    "id": "HjB400AfdUsm",
    "outputId": "89229ef5-4b3e-4b09-8662-60ac4bfb77b0"
   },
   "outputs": [
    {
     "data": {
      "text/html": [
       "<div>\n",
       "<style scoped>\n",
       "    .dataframe tbody tr th:only-of-type {\n",
       "        vertical-align: middle;\n",
       "    }\n",
       "\n",
       "    .dataframe tbody tr th {\n",
       "        vertical-align: top;\n",
       "    }\n",
       "\n",
       "    .dataframe thead th {\n",
       "        text-align: right;\n",
       "    }\n",
       "</style>\n",
       "<table border=\"1\" class=\"dataframe\">\n",
       "  <thead>\n",
       "    <tr style=\"text-align: right;\">\n",
       "      <th></th>\n",
       "      <th>pickup_datetime</th>\n",
       "      <th>pickup_longitude</th>\n",
       "      <th>pickup_latitude</th>\n",
       "      <th>dropoff_longitude</th>\n",
       "      <th>dropoff_latitude</th>\n",
       "      <th>passenger_count</th>\n",
       "      <th>fare_amount</th>\n",
       "      <th>haversine_dist</th>\n",
       "    </tr>\n",
       "  </thead>\n",
       "  <tbody>\n",
       "    <tr>\n",
       "      <th>74164</th>\n",
       "      <td>2009-03-28 17:14:03</td>\n",
       "      <td>-73.99483</td>\n",
       "      <td>40.745525</td>\n",
       "      <td>-73.96762</td>\n",
       "      <td>40.792683</td>\n",
       "      <td>3</td>\n",
       "      <td>12.9</td>\n",
       "      <td>5.718942</td>\n",
       "    </tr>\n",
       "    <tr>\n",
       "      <th>48063</th>\n",
       "      <td>2014-05-11 17:24:02</td>\n",
       "      <td>-73.98030</td>\n",
       "      <td>40.776190</td>\n",
       "      <td>-73.94921</td>\n",
       "      <td>40.805153</td>\n",
       "      <td>1</td>\n",
       "      <td>13.0</td>\n",
       "      <td>4.147373</td>\n",
       "    </tr>\n",
       "    <tr>\n",
       "      <th>73757</th>\n",
       "      <td>2013-03-08 15:07:00</td>\n",
       "      <td>-73.97310</td>\n",
       "      <td>40.780320</td>\n",
       "      <td>-73.98011</td>\n",
       "      <td>40.765630</td>\n",
       "      <td>1</td>\n",
       "      <td>7.0</td>\n",
       "      <td>1.735753</td>\n",
       "    </tr>\n",
       "  </tbody>\n",
       "</table>\n",
       "</div>"
      ],
      "text/plain": [
       "          pickup_datetime  pickup_longitude  pickup_latitude  \\\n",
       "74164 2009-03-28 17:14:03         -73.99483        40.745525   \n",
       "48063 2014-05-11 17:24:02         -73.98030        40.776190   \n",
       "73757 2013-03-08 15:07:00         -73.97310        40.780320   \n",
       "\n",
       "       dropoff_longitude  dropoff_latitude  passenger_count  fare_amount  \\\n",
       "74164          -73.96762         40.792683                3         12.9   \n",
       "48063          -73.94921         40.805153                1         13.0   \n",
       "73757          -73.98011         40.765630                1          7.0   \n",
       "\n",
       "       haversine_dist  \n",
       "74164        5.718942  \n",
       "48063        4.147373  \n",
       "73757        1.735753  "
      ]
     },
     "execution_count": 16,
     "metadata": {},
     "output_type": "execute_result"
    }
   ],
   "source": [
    "def lat_longs2radians(lon1, lat1, lon2, lat2):\n",
    "    lon1, lat1, lon2, lat2 = map(np.radians, [lon1, lat1, lon2, lat2])\n",
    "    return lon1, lat1, lon2, lat2\n",
    "\n",
    "def haversine_distance(lat1, lat2, lon1, lon2):\n",
    "    \"\"\"\n",
    "    Calculate the great circle distance between two points\n",
    "    on the earth (specified in decimal degrees)\n",
    "\n",
    "    All args must be of equal length.\n",
    "\n",
    "    \"\"\"\n",
    "    lon1, lat1, lon2, lat2 = lat_longs2radians(lon1, lat1, lon2, lat2)\n",
    "    dlon = lon2 - lon1\n",
    "    dlat = lat2 - lat1\n",
    "    a = np.sin(dlat/2.0)**2 + np.cos(lat1) * np.cos(lat2) * np.sin(dlon/2.0)**2\n",
    "\n",
    "    c = 2 * np.arcsin(np.sqrt(a))\n",
    "    km = 6367 * c\n",
    "    return km\n",
    "\n",
    "# TODO: manhattan with lat lon has NOT worked - see attempt below\n",
    "# def manhattan_distance(lon1, lat1, lon2, lat2):\n",
    "#   lon1, lat1, lon2, lat2 = lat_longs2radians(lon1, lat1, lon2, lat2)\n",
    "#   dlon = np.abs(lon2 - lon1)\n",
    "#   dlat = np.abs(lat2 - lat1)\n",
    "#   return dlon + dlat\n",
    "\n",
    "df_train_temp = df_train.head(3).copy()\n",
    "df_train_temp['haversine_dist'] = haversine_distance(df_train_temp['pickup_latitude'], df_train_temp['dropoff_latitude'], \n",
    "                                                   df_train_temp['pickup_longitude'], df_train_temp['dropoff_longitude'])\n",
    "\n",
    "\n",
    "# df_train_temp['manhattan_dist'] = manhattan_distance(df_train_temp['pickup_latitude'], df_train_temp['dropoff_latitude'], \n",
    "#                                                    df_train_temp['pickup_longitude'], df_train_temp['dropoff_longitude'])\n",
    "\n",
    "df_train_temp\n"
   ]
  },
  {
   "cell_type": "code",
   "execution_count": 17,
   "metadata": {
    "colab": {},
    "colab_type": "code",
    "id": "-HfjZPIIsOqn"
   },
   "outputs": [],
   "source": [
    "# trying to convert to UTM and use traditional euclidean space to calculate manhattan BUT IT DIDN'T WORK\n",
    "\n",
    "\n",
    "\n",
    "# from pyproj import Proj, transform\n",
    "\n",
    "# inProj = Proj(init='epsg:4326')  # lat lon\n",
    "# outProj = Proj(init='epsg:3857') # UTM\n",
    "\n",
    "# lat_pickup_utm, lon_pickup_utm = transform(inProj,outProj,df_train['pickup_latitude'].values, df_train['pickup_longitude'].values)\n",
    "# lat_dropoff_utm, lon_dropoff_utm = transform(inProj,outProj,df_train['dropoff_latitude'].values, df_train['dropoff_longitude'].values)\n",
    "\n",
    "# df_train['manhattan_dist'] = np_manhattan(np.array(lat_pickup_utm), np.array(lat_dropoff_utm), \n",
    "#                                           np.array(lon_pickup_utm), np.array(lon_dropoff_utm))"
   ]
  },
  {
   "cell_type": "code",
   "execution_count": 18,
   "metadata": {
    "colab": {},
    "colab_type": "code",
    "id": "u_qHuzQIvMoY"
   },
   "outputs": [],
   "source": [
    "def pre_processing_pipeline_2(df, target_col=TARGET, \n",
    "                              pickup_latitude='pickup_latitude', dropoff_latitude='dropoff_latitude', \n",
    "                              pickup_longitude='pickup_longitude', dropoff_longitude='dropoff_longitude'):\n",
    "    EUCLIDEAN_FEAT = 'euclidean_dist'\n",
    "    HAVERSINE_FEAT = 'haversine_dist'\n",
    "    # MANHATTAN_FEAT = 'manhattan_dist'\n",
    "    FEATURES = [EUCLIDEAN_FEAT, HAVERSINE_FEAT] #, MANHATTAN_FEAT - #not returning MANHATTAN_FEAT because it's wrong\n",
    "\n",
    "    df_copy = df.copy()\n",
    "\n",
    "    df_copy[EUCLIDEAN_FEAT] = euclidean_distance(df_copy[pickup_latitude], df_copy[dropoff_latitude], \n",
    "                                              df_copy[pickup_longitude], df_copy[dropoff_longitude])\n",
    "    df_copy[HAVERSINE_FEAT] = haversine_distance(df_copy[pickup_latitude], df_copy[dropoff_latitude], \n",
    "                                              df_copy[pickup_longitude], df_copy[dropoff_longitude])\n",
    "    # df_copy[MANHATTAN_FEAT] = manhattan_distance(df_copy[pickup_latitude], df_copy[dropoff_latitude], \n",
    "    #                                         df_copy[pickup_longitude], df_copy[dropoff_longitude])\n",
    "\n",
    "    # in the EDA, we probably treat the nulls, so for now, just drop them\n",
    "    df_copy = df_copy.dropna()\n",
    "\n",
    "    df_res = standardize_features(df_copy[FEATURES])\n",
    "    df_res[target_col] = df_copy[target_col]\n",
    "    return df_res\n",
    "\n",
    "df_train_2 = pre_processing_pipeline_2(df_train)\n",
    "df_test_2 = pre_processing_pipeline_2(df_test)\n"
   ]
  },
  {
   "cell_type": "code",
   "execution_count": 19,
   "metadata": {
    "colab": {},
    "colab_type": "code",
    "id": "M7N9psNc8_XW"
   },
   "outputs": [],
   "source": [
    "model_2 = LinearRegression()\n",
    "model_2.fit(df_train_2.drop(TARGET, axis=1), df_train_2[TARGET])\n",
    "\n",
    "y_test_pred_2 = model_2.predict(df_test_2.drop(TARGET, axis=1))"
   ]
  },
  {
   "cell_type": "code",
   "execution_count": 20,
   "metadata": {
    "colab": {
     "base_uri": "https://localhost:8080/",
     "height": 298
    },
    "colab_type": "code",
    "id": "5Dt9GkRI7lzA",
    "outputId": "de61466f-04b0-47d4-882d-93233a158650"
   },
   "outputs": [
    {
     "name": "stdout",
     "output_type": "stream",
     "text": [
      "RMSE Error: 4.824386076977735\n"
     ]
    },
    {
     "data": {
      "image/png": "[encoded data removed]",
      "text/plain": [
       "<Figure size 432x288 with 1 Axes>"
      ]
     },
     "metadata": {},
     "output_type": "display_data"
    }
   ],
   "source": [
    "rmse_2 = np.sqrt(mean_squared_error(df_test_2[TARGET], y_test_pred_2))\n",
    "iteration_results['exp_2_rmse'] = rmse_2\n",
    "print(f'RMSE Error: {rmse_2}')\n",
    "\n",
    "print_evaluation(df_test_2[TARGET], y_test_pred_2, return_errors=False)"
   ]
  },
  {
   "cell_type": "code",
   "execution_count": 21,
   "metadata": {
    "colab": {
     "base_uri": "https://localhost:8080/",
     "height": 35
    },
    "colab_type": "code",
    "id": "f9xm6EBNyK4x",
    "outputId": "fef691c8-dd5c-490e-fc5c-d0e186c21159"
   },
   "outputs": [
    {
     "data": {
      "text/plain": [
       "{'exp_1_rmse': 8.248415628735593, 'exp_2_rmse': 4.824386076977735}"
      ]
     },
     "execution_count": 21,
     "metadata": {},
     "output_type": "execute_result"
    }
   ],
   "source": [
    "iteration_results"
   ]
  },
  {
   "cell_type": "markdown",
   "metadata": {
    "colab_type": "text",
    "id": "NszUYghK-Gjs"
   },
   "source": [
    "# Creating a router - OSRM Router\n",
    "\n",
    "## Setup\n",
    "\n",
    "Setting local docker image for ORSM back-end - https://hub.docker.com/r/osrm/osrm-backend/\n",
    "\n",
    "* wget http://download.geofabrik.de/north-america/us/new-york-latest.osm.pbf (file is ~200 Mb)\n",
    "\n",
    "* Move file to your project folder\n",
    "\n",
    "* docker run -t -v \"${PWD}:/data\" osrm/osrm-backend osrm-extract -p /opt/car.lua /data/new-york-latest.osm.pbf\n",
    "\n",
    "* docker run -t -v \"${PWD}:/data\" osrm/osrm-backend osrm-partition /data/new-york-latest.osm.pbf\n",
    "\n",
    "* docker run -t -v \"${PWD}:/data\" osrm/osrm-backend osrm-customize /data/new-york-latest.osm.pbf\n",
    "\n",
    "* docker run -t -i -p 5000:5000 -v \"${PWD}:/data\" osrm/osrm-backend osrm-routed --algorithm mld /data/new-york-latest.osm.pbf\n",
    "\n",
    "Example latitude longitude New York: `-73.996070,40.732605;-73.980675,40.761864`\n",
    "\n",
    "Test: `curl \"http://localhost:5000/route/v1/driving/-73.996070,40.732605;-73.980675,40.761864?steps=false&geometries=geojson&annotations=true\"`\n",
    "\n",
    "## Calculate street distances and durations"
   ]
  },
  {
   "cell_type": "code",
   "execution_count": 22,
   "metadata": {
    "colab": {},
    "colab_type": "code",
    "id": "24SDQOnJy52y"
   },
   "outputs": [
    {
     "data": {
      "text/html": [
       "<div style=\"width:100%;\"><div style=\"position:relative;width:100%;height:0;padding-bottom:60%;\"><iframe src=\"data:text/html;charset=utf-8;base64,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\" style=\"position:absolute;width:100%;height:100%;left:0;top:0;border:none !important;\" allowfullscreen webkitallowfullscreen mozallowfullscreen></iframe></div></div>"
      ],
      "text/plain": [
       "<folium.folium.Map at 0x125100940>"
      ]
     },
     "execution_count": 22,
     "metadata": {},
     "output_type": "execute_result"
    }
   ],
   "source": [
    "lat1, lon1 = 40.732605,-73.996070\n",
    "lat2, lon2 = 40.761864,-73.980675\n",
    "\n",
    "osm = OSRMFramework('localhost:5000')\n",
    "lat, lon, distance, duration, node_ids = osm.route(lat1, lon1, lat2, lon2)\n",
    "\n",
    "t = latlon2linestring(lat, lon)\n",
    "\n",
    "plot_linestring(t)"
   ]
  },
  {
   "cell_type": "code",
   "execution_count": 23,
   "metadata": {},
   "outputs": [
    {
     "data": {
      "text/html": [
       "<div>\n",
       "<style scoped>\n",
       "    .dataframe tbody tr th:only-of-type {\n",
       "        vertical-align: middle;\n",
       "    }\n",
       "\n",
       "    .dataframe tbody tr th {\n",
       "        vertical-align: top;\n",
       "    }\n",
       "\n",
       "    .dataframe thead th {\n",
       "        text-align: right;\n",
       "    }\n",
       "</style>\n",
       "<table border=\"1\" class=\"dataframe\">\n",
       "  <thead>\n",
       "    <tr style=\"text-align: right;\">\n",
       "      <th></th>\n",
       "      <th>route</th>\n",
       "      <th>distance_m</th>\n",
       "      <th>duration_sec</th>\n",
       "    </tr>\n",
       "  </thead>\n",
       "  <tbody>\n",
       "    <tr>\n",
       "      <th>74164</th>\n",
       "      <td>0    LINESTRING (-73.99483000000001 40.745525,...</td>\n",
       "      <td>7848.2</td>\n",
       "      <td>585.3</td>\n",
       "    </tr>\n",
       "    <tr>\n",
       "      <th>48063</th>\n",
       "      <td>0    LINESTRING (-73.9803 40.77619, -73.980219...</td>\n",
       "      <td>4796.8</td>\n",
       "      <td>448.6</td>\n",
       "    </tr>\n",
       "    <tr>\n",
       "      <th>73757</th>\n",
       "      <td>0    LINESTRING (-73.9731 40.78032, -73.973 40...</td>\n",
       "      <td>2163.5</td>\n",
       "      <td>229.1</td>\n",
       "    </tr>\n",
       "    <tr>\n",
       "      <th>85609</th>\n",
       "      <td>0    LINESTRING (-73.973145 40.792656, -73.973...</td>\n",
       "      <td>2511.7</td>\n",
       "      <td>194.1</td>\n",
       "    </tr>\n",
       "    <tr>\n",
       "      <th>24835</th>\n",
       "      <td>0    LINESTRING (-73.97198 40.7496, -73.971903...</td>\n",
       "      <td>2936.9</td>\n",
       "      <td>272.6</td>\n",
       "    </tr>\n",
       "  </tbody>\n",
       "</table>\n",
       "</div>"
      ],
      "text/plain": [
       "                                                   route  distance_m  \\\n",
       "74164  0    LINESTRING (-73.99483000000001 40.745525,...      7848.2   \n",
       "48063  0    LINESTRING (-73.9803 40.77619, -73.980219...      4796.8   \n",
       "73757  0    LINESTRING (-73.9731 40.78032, -73.973 40...      2163.5   \n",
       "85609  0    LINESTRING (-73.973145 40.792656, -73.973...      2511.7   \n",
       "24835  0    LINESTRING (-73.97198 40.7496, -73.971903...      2936.9   \n",
       "\n",
       "       duration_sec  \n",
       "74164         585.3  \n",
       "48063         448.6  \n",
       "73757         229.1  \n",
       "85609         194.1  \n",
       "24835         272.6  "
      ]
     },
     "execution_count": 23,
     "metadata": {},
     "output_type": "execute_result"
    }
   ],
   "source": [
    "def get_route(osm, lat1, lon1, lat2, lon2):\n",
    "    lat, lon, distance, duration, node_ids = osm.route(lat1, lon1, lat2, lon2)\n",
    "    return_col_names = ['route', 'distance_m', 'duration_sec']\n",
    "    if(type(lat) == float):\n",
    "        return pd.Series([np.nan,np.nan,np.nan], index=return_col_names)\n",
    "    else:\n",
    "        return pd.Series([latlon2linestring(lat, lon), distance, duration], index=return_col_names)\n",
    "\n",
    "routes = df_train.head().apply(lambda row: get_route(osm, \n",
    "                                            row['pickup_latitude'],\n",
    "                                            row['pickup_longitude'],\n",
    "                                            row['dropoff_latitude'],\n",
    "                                            row['dropoff_longitude']), axis=1)\n",
    "\n",
    "routes"
   ]
  },
  {
   "cell_type": "code",
   "execution_count": 24,
   "metadata": {},
   "outputs": [
    {
     "name": "stdout",
     "output_type": "stream",
     "text": [
      "CPU times: user 823 ms, sys: 88 ms, total: 911 ms\n",
      "Wall time: 866 ms\n"
     ]
    }
   ],
   "source": [
    "%%time\n",
    "\n",
    "def pre_processing_pipeline_3(df, target_col=TARGET, \n",
    "                              pickup_latitude='pickup_latitude', dropoff_latitude='dropoff_latitude', \n",
    "                              pickup_longitude='pickup_longitude', dropoff_longitude='dropoff_longitude',\n",
    "                              osm_router=OSRM_PATH,\n",
    "                              test_mode=None):\n",
    "    EUCLIDEAN_FEAT = 'euclidean_dist'\n",
    "    HAVERSINE_FEAT = 'haversine_dist'\n",
    "    # MANHATTAN_FEAT = 'manhattan_dist'\n",
    "    ROUTE_DISTANCE = 'route_distance_meters'\n",
    "    ROUTE_DURATION = 'route_duration_seconds'\n",
    "    \n",
    "    FEATURES = [EUCLIDEAN_FEAT, \n",
    "                HAVERSINE_FEAT, #, MANHATTAN_FEAT - #not returning MANHATTAN_FEAT because it's wrong\n",
    "                ROUTE_DISTANCE,\n",
    "                ROUTE_DURATION] \n",
    "\n",
    "    df_copy = df.copy()\n",
    "\n",
    "    df_copy[EUCLIDEAN_FEAT] = euclidean_distance(df_copy[pickup_latitude], df_copy[dropoff_latitude], \n",
    "                                              df_copy[pickup_longitude], df_copy[dropoff_longitude])\n",
    "    df_copy[HAVERSINE_FEAT] = haversine_distance(df_copy[pickup_latitude], df_copy[dropoff_latitude], \n",
    "                                              df_copy[pickup_longitude], df_copy[dropoff_longitude])\n",
    "    # df_copy[MANHATTAN_FEAT] = manhattan_distance(df_copy[pickup_latitude], df_copy[dropoff_latitude], \n",
    "    #                                         df_copy[pickup_longitude], df_copy[dropoff_longitude])\n",
    "    \n",
    "    if(test_mode == 'train'):                                                          # TEST MODE\n",
    "        with open('data/temp_routes_train.pickle', 'rb') as f:                         # TEST MODE\n",
    "            routes = pickle.load(f)                                                    # TEST MODE\n",
    "    elif(test_mode == 'test'):                                                         # TEST MODE\n",
    "        with open('data/temp_routes_test.pickle', 'rb') as f:                          # TEST MODE\n",
    "            routes = pickle.load(f)                                                    # TEST MODE   \n",
    "        \n",
    "#     routes = df_copy.apply(lambda row: get_route(osm, \n",
    "#                                             row['pickup_latitude'],\n",
    "#                                             row['pickup_longitude'],\n",
    "#                                             row['dropoff_latitude'],\n",
    "#                                             row['dropoff_longitude']), axis=1)\n",
    "\n",
    "#     routes['route'] = GeoSeries([elem[0] if type(elem) == GeoSeries else np.nan for elem in routes['route']], index=routes.index)\n",
    "    df_copy[ROUTE_DISTANCE] = routes['distance_m']\n",
    "    df_copy[ROUTE_DURATION] = routes['duration_sec']\n",
    "    \n",
    "    # in the EDA, we probably treat the nulls, so for now, just drop them\n",
    "    df_copy = df_copy.dropna()\n",
    "\n",
    "    df_res = standardize_features(df_copy[FEATURES])\n",
    "    df_res[target_col] = df_copy[target_col]\n",
    "    return df_res, routes\n",
    "\n",
    "df_train_3, routes_train = pre_processing_pipeline_3(df_train, test_mode='train')\n",
    "df_test_3, routes_test = pre_processing_pipeline_3(df_test, test_mode='test')\n",
    "\n",
    "\n",
    "##### Save locally when executting OSRM\n",
    "# with open('data/temp_routes_train.pickle', 'wb') as f:\n",
    "#     pickle.dump(routes_train, f)\n",
    "    \n",
    "# with open('data/temp_routes_test.pickle', 'wb') as f:\n",
    "#     pickle.dump(routes_test, f)"
   ]
  },
  {
   "cell_type": "code",
   "execution_count": 25,
   "metadata": {},
   "outputs": [],
   "source": [
    "model_3 = LinearRegression()\n",
    "model_3.fit(df_train_3.drop(TARGET, axis=1), df_train_3[TARGET])\n",
    "y_test_pred_3 = model_3.predict(df_test_3.drop(TARGET, axis=1))\n"
   ]
  },
  {
   "cell_type": "code",
   "execution_count": 26,
   "metadata": {
    "scrolled": false
   },
   "outputs": [
    {
     "name": "stdout",
     "output_type": "stream",
     "text": [
      "RMSE Error: 4.6630417979918555\n"
     ]
    },
    {
     "data": {
      "image/png": "[encoded data removed]",
      "text/plain": [
       "<Figure size 432x288 with 1 Axes>"
      ]
     },
     "metadata": {},
     "output_type": "display_data"
    }
   ],
   "source": [
    "#####\n",
    "rmse_3 = np.sqrt(mean_squared_error(df_test_3[TARGET], y_test_pred_3))\n",
    "iteration_results['exp_3_rmse'] = rmse_3\n",
    "print(f'RMSE Error: {rmse_3}')\n",
    "\n",
    "print_evaluation(df_test_3[TARGET], y_test_pred_3, return_errors=False)\n",
    "plt.xlim([0, 50]);"
   ]
  },
  {
   "cell_type": "code",
   "execution_count": 27,
   "metadata": {},
   "outputs": [
    {
     "data": {
      "text/plain": [
       "{'exp_1_rmse': 8.248415628735593,\n",
       " 'exp_2_rmse': 4.824386076977735,\n",
       " 'exp_3_rmse': 4.6630417979918555}"
      ]
     },
     "execution_count": 27,
     "metadata": {},
     "output_type": "execute_result"
    }
   ],
   "source": [
    "iteration_results"
   ]
  },
  {
   "cell_type": "markdown",
   "metadata": {},
   "source": [
    "# 2nd Exploratory Analysis\n",
    "\n",
    "## Check why we have some route distance == 0"
   ]
  },
  {
   "cell_type": "code",
   "execution_count": 28,
   "metadata": {},
   "outputs": [
    {
     "data": {
      "text/html": [
       "<div>\n",
       "<style scoped>\n",
       "    .dataframe tbody tr th:only-of-type {\n",
       "        vertical-align: middle;\n",
       "    }\n",
       "\n",
       "    .dataframe tbody tr th {\n",
       "        vertical-align: top;\n",
       "    }\n",
       "\n",
       "    .dataframe thead th {\n",
       "        text-align: right;\n",
       "    }\n",
       "</style>\n",
       "<table border=\"1\" class=\"dataframe\">\n",
       "  <thead>\n",
       "    <tr style=\"text-align: right;\">\n",
       "      <th></th>\n",
       "      <th>euclidean_dist</th>\n",
       "      <th>haversine_dist</th>\n",
       "      <th>route_distance_meters</th>\n",
       "      <th>route_duration_seconds</th>\n",
       "      <th>fare_amount_x</th>\n",
       "      <th>pickup_datetime</th>\n",
       "      <th>pickup_longitude</th>\n",
       "      <th>pickup_latitude</th>\n",
       "      <th>dropoff_longitude</th>\n",
       "      <th>dropoff_latitude</th>\n",
       "      <th>passenger_count</th>\n",
       "      <th>fare_amount_y</th>\n",
       "      <th>route_distance_km</th>\n",
       "    </tr>\n",
       "  </thead>\n",
       "  <tbody>\n",
       "    <tr>\n",
       "      <th>39479</th>\n",
       "      <td>0.903316</td>\n",
       "      <td>-1.000831</td>\n",
       "      <td>-0.997808</td>\n",
       "      <td>-1.38656</td>\n",
       "      <td>4.0</td>\n",
       "      <td>2012-10-22 21:02:44</td>\n",
       "      <td>-73.982330</td>\n",
       "      <td>40.774227</td>\n",
       "      <td>-73.982330</td>\n",
       "      <td>40.774227</td>\n",
       "      <td>1</td>\n",
       "      <td>4.0</td>\n",
       "      <td>0.0</td>\n",
       "    </tr>\n",
       "    <tr>\n",
       "      <th>79577</th>\n",
       "      <td>-0.558625</td>\n",
       "      <td>-1.000831</td>\n",
       "      <td>-0.997808</td>\n",
       "      <td>-1.38656</td>\n",
       "      <td>3.5</td>\n",
       "      <td>2012-09-13 01:13:00</td>\n",
       "      <td>-73.987640</td>\n",
       "      <td>40.721405</td>\n",
       "      <td>-73.987640</td>\n",
       "      <td>40.721405</td>\n",
       "      <td>6</td>\n",
       "      <td>3.5</td>\n",
       "      <td>0.0</td>\n",
       "    </tr>\n",
       "    <tr>\n",
       "      <th>16534</th>\n",
       "      <td>0.020804</td>\n",
       "      <td>-1.000831</td>\n",
       "      <td>-0.997808</td>\n",
       "      <td>-1.38656</td>\n",
       "      <td>6.5</td>\n",
       "      <td>2014-01-30 20:36:42</td>\n",
       "      <td>-73.996640</td>\n",
       "      <td>40.731236</td>\n",
       "      <td>-73.996640</td>\n",
       "      <td>40.731236</td>\n",
       "      <td>1</td>\n",
       "      <td>6.5</td>\n",
       "      <td>0.0</td>\n",
       "    </tr>\n",
       "    <tr>\n",
       "      <th>95731</th>\n",
       "      <td>0.431921</td>\n",
       "      <td>-1.000831</td>\n",
       "      <td>-0.997808</td>\n",
       "      <td>-1.38656</td>\n",
       "      <td>5.7</td>\n",
       "      <td>2012-07-27 19:41:00</td>\n",
       "      <td>-73.986030</td>\n",
       "      <td>40.755207</td>\n",
       "      <td>-73.986030</td>\n",
       "      <td>40.755207</td>\n",
       "      <td>1</td>\n",
       "      <td>5.7</td>\n",
       "      <td>0.0</td>\n",
       "    </tr>\n",
       "    <tr>\n",
       "      <th>55237</th>\n",
       "      <td>0.581432</td>\n",
       "      <td>-1.000831</td>\n",
       "      <td>-0.997808</td>\n",
       "      <td>-1.38656</td>\n",
       "      <td>15.5</td>\n",
       "      <td>2013-07-18 11:04:00</td>\n",
       "      <td>-73.986626</td>\n",
       "      <td>40.759470</td>\n",
       "      <td>-73.986626</td>\n",
       "      <td>40.759470</td>\n",
       "      <td>3</td>\n",
       "      <td>15.5</td>\n",
       "      <td>0.0</td>\n",
       "    </tr>\n",
       "  </tbody>\n",
       "</table>\n",
       "</div>"
      ],
      "text/plain": [
       "       euclidean_dist  haversine_dist  route_distance_meters  \\\n",
       "39479        0.903316       -1.000831              -0.997808   \n",
       "79577       -0.558625       -1.000831              -0.997808   \n",
       "16534        0.020804       -1.000831              -0.997808   \n",
       "95731        0.431921       -1.000831              -0.997808   \n",
       "55237        0.581432       -1.000831              -0.997808   \n",
       "\n",
       "       route_duration_seconds  fare_amount_x     pickup_datetime  \\\n",
       "39479                -1.38656            4.0 2012-10-22 21:02:44   \n",
       "79577                -1.38656            3.5 2012-09-13 01:13:00   \n",
       "16534                -1.38656            6.5 2014-01-30 20:36:42   \n",
       "95731                -1.38656            5.7 2012-07-27 19:41:00   \n",
       "55237                -1.38656           15.5 2013-07-18 11:04:00   \n",
       "\n",
       "       pickup_longitude  pickup_latitude  dropoff_longitude  dropoff_latitude  \\\n",
       "39479        -73.982330        40.774227         -73.982330         40.774227   \n",
       "79577        -73.987640        40.721405         -73.987640         40.721405   \n",
       "16534        -73.996640        40.731236         -73.996640         40.731236   \n",
       "95731        -73.986030        40.755207         -73.986030         40.755207   \n",
       "55237        -73.986626        40.759470         -73.986626         40.759470   \n",
       "\n",
       "       passenger_count  fare_amount_y  route_distance_km  \n",
       "39479                1            4.0                0.0  \n",
       "79577                6            3.5                0.0  \n",
       "16534                1            6.5                0.0  \n",
       "95731                1            5.7                0.0  \n",
       "55237                3           15.5                0.0  "
      ]
     },
     "metadata": {},
     "output_type": "display_data"
    }
   ],
   "source": [
    "df_train_3_analysis = df_train_3.merge(df_train, how='left', left_index=True, right_index=True)\n",
    "\n",
    "df_train_3_analysis['route_distance_km'] = routes_train['distance_m']/1000\n",
    "display(df_train_3_analysis.loc[df_train_3_analysis['route_distance_km'] == 0].head()) # PROBLEM pickup == dropoff\n",
    "\n",
    "##########################################################\n",
    "### Filter where pick up and drop off are the same\n",
    "##########################################################\n",
    "\n",
    "\n",
    "# df_train = df_train.loc[(df_train['pickup_latitude'] != df_train['dropoff_latitude']) & \n",
    "#                         (df_train['pickup_longitude'] != df_train['dropoff_longitude'])]\n"
   ]
  },
  {
   "cell_type": "markdown",
   "metadata": {},
   "source": [
    "## Some leftover routes still have route_distance == 0, investigate"
   ]
  },
  {
   "cell_type": "code",
   "execution_count": 29,
   "metadata": {},
   "outputs": [
    {
     "data": {
      "text/html": [
       "<div>\n",
       "<style scoped>\n",
       "    .dataframe tbody tr th:only-of-type {\n",
       "        vertical-align: middle;\n",
       "    }\n",
       "\n",
       "    .dataframe tbody tr th {\n",
       "        vertical-align: top;\n",
       "    }\n",
       "\n",
       "    .dataframe thead th {\n",
       "        text-align: right;\n",
       "    }\n",
       "</style>\n",
       "<table border=\"1\" class=\"dataframe\">\n",
       "  <thead>\n",
       "    <tr style=\"text-align: right;\">\n",
       "      <th></th>\n",
       "      <th>euclidean_dist</th>\n",
       "      <th>haversine_dist</th>\n",
       "      <th>route_distance_meters</th>\n",
       "      <th>route_duration_seconds</th>\n",
       "      <th>fare_amount_x</th>\n",
       "      <th>pickup_datetime</th>\n",
       "      <th>pickup_longitude</th>\n",
       "      <th>pickup_latitude</th>\n",
       "      <th>dropoff_longitude</th>\n",
       "      <th>dropoff_latitude</th>\n",
       "      <th>passenger_count</th>\n",
       "      <th>fare_amount_y</th>\n",
       "      <th>route_distance_km</th>\n",
       "      <th>distances</th>\n",
       "    </tr>\n",
       "  </thead>\n",
       "  <tbody>\n",
       "    <tr>\n",
       "      <th>39479</th>\n",
       "      <td>0.903316</td>\n",
       "      <td>-1.000831</td>\n",
       "      <td>-0.997808</td>\n",
       "      <td>-1.38656</td>\n",
       "      <td>4.0</td>\n",
       "      <td>2012-10-22 21:02:44</td>\n",
       "      <td>-73.982330</td>\n",
       "      <td>40.774227</td>\n",
       "      <td>-73.982330</td>\n",
       "      <td>40.774227</td>\n",
       "      <td>1</td>\n",
       "      <td>4.0</td>\n",
       "      <td>0.0</td>\n",
       "      <td>0.0</td>\n",
       "    </tr>\n",
       "    <tr>\n",
       "      <th>79577</th>\n",
       "      <td>-0.558625</td>\n",
       "      <td>-1.000831</td>\n",
       "      <td>-0.997808</td>\n",
       "      <td>-1.38656</td>\n",
       "      <td>3.5</td>\n",
       "      <td>2012-09-13 01:13:00</td>\n",
       "      <td>-73.987640</td>\n",
       "      <td>40.721405</td>\n",
       "      <td>-73.987640</td>\n",
       "      <td>40.721405</td>\n",
       "      <td>6</td>\n",
       "      <td>3.5</td>\n",
       "      <td>0.0</td>\n",
       "      <td>0.0</td>\n",
       "    </tr>\n",
       "    <tr>\n",
       "      <th>16534</th>\n",
       "      <td>0.020804</td>\n",
       "      <td>-1.000831</td>\n",
       "      <td>-0.997808</td>\n",
       "      <td>-1.38656</td>\n",
       "      <td>6.5</td>\n",
       "      <td>2014-01-30 20:36:42</td>\n",
       "      <td>-73.996640</td>\n",
       "      <td>40.731236</td>\n",
       "      <td>-73.996640</td>\n",
       "      <td>40.731236</td>\n",
       "      <td>1</td>\n",
       "      <td>6.5</td>\n",
       "      <td>0.0</td>\n",
       "      <td>0.0</td>\n",
       "    </tr>\n",
       "    <tr>\n",
       "      <th>95731</th>\n",
       "      <td>0.431921</td>\n",
       "      <td>-1.000831</td>\n",
       "      <td>-0.997808</td>\n",
       "      <td>-1.38656</td>\n",
       "      <td>5.7</td>\n",
       "      <td>2012-07-27 19:41:00</td>\n",
       "      <td>-73.986030</td>\n",
       "      <td>40.755207</td>\n",
       "      <td>-73.986030</td>\n",
       "      <td>40.755207</td>\n",
       "      <td>1</td>\n",
       "      <td>5.7</td>\n",
       "      <td>0.0</td>\n",
       "      <td>0.0</td>\n",
       "    </tr>\n",
       "    <tr>\n",
       "      <th>55237</th>\n",
       "      <td>0.581432</td>\n",
       "      <td>-1.000831</td>\n",
       "      <td>-0.997808</td>\n",
       "      <td>-1.38656</td>\n",
       "      <td>15.5</td>\n",
       "      <td>2013-07-18 11:04:00</td>\n",
       "      <td>-73.986626</td>\n",
       "      <td>40.759470</td>\n",
       "      <td>-73.986626</td>\n",
       "      <td>40.759470</td>\n",
       "      <td>3</td>\n",
       "      <td>15.5</td>\n",
       "      <td>0.0</td>\n",
       "      <td>0.0</td>\n",
       "    </tr>\n",
       "  </tbody>\n",
       "</table>\n",
       "</div>"
      ],
      "text/plain": [
       "       euclidean_dist  haversine_dist  route_distance_meters  \\\n",
       "39479        0.903316       -1.000831              -0.997808   \n",
       "79577       -0.558625       -1.000831              -0.997808   \n",
       "16534        0.020804       -1.000831              -0.997808   \n",
       "95731        0.431921       -1.000831              -0.997808   \n",
       "55237        0.581432       -1.000831              -0.997808   \n",
       "\n",
       "       route_duration_seconds  fare_amount_x     pickup_datetime  \\\n",
       "39479                -1.38656            4.0 2012-10-22 21:02:44   \n",
       "79577                -1.38656            3.5 2012-09-13 01:13:00   \n",
       "16534                -1.38656            6.5 2014-01-30 20:36:42   \n",
       "95731                -1.38656            5.7 2012-07-27 19:41:00   \n",
       "55237                -1.38656           15.5 2013-07-18 11:04:00   \n",
       "\n",
       "       pickup_longitude  pickup_latitude  dropoff_longitude  dropoff_latitude  \\\n",
       "39479        -73.982330        40.774227         -73.982330         40.774227   \n",
       "79577        -73.987640        40.721405         -73.987640         40.721405   \n",
       "16534        -73.996640        40.731236         -73.996640         40.731236   \n",
       "95731        -73.986030        40.755207         -73.986030         40.755207   \n",
       "55237        -73.986626        40.759470         -73.986626         40.759470   \n",
       "\n",
       "       passenger_count  fare_amount_y  route_distance_km  distances  \n",
       "39479                1            4.0                0.0        0.0  \n",
       "79577                6            3.5                0.0        0.0  \n",
       "16534                1            6.5                0.0        0.0  \n",
       "95731                1            5.7                0.0        0.0  \n",
       "55237                3           15.5                0.0        0.0  "
      ]
     },
     "execution_count": 29,
     "metadata": {},
     "output_type": "execute_result"
    }
   ],
   "source": [
    "df_train_3_analysis = df_train_3_analysis.loc[df_train.index]\n",
    "\n",
    "df_train_3_analysis['distances'] = haversine_distance(df_train_3_analysis['pickup_latitude'], df_train_3_analysis['dropoff_latitude'],\n",
    "                               df_train_3_analysis['pickup_longitude'], df_train_3_analysis['dropoff_longitude'])\n",
    "\n",
    "df_train_3_analysis.loc[df_train_3_analysis['route_distance_km'] == 0].head() ### ?? - ~65 examples\n",
    "\n",
    "##########################################################\n",
    "### Filter where route_distance == 0 for next iteration###\n",
    "##########################################################\n",
    "\n"
   ]
  },
  {
   "cell_type": "markdown",
   "metadata": {},
   "source": [
    "## Check price per kilometer"
   ]
  },
  {
   "cell_type": "code",
   "execution_count": 30,
   "metadata": {},
   "outputs": [
    {
     "data": {
      "text/plain": [
       "count     76347.000000\n",
       "mean         65.618609\n",
       "std        4399.558466\n",
       "min           0.140470\n",
       "50%           2.862484\n",
       "90%           4.826571\n",
       "95%           5.863738\n",
       "99%          11.023648\n",
       "max      498000.000000\n",
       "dtype: float64"
      ]
     },
     "metadata": {},
     "output_type": "display_data"
    }
   ],
   "source": [
    "temp = df_train_3_analysis.loc[df_train_3_analysis['route_distance_km'] != 0]\n",
    "\n",
    "price_km = temp['fare_amount_y']/temp['route_distance_km']\n",
    "display(price_km.describe(percentiles=[.9, .95, .99]))\n",
    "\n",
    "##########################################################\n",
    "### Filter where price per km > 5 - 95th percentile    ###\n",
    "##########################################################\n",
    "\n",
    "\n",
    "# df_train = df_train.loc[price_km < 5]"
   ]
  },
  {
   "cell_type": "markdown",
   "metadata": {},
   "source": [
    "# Embed taxi rules - https://www1.nyc.gov/site/tlc/passengers/taxi-fare.page"
   ]
  },
  {
   "cell_type": "code",
   "execution_count": null,
   "metadata": {},
   "outputs": [],
   "source": []
  },
  {
   "cell_type": "markdown",
   "metadata": {},
   "source": [
    "# Embed Nearest neighboors fares"
   ]
  },
  {
   "cell_type": "code",
   "execution_count": 31,
   "metadata": {},
   "outputs": [],
   "source": [
    "# TODO: Show small example as previous pipelines"
   ]
  },
  {
   "cell_type": "code",
   "execution_count": 32,
   "metadata": {},
   "outputs": [
    {
     "name": "stdout",
     "output_type": "stream",
     "text": [
      "CPU times: user 3.11 s, sys: 90.2 ms, total: 3.2 s\n",
      "Wall time: 3.16 s\n"
     ]
    }
   ],
   "source": [
    "%%time\n",
    "\n",
    "def pre_processing_pipeline_4(df, target_col=TARGET, \n",
    "                              pickup_latitude='pickup_latitude', dropoff_latitude='dropoff_latitude', \n",
    "                              pickup_longitude='pickup_longitude', dropoff_longitude='dropoff_longitude',\n",
    "                              pickup_datetime_col='pickup_datetime',\n",
    "                              osm_router=OSRM_PATH,\n",
    "                              nn_avg_fare_model=None,\n",
    "                              test_mode=None):\n",
    "    EUCLIDEAN_FEAT = 'euclidean_dist'\n",
    "    HAVERSINE_FEAT = 'haversine_dist'\n",
    "    # MANHATTAN_FEAT = 'manhattan_dist'\n",
    "    ROUTE_DISTANCE = 'route_distance_meters'\n",
    "    ROUTE_DURATION = 'route_duration_seconds'\n",
    "    NN_AVG_FARE = 'nn_avg_fare'\n",
    "    \n",
    "    FEATURES = [EUCLIDEAN_FEAT, \n",
    "                HAVERSINE_FEAT, #, MANHATTAN_FEAT - #not returning MANHATTAN_FEAT because it's wrong\n",
    "                ROUTE_DISTANCE,\n",
    "                ROUTE_DURATION,\n",
    "                NN_AVG_FARE] \n",
    "\n",
    "    df_copy = df.copy()\n",
    "\n",
    "    df_copy[EUCLIDEAN_FEAT] = euclidean_distance(df_copy[pickup_latitude], df_copy[dropoff_latitude], \n",
    "                                              df_copy[pickup_longitude], df_copy[dropoff_longitude])\n",
    "    df_copy[HAVERSINE_FEAT] = haversine_distance(df_copy[pickup_latitude], df_copy[dropoff_latitude], \n",
    "                                              df_copy[pickup_longitude], df_copy[dropoff_longitude])\n",
    "    # df_copy[MANHATTAN_FEAT] = manhattan_distance(df_copy[pickup_latitude], df_copy[dropoff_latitude], \n",
    "    #                                         df_copy[pickup_longitude], df_copy[dropoff_longitude])\n",
    "    \n",
    "    if(test_mode == 'train'):                                                          # TEST MODE\n",
    "        with open('data/temp_routes_train.pickle', 'rb') as f:                         # TEST MODE\n",
    "            routes = pickle.load(f)                                                    # TEST MODE\n",
    "    elif(test_mode == 'test'):                                                         # TEST MODE\n",
    "        with open('data/temp_routes_test.pickle', 'rb') as f:                          # TEST MODE\n",
    "            routes = pickle.load(f)                                                    # TEST MODE   \n",
    "        \n",
    "#     routes = df_copy.apply(lambda row: get_route(osm, \n",
    "#                                             row['pickup_latitude'],\n",
    "#                                             row['pickup_longitude'],\n",
    "#                                             row['dropoff_latitude'],\n",
    "#                                             row['dropoff_longitude']), axis=1)\n",
    "\n",
    "#     routes['route'] = GeoSeries([elem[0] if type(elem) == GeoSeries else np.nan for elem in routes['route']], index=routes.index)\n",
    "    df_copy[ROUTE_DISTANCE] = routes['distance_m']\n",
    "    df_copy[ROUTE_DURATION] = routes['duration_sec']\n",
    "    \n",
    "    ###### Outliers Filtering\n",
    "    # in the EDA, we probably treat the nulls, so for now, just drop them\n",
    "    df_copy = df_copy.dropna()\n",
    "    \n",
    "    df_copy = df_copy.loc[df_copy[ROUTE_DISTANCE] != 0].copy()\n",
    "    \n",
    "    price_per_km = df_copy[target_col]/(df_copy[ROUTE_DISTANCE]/1000)\n",
    "    df_copy = df_copy.loc[price_per_km < 5].copy()\n",
    "    ######\n",
    "    \n",
    "    ###### prepare for NN avg fare model\n",
    "    minutes_since_monday_midnight = 'minutes_since_monday_midnight'\n",
    "    df_copy[minutes_since_monday_midnight] = df_copy[pickup_datetime_col].dt.dayofweek * (24*60) + \\\n",
    "                                               df_copy[pickup_datetime_col].dt.hour * 60 + \\\n",
    "                                               df_copy[pickup_datetime_col].dt.minute\n",
    "    \n",
    "    \n",
    "    nn_features = [pickup_latitude, pickup_longitude, \n",
    "                       dropoff_latitude, dropoff_longitude, \n",
    "                       minutes_since_monday_midnight]\n",
    "    nn_data = standardize_features(df_copy[nn_features])\n",
    "    nn_data[target_col] = df_copy[target_col]\n",
    "    if(test_mode == 'train'):\n",
    "        nn_avg_fare_model = KNeighborsRegressor(n_neighbors=10)\n",
    "        nn_avg_fare_model.fit(nn_data.drop(target_col, axis=1), nn_data[target_col])\n",
    "    df_copy[NN_AVG_FARE] = nn_avg_fare_model.predict(nn_data.drop(target_col, axis=1))  \n",
    "    ######\n",
    "    \n",
    "    df_res = standardize_features(df_copy[FEATURES])\n",
    "    df_res[target_col] = df_copy[target_col]\n",
    "    \n",
    "    return df_res, routes, nn_avg_fare_model\n",
    "\n",
    "df_train_4, routes_train, nn_avg_fare_model = pre_processing_pipeline_4(df_train, test_mode='train')\n",
    "df_test_4, routes_test, nn_avg_fare_model = pre_processing_pipeline_4(df_test, test_mode='test', nn_avg_fare_model=nn_avg_fare_model)\n"
   ]
  },
  {
   "cell_type": "code",
   "execution_count": 33,
   "metadata": {},
   "outputs": [],
   "source": [
    "model_4 = LinearRegression()\n",
    "model_4.fit(df_train_4.drop(TARGET, axis=1), df_train_4[TARGET])\n",
    "y_test_pred_4 = model_4.predict(df_test_4.drop(TARGET, axis=1))\n"
   ]
  },
  {
   "cell_type": "code",
   "execution_count": 34,
   "metadata": {
    "scrolled": false
   },
   "outputs": [
    {
     "name": "stdout",
     "output_type": "stream",
     "text": [
      "RMSE Error: 3.7109259812416995\n"
     ]
    },
    {
     "data": {
      "image/png": "[encoded data removed]",
      "text/plain": [
       "<Figure size 432x288 with 1 Axes>"
      ]
     },
     "metadata": {},
     "output_type": "display_data"
    }
   ],
   "source": [
    "#####\n",
    "rmse_4 = np.sqrt(mean_squared_error(df_test_4[TARGET], y_test_pred_4))\n",
    "iteration_results['exp_4_rmse'] = rmse_4\n",
    "print(f'RMSE Error: {rmse_4}')\n",
    "\n",
    "print_evaluation(df_test_4[TARGET], y_test_pred_4, return_errors=False)\n",
    "plt.xlim([0, 50]);"
   ]
  },
  {
   "cell_type": "code",
   "execution_count": 35,
   "metadata": {},
   "outputs": [
    {
     "data": {
      "text/plain": [
       "{'exp_1_rmse': 8.248415628735593,\n",
       " 'exp_2_rmse': 4.824386076977735,\n",
       " 'exp_3_rmse': 4.6630417979918555,\n",
       " 'exp_4_rmse': 3.7109259812416995}"
      ]
     },
     "execution_count": 35,
     "metadata": {},
     "output_type": "execute_result"
    }
   ],
   "source": [
    "iteration_results"
   ]
  },
  {
   "cell_type": "code",
   "execution_count": null,
   "metadata": {},
   "outputs": [],
   "source": []
  }
 ],
 "metadata": {
  "colab": {
   "collapsed_sections": [],
   "name": "AMLD_2020.ipynb",
   "provenance": []
  },
  "hide_input": false,
  "kernelspec": {
   "display_name": "Python 3",
   "language": "python",
   "name": "python3"
  },
  "language_info": {
   "codemirror_mode": {
    "name": "ipython",
    "version": 3
   },
   "file_extension": ".py",
   "mimetype": "text/x-python",
   "name": "python",
   "nbconvert_exporter": "python",
   "pygments_lexer": "ipython3",
   "version": "3.6.4"
  },
  "toc": {
   "base_numbering": 1,
   "nav_menu": {},
   "number_sections": true,
   "sideBar": true,
   "skip_h1_title": false,
   "title_cell": "Table of Contents",
   "title_sidebar": "Contents",
   "toc_cell": false,
   "toc_position": {},
   "toc_section_display": true,
   "toc_window_display": false
  }
 },
 "nbformat": 4,
 "nbformat_minor": 1
}
