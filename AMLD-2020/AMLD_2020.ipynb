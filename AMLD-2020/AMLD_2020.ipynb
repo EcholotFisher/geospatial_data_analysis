{
 "cells": [
  {
   "cell_type": "markdown",
   "metadata": {
    "colab_type": "text",
    "id": "jzbMDeGmIsjq"
   },
   "source": [
    "# Intro / Goals / Context\n",
    "\n",
    "\n",
    "## Goal: \n",
    "\n",
    "Predict the fare of taxi tours\n",
    "\n",
    "Is this a meaningful goal, or some placeholder task to do something?\n",
    "\n",
    "## Question to Public:\n",
    "\n",
    "\" What kind of feature do you think necessary to have?\"\n",
    "\n",
    "\" Why is this a datascience question?\"\n",
    "\n",
    "  - Uncertainty about the driver\n",
    "\n",
    "\n",
    "# Motivation for the workshop?\n",
    "\n",
    "\n",
    "What makes spatial data special? \n",
    "What kind of novel problems we face by working with spatial data?\n",
    "\n",
    "    \n",
    "    * COMPUTING DISTANCES: understand the spatial data properties (e.g. lat/lon, geodesical view)\n",
    "    \n",
    "    * being able to VISUALISE these datasets\n",
    "        * plot heat maps on geographical backgrounds\n",
    "        \n",
    "    * ROUNDING must respect the architecture of the city, roads and building (example: route tracing should turn around the buildings).\n",
    "    \n",
    "    \n",
    "    \n",
    "# Modelling\n",
    "\n",
    "## Get data and make exploratory plots to clean it.\n",
    "\n",
    "* Use Kepler on cleaned data and develop a nice intuition.\n",
    "\n",
    "## Baseline Model 00 (SO + CM)\n",
    "\n",
    "* Explain Euclidean distance\n",
    "* predict fare using the Euclidean distance\n",
    "    Fare ~ 1 + EuclideanDistance\n",
    "* Discuss what is the problem with the Euclidean distance.\n",
    "    * TEACHING: Different types of distances\n",
    "    * Have function definitions for different types of distances, explain code.\n",
    "* Run the same model with different types of distances, and evaluate how much better the model becomes...\n",
    "    Fare ~ 1 + X_Distance\n",
    "    \n",
    "## Updated Model 01 (EJ)\n",
    "\n",
    "* use H3 hexagones as categorical features with the idea of capturing systematic variations in locations e.g. center of the city being more busy in general in comparison to a tour along the periphery of the city.\n",
    "\n",
    "\n",
    "* demand within an hexagon.\n",
    "\n",
    "\n",
    "## Updated Model 02 \n",
    "\n",
    "* Daily seasonality: hour of the day as a feature with the idea \n",
    "    \n",
    "    \n",
    "## Updated Model 03 (CM)\n",
    "\n",
    "Use https://osmcode.org/pyosmium/ to get route features.\n",
    "\n",
    "* Get features from the route between pickup and dropoff\n",
    "  ** # of traffic lights\n",
    "  ** Allowed speed limit\n",
    "  ** Number of lanes\n",
    "  ** Number of hard lefts\n",
    "\n",
    "\n",
    "## DISCUSSION\n",
    "\n",
    "how to incorporate traffic information?\n",
    "\n",
    "\n",
    "# (QUESTIONS for us) /\n",
    "\n",
    "* do we want to train the model on all train data: Memory considerations\n",
    "\n",
    "\n",
    "* Why is this task meaningful? \n",
    "    ** A simple rule is generating these data, why do we need data science to recover a known rule?\n",
    "    \n",
    "    ** how is what we want to do different than applying the rule that generates taxi fares?\n",
    "    \n",
    "    \n",
    "* Are we going to train the model on the fly? If so, how long does it to fit it to 50 millions data points.\n",
    "\n",
    "\n",
    "    "
   ]
  },
  {
   "cell_type": "code",
   "execution_count": 0,
   "metadata": {
    "colab": {
     "base_uri": "https://localhost:8080/",
     "height": 35
    },
    "colab_type": "code",
    "id": "ASafcNAFtY3D",
    "outputId": "4ec0741f-1afe-46f4-c404-52b7d0ae8401"
   },
   "outputs": [
    {
     "name": "stdout",
     "output_type": "stream",
     "text": [
      "Requirement already satisfied: pyproj in /usr/local/lib/python3.6/dist-packages (2.4.0)\n"
     ]
    }
   ],
   "source": [
    "# %pip install pyproj"
   ]
  },
  {
   "cell_type": "code",
   "execution_count": 24,
   "metadata": {
    "colab": {},
    "colab_type": "code",
    "id": "OxsTPZphD2ol"
   },
   "outputs": [],
   "source": [
    "# libraries\n",
    "\n",
    "import pandas as pd\n",
    "from sklearn.model_selection import train_test_split\n",
    "from sklearn.linear_model import LinearRegression\n",
    "from sklearn.metrics import mean_absolute_error\n",
    "import matplotlib.pyplot as plt\n",
    "import numpy as np\n",
    "from scipy.spatial.distance import cdist\n",
    "from sklearn.preprocessing import StandardScaler\n",
    "\n",
    "from utils.osrm_router.OSRMFramework import OSRMFramework\n",
    "from utils.visualisation.lines import plot_linestring\n",
    "\n",
    "###### constants\n",
    "TARGET = 'fare_amount'\n",
    "OSRM_PATH = 'localhost:5000'\n"
   ]
  },
  {
   "cell_type": "code",
   "execution_count": 2,
   "metadata": {
    "colab": {
     "base_uri": "https://localhost:8080/",
     "height": 336
    },
    "colab_type": "code",
    "id": "1SLycpVN9BM-",
    "outputId": "1855cfed-4c48-4817-9b74-6e8b04d7ce40"
   },
   "outputs": [
    {
     "data": {
      "text/html": [
       "<div>\n",
       "<style scoped>\n",
       "    .dataframe tbody tr th:only-of-type {\n",
       "        vertical-align: middle;\n",
       "    }\n",
       "\n",
       "    .dataframe tbody tr th {\n",
       "        vertical-align: top;\n",
       "    }\n",
       "\n",
       "    .dataframe thead th {\n",
       "        text-align: right;\n",
       "    }\n",
       "</style>\n",
       "<table border=\"1\" class=\"dataframe\">\n",
       "  <thead>\n",
       "    <tr style=\"text-align: right;\">\n",
       "      <th></th>\n",
       "      <th>fare_amount</th>\n",
       "      <th>pickup_datetime</th>\n",
       "      <th>pickup_longitude</th>\n",
       "      <th>pickup_latitude</th>\n",
       "      <th>dropoff_longitude</th>\n",
       "      <th>dropoff_latitude</th>\n",
       "      <th>passenger_count</th>\n",
       "    </tr>\n",
       "  </thead>\n",
       "  <tbody>\n",
       "    <tr>\n",
       "      <th>0</th>\n",
       "      <td>8.1</td>\n",
       "      <td>2009-01-23 07:28:00</td>\n",
       "      <td>-73.996070</td>\n",
       "      <td>40.732605</td>\n",
       "      <td>-73.980675</td>\n",
       "      <td>40.761864</td>\n",
       "      <td>1</td>\n",
       "    </tr>\n",
       "    <tr>\n",
       "      <th>1</th>\n",
       "      <td>9.0</td>\n",
       "      <td>2014-01-04 21:11:00</td>\n",
       "      <td>-73.977640</td>\n",
       "      <td>40.752346</td>\n",
       "      <td>-73.970390</td>\n",
       "      <td>40.768867</td>\n",
       "      <td>2</td>\n",
       "    </tr>\n",
       "    <tr>\n",
       "      <th>2</th>\n",
       "      <td>6.5</td>\n",
       "      <td>2015-06-22 01:54:24</td>\n",
       "      <td>-74.000080</td>\n",
       "      <td>40.728610</td>\n",
       "      <td>-73.988730</td>\n",
       "      <td>40.722170</td>\n",
       "      <td>6</td>\n",
       "    </tr>\n",
       "    <tr>\n",
       "      <th>3</th>\n",
       "      <td>4.5</td>\n",
       "      <td>2010-11-24 12:46:52</td>\n",
       "      <td>-73.962685</td>\n",
       "      <td>40.775646</td>\n",
       "      <td>-73.957436</td>\n",
       "      <td>40.777767</td>\n",
       "      <td>1</td>\n",
       "    </tr>\n",
       "    <tr>\n",
       "      <th>4</th>\n",
       "      <td>4.5</td>\n",
       "      <td>2011-11-01 02:19:34</td>\n",
       "      <td>-73.996300</td>\n",
       "      <td>40.753600</td>\n",
       "      <td>-73.998800</td>\n",
       "      <td>40.761100</td>\n",
       "      <td>1</td>\n",
       "    </tr>\n",
       "  </tbody>\n",
       "</table>\n",
       "</div>"
      ],
      "text/plain": [
       "   fare_amount     pickup_datetime  pickup_longitude  pickup_latitude  \\\n",
       "0          8.1 2009-01-23 07:28:00        -73.996070        40.732605   \n",
       "1          9.0 2014-01-04 21:11:00        -73.977640        40.752346   \n",
       "2          6.5 2015-06-22 01:54:24        -74.000080        40.728610   \n",
       "3          4.5 2010-11-24 12:46:52        -73.962685        40.775646   \n",
       "4          4.5 2011-11-01 02:19:34        -73.996300        40.753600   \n",
       "\n",
       "   dropoff_longitude  dropoff_latitude  passenger_count  \n",
       "0         -73.980675         40.761864                1  \n",
       "1         -73.970390         40.768867                2  \n",
       "2         -73.988730         40.722170                6  \n",
       "3         -73.957436         40.777767                1  \n",
       "4         -73.998800         40.761100                1  "
      ]
     },
     "metadata": {},
     "output_type": "display_data"
    },
    {
     "data": {
      "text/plain": [
       "fare_amount                 float64\n",
       "pickup_datetime      datetime64[ns]\n",
       "pickup_longitude            float64\n",
       "pickup_latitude             float64\n",
       "dropoff_longitude           float64\n",
       "dropoff_latitude            float64\n",
       "passenger_count               int64\n",
       "dtype: object"
      ]
     },
     "metadata": {},
     "output_type": "display_data"
    }
   ],
   "source": [
    "df = pd.read_csv('https://raw.githubusercontent.com/caiomiyashiro/geospatial_data_analysis/master/data/sample_100000.csv')\n",
    "df['pickup_datetime'] = pd.to_datetime(df['pickup_datetime'])\n",
    "display(df.head())\n",
    "display(df.dtypes)\n"
   ]
  },
  {
   "cell_type": "markdown",
   "metadata": {
    "colab_type": "text",
    "id": "3bypvW8YD-Ih"
   },
   "source": [
    "# Split training and testing before analysis"
   ]
  },
  {
   "cell_type": "code",
   "execution_count": 4,
   "metadata": {
    "colab": {
     "base_uri": "https://localhost:8080/",
     "height": 52
    },
    "colab_type": "code",
    "id": "MRKsnouKEAvN",
    "outputId": "07716d2f-065f-4330-89df-513f69eb0fe9"
   },
   "outputs": [
    {
     "name": "stdout",
     "output_type": "stream",
     "text": [
      "Shape X_train (80000, 6)\n",
      "Shape X_test (20000, 6)\n"
     ]
    }
   ],
   "source": [
    "def split_training_test(df, target=TARGET, test_size=0.2):\n",
    "    X = df.drop(TARGET, axis=1)\n",
    "    y = df[TARGET]\n",
    "    return train_test_split(X, y, test_size=test_size, random_state=0) \n",
    "\n",
    "def join_Xy(df, target, target_str=TARGET):\n",
    "    df_ = df.copy()\n",
    "    df_[target_str] = target\n",
    "    return df_\n",
    "\n",
    "def get_initial_training_testing_set(df):\n",
    "    X_train, X_test, y_train, y_test = split_training_test(df)\n",
    "    print(f'Shape X_train {X_train.shape}')\n",
    "    print(f'Shape X_test {X_test.shape}')\n",
    "\n",
    "    # join target for easier exploratory analysis\n",
    "    df_train = join_Xy(X_train, y_train)\n",
    "    df_test = join_Xy(X_test, y_test)\n",
    "    return df_train, df_test\n",
    "\n",
    "df_train, df_test = get_initial_training_testing_set(df)"
   ]
  },
  {
   "cell_type": "markdown",
   "metadata": {
    "colab_type": "text",
    "id": "fe6TjpszDVbG"
   },
   "source": [
    "# Exploratory Analysis\n",
    "\n",
    "* latitudes/longitudes 0\n",
    "* check points on the map - maybe find new york shapefile and remove points outside polygon\n",
    "* Questions to look at kepler?\n",
    "* Some trips, like to/from an airport, are fixed fee."
   ]
  },
  {
   "cell_type": "code",
   "execution_count": 5,
   "metadata": {
    "colab": {
     "base_uri": "https://localhost:8080/",
     "height": 198
    },
    "colab_type": "code",
    "id": "0yBeONL08yRo",
    "outputId": "ead5da9e-3f62-4e62-dff6-1b68f78806e5"
   },
   "outputs": [
    {
     "data": {
      "text/html": [
       "<div>\n",
       "<style scoped>\n",
       "    .dataframe tbody tr th:only-of-type {\n",
       "        vertical-align: middle;\n",
       "    }\n",
       "\n",
       "    .dataframe tbody tr th {\n",
       "        vertical-align: top;\n",
       "    }\n",
       "\n",
       "    .dataframe thead th {\n",
       "        text-align: right;\n",
       "    }\n",
       "</style>\n",
       "<table border=\"1\" class=\"dataframe\">\n",
       "  <thead>\n",
       "    <tr style=\"text-align: right;\">\n",
       "      <th></th>\n",
       "      <th>pickup_datetime</th>\n",
       "      <th>pickup_longitude</th>\n",
       "      <th>pickup_latitude</th>\n",
       "      <th>dropoff_longitude</th>\n",
       "      <th>dropoff_latitude</th>\n",
       "      <th>passenger_count</th>\n",
       "      <th>fare_amount</th>\n",
       "    </tr>\n",
       "  </thead>\n",
       "  <tbody>\n",
       "    <tr>\n",
       "      <th>10382</th>\n",
       "      <td>2009-02-03 08:52:00</td>\n",
       "      <td>-73.97087</td>\n",
       "      <td>40.788616</td>\n",
       "      <td>-73.965706</td>\n",
       "      <td>40.774487</td>\n",
       "      <td>1</td>\n",
       "      <td>6.9</td>\n",
       "    </tr>\n",
       "    <tr>\n",
       "      <th>73171</th>\n",
       "      <td>2010-04-22 20:14:00</td>\n",
       "      <td>-73.97037</td>\n",
       "      <td>40.761692</td>\n",
       "      <td>-73.803375</td>\n",
       "      <td>40.762497</td>\n",
       "      <td>5</td>\n",
       "      <td>29.7</td>\n",
       "    </tr>\n",
       "    <tr>\n",
       "      <th>30938</th>\n",
       "      <td>2012-01-14 12:45:11</td>\n",
       "      <td>-73.97719</td>\n",
       "      <td>40.784420</td>\n",
       "      <td>-73.996500</td>\n",
       "      <td>40.748596</td>\n",
       "      <td>1</td>\n",
       "      <td>13.3</td>\n",
       "    </tr>\n",
       "    <tr>\n",
       "      <th>99310</th>\n",
       "      <td>2010-08-06 15:03:00</td>\n",
       "      <td>-73.97955</td>\n",
       "      <td>40.761967</td>\n",
       "      <td>-73.987240</td>\n",
       "      <td>40.755240</td>\n",
       "      <td>3</td>\n",
       "      <td>7.7</td>\n",
       "    </tr>\n",
       "    <tr>\n",
       "      <th>58959</th>\n",
       "      <td>2012-04-04 01:09:20</td>\n",
       "      <td>-73.98612</td>\n",
       "      <td>40.757550</td>\n",
       "      <td>-73.994470</td>\n",
       "      <td>40.758965</td>\n",
       "      <td>1</td>\n",
       "      <td>4.1</td>\n",
       "    </tr>\n",
       "  </tbody>\n",
       "</table>\n",
       "</div>"
      ],
      "text/plain": [
       "          pickup_datetime  pickup_longitude  pickup_latitude  \\\n",
       "10382 2009-02-03 08:52:00         -73.97087        40.788616   \n",
       "73171 2010-04-22 20:14:00         -73.97037        40.761692   \n",
       "30938 2012-01-14 12:45:11         -73.97719        40.784420   \n",
       "99310 2010-08-06 15:03:00         -73.97955        40.761967   \n",
       "58959 2012-04-04 01:09:20         -73.98612        40.757550   \n",
       "\n",
       "       dropoff_longitude  dropoff_latitude  passenger_count  fare_amount  \n",
       "10382         -73.965706         40.774487                1          6.9  \n",
       "73171         -73.803375         40.762497                5         29.7  \n",
       "30938         -73.996500         40.748596                1         13.3  \n",
       "99310         -73.987240         40.755240                3          7.7  \n",
       "58959         -73.994470         40.758965                1          4.1  "
      ]
     },
     "execution_count": 5,
     "metadata": {},
     "output_type": "execute_result"
    }
   ],
   "source": [
    "df_train.head()"
   ]
  },
  {
   "cell_type": "markdown",
   "metadata": {
    "colab_type": "text",
    "id": "dSmcxpLMF_xJ"
   },
   "source": [
    "# Model 00 - Euclidean Distance\n",
    "\n",
    "## Start experiment tracking"
   ]
  },
  {
   "cell_type": "code",
   "execution_count": 6,
   "metadata": {
    "colab": {},
    "colab_type": "code",
    "id": "ShZLGIYzk-cI"
   },
   "outputs": [],
   "source": [
    "iteration_results = {}"
   ]
  },
  {
   "cell_type": "code",
   "execution_count": 7,
   "metadata": {
    "colab": {
     "base_uri": "https://localhost:8080/",
     "height": 138
    },
    "colab_type": "code",
    "id": "sO-69Fi2FAYt",
    "outputId": "b4d0270e-167d-4a8d-b251-6d1cd365b238"
   },
   "outputs": [
    {
     "data": {
      "text/html": [
       "<div>\n",
       "<style scoped>\n",
       "    .dataframe tbody tr th:only-of-type {\n",
       "        vertical-align: middle;\n",
       "    }\n",
       "\n",
       "    .dataframe tbody tr th {\n",
       "        vertical-align: top;\n",
       "    }\n",
       "\n",
       "    .dataframe thead th {\n",
       "        text-align: right;\n",
       "    }\n",
       "</style>\n",
       "<table border=\"1\" class=\"dataframe\">\n",
       "  <thead>\n",
       "    <tr style=\"text-align: right;\">\n",
       "      <th></th>\n",
       "      <th>pickup_datetime</th>\n",
       "      <th>pickup_longitude</th>\n",
       "      <th>pickup_latitude</th>\n",
       "      <th>dropoff_longitude</th>\n",
       "      <th>dropoff_latitude</th>\n",
       "      <th>passenger_count</th>\n",
       "      <th>fare_amount</th>\n",
       "      <th>euclidean_dist</th>\n",
       "    </tr>\n",
       "  </thead>\n",
       "  <tbody>\n",
       "    <tr>\n",
       "      <th>10382</th>\n",
       "      <td>2009-02-03 08:52:00</td>\n",
       "      <td>-73.97087</td>\n",
       "      <td>40.788616</td>\n",
       "      <td>-73.965706</td>\n",
       "      <td>40.774487</td>\n",
       "      <td>1</td>\n",
       "      <td>6.9</td>\n",
       "      <td>162.280780</td>\n",
       "    </tr>\n",
       "    <tr>\n",
       "      <th>73171</th>\n",
       "      <td>2010-04-22 20:14:00</td>\n",
       "      <td>-73.97037</td>\n",
       "      <td>40.761692</td>\n",
       "      <td>-73.803375</td>\n",
       "      <td>40.762497</td>\n",
       "      <td>5</td>\n",
       "      <td>29.7</td>\n",
       "      <td>162.138167</td>\n",
       "    </tr>\n",
       "    <tr>\n",
       "      <th>30938</th>\n",
       "      <td>2012-01-14 12:45:11</td>\n",
       "      <td>-73.97719</td>\n",
       "      <td>40.784420</td>\n",
       "      <td>-73.996500</td>\n",
       "      <td>40.748596</td>\n",
       "      <td>1</td>\n",
       "      <td>13.3</td>\n",
       "      <td>162.285749</td>\n",
       "    </tr>\n",
       "  </tbody>\n",
       "</table>\n",
       "</div>"
      ],
      "text/plain": [
       "          pickup_datetime  pickup_longitude  pickup_latitude  \\\n",
       "10382 2009-02-03 08:52:00         -73.97087        40.788616   \n",
       "73171 2010-04-22 20:14:00         -73.97037        40.761692   \n",
       "30938 2012-01-14 12:45:11         -73.97719        40.784420   \n",
       "\n",
       "       dropoff_longitude  dropoff_latitude  passenger_count  fare_amount  \\\n",
       "10382         -73.965706         40.774487                1          6.9   \n",
       "73171         -73.803375         40.762497                5         29.7   \n",
       "30938         -73.996500         40.748596                1         13.3   \n",
       "\n",
       "       euclidean_dist  \n",
       "10382      162.280780  \n",
       "73171      162.138167  \n",
       "30938      162.285749  "
      ]
     },
     "execution_count": 7,
     "metadata": {},
     "output_type": "execute_result"
    }
   ],
   "source": [
    "def euclidean_distance(x1, y1, x2, y2):\n",
    "    return (((x2-x1)**2 + (y2-y1)**2)**(1/2))\n",
    "\n",
    "# Show how unrealistic it is, IF it's unrealisic\n",
    "df_train['euclidean_dist'] = euclidean_distance(df_train['pickup_latitude'], df_train['dropoff_latitude'], \n",
    "                                                   df_train['pickup_longitude'], df_train['dropoff_longitude'])\n",
    "\n",
    "df_train.head(3)"
   ]
  },
  {
   "cell_type": "code",
   "execution_count": 8,
   "metadata": {
    "colab": {},
    "colab_type": "code",
    "id": "pCdZLbWRG15v"
   },
   "outputs": [],
   "source": [
    "def standardize_features(df):\n",
    "    df_copy = df.copy()\n",
    "    col_names = df_copy.columns\n",
    "    ixs = df_copy.index\n",
    "    return pd.DataFrame(StandardScaler().fit_transform(df_copy), columns=col_names, index=ixs)\n",
    "\n",
    "def pre_processing_pipeline_1(df, target_col=TARGET,\n",
    "                              pickup_latitude='pickup_latitude', dropoff_latitude='dropoff_latitude', \n",
    "                              pickup_longitude='pickup_longitude', dropoff_longitude='dropoff_longitude'):\n",
    "  \n",
    "    EUCLIDEAN_FEAT = 'euclidean_dist'\n",
    "    FEATURES = [EUCLIDEAN_FEAT]\n",
    "\n",
    "    df_copy = df.copy()\n",
    "    df_copy[EUCLIDEAN_FEAT] = euclidean_distance(df_copy[pickup_latitude], df_copy[dropoff_latitude], \n",
    "                                                 df_copy[pickup_longitude], df_copy[dropoff_longitude])\n",
    "    # in the EDA, we probably treat the nulls, so for now, just drop them\n",
    "    df_copy = df_copy.dropna()\n",
    "\n",
    "    df_res = standardize_features(df_copy[FEATURES])\n",
    "    df_res[target_col] = df_copy[target_col]\n",
    "    return df_res\n",
    "\n",
    "df_train = pre_processing_pipeline_1(df_train)\n",
    "df_test = pre_processing_pipeline_1(df_test)\n",
    "\n"
   ]
  },
  {
   "cell_type": "code",
   "execution_count": 9,
   "metadata": {
    "colab": {},
    "colab_type": "code",
    "id": "-eXRxwMFHVjE"
   },
   "outputs": [],
   "source": [
    "model = LinearRegression()\n",
    "model.fit(df_train.drop(TARGET, axis=1), df_train[TARGET])\n",
    "\n",
    "y_test_predicted = model.predict(df_test.drop(TARGET, axis=1))"
   ]
  },
  {
   "cell_type": "code",
   "execution_count": 10,
   "metadata": {
    "colab": {
     "base_uri": "https://localhost:8080/",
     "height": 298
    },
    "colab_type": "code",
    "id": "N37YPJLAdTzy",
    "outputId": "b581fb72-42f9-4f2f-c8bb-ef9d506297f0"
   },
   "outputs": [
    {
     "name": "stdout",
     "output_type": "stream",
     "text": [
      "Mean Absolute Error: 5.9948500667004065\n"
     ]
    },
    {
     "data": {
      "image/png": "[encoded data removed]",
      "text/plain": [
       "<Figure size 432x288 with 1 Axes>"
      ]
     },
     "metadata": {},
     "output_type": "display_data"
    }
   ],
   "source": [
    "def print_evaluation(y_obs, y_pred, max_lim_y=100, return_errors=True):\n",
    "    mae_hist = np.abs(y_test_predicted - df_test[TARGET])\n",
    "    plt.hist(mae_hist[y_obs < max_lim_y], bins=100)\n",
    "    plt.title('Absolute Error Distribution');\n",
    "\n",
    "    if(return_errors == True):\n",
    "        return mae_hist\n",
    "\n",
    "#####\n",
    "mae = mean_absolute_error(df_test[TARGET], y_test_predicted)\n",
    "iteration_results['exp_1_mae'] = mae\n",
    "print(f'Mean Absolute Error: {mae}')\n",
    "\n",
    "print_evaluation(df_test[TARGET], y_test_predicted, return_errors=False)"
   ]
  },
  {
   "cell_type": "markdown",
   "metadata": {
    "colab_type": "text",
    "id": "Hed4d4mGlVEZ"
   },
   "source": [
    "## Experimenting on different types of distance\n",
    "### Haversine - Explain\n",
    "### Great Circle - Explain\n"
   ]
  },
  {
   "cell_type": "code",
   "execution_count": 11,
   "metadata": {
    "colab": {
     "base_uri": "https://localhost:8080/",
     "height": 52
    },
    "colab_type": "code",
    "id": "8DZVbUtMq6Pk",
    "outputId": "db45ed31-057c-418f-f1d3-cd2a9ee195b8"
   },
   "outputs": [
    {
     "name": "stdout",
     "output_type": "stream",
     "text": [
      "Shape X_train (80000, 6)\n",
      "Shape X_test (20000, 6)\n"
     ]
    }
   ],
   "source": [
    "df_train, df_test = get_initial_training_testing_set(df)"
   ]
  },
  {
   "cell_type": "code",
   "execution_count": 14,
   "metadata": {
    "colab": {
     "base_uri": "https://localhost:8080/",
     "height": 138
    },
    "colab_type": "code",
    "id": "HjB400AfdUsm",
    "outputId": "89229ef5-4b3e-4b09-8662-60ac4bfb77b0"
   },
   "outputs": [
    {
     "data": {
      "text/html": [
       "<div>\n",
       "<style scoped>\n",
       "    .dataframe tbody tr th:only-of-type {\n",
       "        vertical-align: middle;\n",
       "    }\n",
       "\n",
       "    .dataframe tbody tr th {\n",
       "        vertical-align: top;\n",
       "    }\n",
       "\n",
       "    .dataframe thead th {\n",
       "        text-align: right;\n",
       "    }\n",
       "</style>\n",
       "<table border=\"1\" class=\"dataframe\">\n",
       "  <thead>\n",
       "    <tr style=\"text-align: right;\">\n",
       "      <th></th>\n",
       "      <th>pickup_datetime</th>\n",
       "      <th>pickup_longitude</th>\n",
       "      <th>pickup_latitude</th>\n",
       "      <th>dropoff_longitude</th>\n",
       "      <th>dropoff_latitude</th>\n",
       "      <th>passenger_count</th>\n",
       "      <th>fare_amount</th>\n",
       "      <th>haversine_dist</th>\n",
       "    </tr>\n",
       "  </thead>\n",
       "  <tbody>\n",
       "    <tr>\n",
       "      <th>10382</th>\n",
       "      <td>2009-02-03 08:52:00</td>\n",
       "      <td>-73.97087</td>\n",
       "      <td>40.788616</td>\n",
       "      <td>-73.965706</td>\n",
       "      <td>40.774487</td>\n",
       "      <td>1</td>\n",
       "      <td>6.9</td>\n",
       "      <td>1.629105</td>\n",
       "    </tr>\n",
       "    <tr>\n",
       "      <th>73171</th>\n",
       "      <td>2010-04-22 20:14:00</td>\n",
       "      <td>-73.97037</td>\n",
       "      <td>40.761692</td>\n",
       "      <td>-73.803375</td>\n",
       "      <td>40.762497</td>\n",
       "      <td>5</td>\n",
       "      <td>29.7</td>\n",
       "      <td>14.056115</td>\n",
       "    </tr>\n",
       "    <tr>\n",
       "      <th>30938</th>\n",
       "      <td>2012-01-14 12:45:11</td>\n",
       "      <td>-73.97719</td>\n",
       "      <td>40.784420</td>\n",
       "      <td>-73.996500</td>\n",
       "      <td>40.748596</td>\n",
       "      <td>1</td>\n",
       "      <td>13.3</td>\n",
       "      <td>4.299907</td>\n",
       "    </tr>\n",
       "  </tbody>\n",
       "</table>\n",
       "</div>"
      ],
      "text/plain": [
       "          pickup_datetime  pickup_longitude  pickup_latitude  \\\n",
       "10382 2009-02-03 08:52:00         -73.97087        40.788616   \n",
       "73171 2010-04-22 20:14:00         -73.97037        40.761692   \n",
       "30938 2012-01-14 12:45:11         -73.97719        40.784420   \n",
       "\n",
       "       dropoff_longitude  dropoff_latitude  passenger_count  fare_amount  \\\n",
       "10382         -73.965706         40.774487                1          6.9   \n",
       "73171         -73.803375         40.762497                5         29.7   \n",
       "30938         -73.996500         40.748596                1         13.3   \n",
       "\n",
       "       haversine_dist  \n",
       "10382        1.629105  \n",
       "73171       14.056115  \n",
       "30938        4.299907  "
      ]
     },
     "execution_count": 14,
     "metadata": {},
     "output_type": "execute_result"
    }
   ],
   "source": [
    "def lat_longs2radians(lon1, lat1, lon2, lat2):\n",
    "    lon1, lat1, lon2, lat2 = map(np.radians, [lon1, lat1, lon2, lat2])\n",
    "    return lon1, lat1, lon2, lat2\n",
    "\n",
    "def haversine_distance(lat1, lat2, lon1, lon2):\n",
    "    \"\"\"\n",
    "    Calculate the great circle distance between two points\n",
    "    on the earth (specified in decimal degrees)\n",
    "\n",
    "    All args must be of equal length.\n",
    "\n",
    "    \"\"\"\n",
    "    lon1, lat1, lon2, lat2 = lat_longs2radians(lon1, lat1, lon2, lat2)\n",
    "    dlon = lon2 - lon1\n",
    "    dlat = lat2 - lat1\n",
    "    a = np.sin(dlat/2.0)**2 + np.cos(lat1) * np.cos(lat2) * np.sin(dlon/2.0)**2\n",
    "\n",
    "    c = 2 * np.arcsin(np.sqrt(a))\n",
    "    km = 6367 * c\n",
    "    return km\n",
    "\n",
    "# TODO: manhattan with lat lon has NOT worked - see attempt below\n",
    "# def manhattan_distance(lon1, lat1, lon2, lat2):\n",
    "#   lon1, lat1, lon2, lat2 = lat_longs2radians(lon1, lat1, lon2, lat2)\n",
    "#   dlon = np.abs(lon2 - lon1)\n",
    "#   dlat = np.abs(lat2 - lat1)\n",
    "#   return dlon + dlat\n",
    "\n",
    "df_train['haversine_dist'] = haversine_distance(df_train['pickup_latitude'], df_train['dropoff_latitude'], \n",
    "                                                   df_train['pickup_longitude'], df_train['dropoff_longitude'])\n",
    "\n",
    "\n",
    "# df_train['manhattan_dist'] = manhattan_distance(df_train['pickup_latitude'], df_train['dropoff_latitude'], \n",
    "#                                                    df_train['pickup_longitude'], df_train['dropoff_longitude'])\n",
    "\n",
    "df_train.head(3)\n"
   ]
  },
  {
   "cell_type": "code",
   "execution_count": 15,
   "metadata": {
    "colab": {},
    "colab_type": "code",
    "id": "-HfjZPIIsOqn"
   },
   "outputs": [],
   "source": [
    "# trying to convert to UTM and use traditional euclidean space to calculate manhattan BUT IT DIDN'T WORK\n",
    "\n",
    "\n",
    "\n",
    "# from pyproj import Proj, transform\n",
    "\n",
    "# inProj = Proj(init='epsg:4326')  # lat lon\n",
    "# outProj = Proj(init='epsg:3857') # UTM\n",
    "\n",
    "# lat_pickup_utm, lon_pickup_utm = transform(inProj,outProj,df_train['pickup_latitude'].values, df_train['pickup_longitude'].values)\n",
    "# lat_dropoff_utm, lon_dropoff_utm = transform(inProj,outProj,df_train['dropoff_latitude'].values, df_train['dropoff_longitude'].values)\n",
    "\n",
    "# df_train['manhattan_dist'] = np_manhattan(np.array(lat_pickup_utm), np.array(lat_dropoff_utm), \n",
    "#                                           np.array(lon_pickup_utm), np.array(lon_dropoff_utm))"
   ]
  },
  {
   "cell_type": "code",
   "execution_count": 16,
   "metadata": {
    "colab": {},
    "colab_type": "code",
    "id": "u_qHuzQIvMoY"
   },
   "outputs": [],
   "source": [
    "def pre_processing_pipeline_2(df, target_col=TARGET, \n",
    "                              pickup_latitude='pickup_latitude', dropoff_latitude='dropoff_latitude', \n",
    "                              pickup_longitude='pickup_longitude', dropoff_longitude='dropoff_longitude'):\n",
    "    EUCLIDEAN_FEAT = 'euclidean_dist'\n",
    "    HAVERSINE_FEAT = 'haversine_dist'\n",
    "    # MANHATTAN_FEAT = 'manhattan_dist'\n",
    "    FEATURES = [EUCLIDEAN_FEAT, HAVERSINE_FEAT] #, MANHATTAN_FEAT - #not returning MANHATTAN_FEAT because it's wrong\n",
    "\n",
    "    df_copy = df.copy()\n",
    "\n",
    "    df_copy[EUCLIDEAN_FEAT] = euclidean_distance(df_copy[pickup_latitude], df_copy[dropoff_latitude], \n",
    "                                              df_copy[pickup_longitude], df_copy[dropoff_longitude])\n",
    "    df_copy[HAVERSINE_FEAT] = haversine_distance(df_copy[pickup_latitude], df_copy[dropoff_latitude], \n",
    "                                              df_copy[pickup_longitude], df_copy[dropoff_longitude])\n",
    "    # df_copy[MANHATTAN_FEAT] = manhattan_distance(df_copy[pickup_latitude], df_copy[dropoff_latitude], \n",
    "    #                                         df_copy[pickup_longitude], df_copy[dropoff_longitude])\n",
    "\n",
    "    # in the EDA, we probably treat the nulls, so for now, just drop them\n",
    "    df_copy = df_copy.dropna()\n",
    "\n",
    "    df_res = standardize_features(df_copy[FEATURES])\n",
    "    df_res[target_col] = df_copy[target_col]\n",
    "    return df_res\n",
    "\n",
    "df_train = pre_processing_pipeline_2(df_train)\n",
    "df_test = pre_processing_pipeline_2(df_test)\n"
   ]
  },
  {
   "cell_type": "code",
   "execution_count": 18,
   "metadata": {
    "colab": {},
    "colab_type": "code",
    "id": "M7N9psNc8_XW"
   },
   "outputs": [],
   "source": [
    "model = LinearRegression()\n",
    "model.fit(df_train.drop(TARGET, axis=1), df_train[TARGET])\n",
    "\n",
    "y_test_predicted = model.predict(df_test.drop(TARGET, axis=1))"
   ]
  },
  {
   "cell_type": "code",
   "execution_count": 19,
   "metadata": {
    "colab": {
     "base_uri": "https://localhost:8080/",
     "height": 298
    },
    "colab_type": "code",
    "id": "5Dt9GkRI7lzA",
    "outputId": "de61466f-04b0-47d4-882d-93233a158650"
   },
   "outputs": [
    {
     "name": "stdout",
     "output_type": "stream",
     "text": [
      "Mean Absolute Error: 5.995354003797517\n"
     ]
    },
    {
     "data": {
      "image/png": "[encoded data removed]",
      "text/plain": [
       "<Figure size 432x288 with 1 Axes>"
      ]
     },
     "metadata": {},
     "output_type": "display_data"
    }
   ],
   "source": [
    "#####\n",
    "mae = mean_absolute_error(df_test[TARGET], y_test_predicted)\n",
    "iteration_results['exp_2_mae'] = mae\n",
    "print(f'Mean Absolute Error: {mae}')\n",
    "\n",
    "print_evaluation(df_test[TARGET], y_test_predicted, return_errors=False)"
   ]
  },
  {
   "cell_type": "code",
   "execution_count": 20,
   "metadata": {
    "colab": {
     "base_uri": "https://localhost:8080/",
     "height": 35
    },
    "colab_type": "code",
    "id": "f9xm6EBNyK4x",
    "outputId": "fef691c8-dd5c-490e-fc5c-d0e186c21159"
   },
   "outputs": [
    {
     "data": {
      "text/plain": [
       "{'exp_1_mae': 5.9948500667004065, 'exp_2_mae': 5.995354003797517}"
      ]
     },
     "execution_count": 20,
     "metadata": {},
     "output_type": "execute_result"
    }
   ],
   "source": [
    "iteration_results"
   ]
  },
  {
   "cell_type": "markdown",
   "metadata": {
    "colab_type": "text",
    "id": "NszUYghK-Gjs"
   },
   "source": [
    "# Creating a router - OSRM Router\n",
    "\n",
    "## Calculate street distances and durations\n",
    "\n",
    "## Setup\n",
    "\n",
    "Setting local docker image for ORSM back-end - https://hub.docker.com/r/osrm/osrm-backend/\n",
    "\n",
    "* wget http://download.geofabrik.de/north-america/us/new-york-latest.osm.pbf (file is ~200 Mb)\n",
    "\n",
    "* Move file to your project folder\n",
    "\n",
    "* docker run -t -v \"${PWD}:/data\" osrm/osrm-backend osrm-extract -p /opt/car.lua /data/new-york-latest.osm.pbf\n",
    "\n",
    "* docker run -t -v \"${PWD}:/data\" osrm/osrm-backend osrm-partition /data/new-york-latest.osm.pbf\n",
    "\n",
    "* docker run -t -v \"${PWD}:/data\" osrm/osrm-backend osrm-customize /data/new-york-latest.osm.pbf\n",
    "\n",
    "* docker run -t -i -p 5000:5000 -v \"${PWD}:/data\" osrm/osrm-backend osrm-routed --algorithm mld /data/new-york-latest.osm.pbf\n",
    "\n",
    "Example latitude longitude New Yeork: 13.435441, 52.489406 13.063544,52.391463\n",
    "\n",
    "Test: curl \"http://localhost:5000/route/v1/driving/13.435441,52.489406;13.063544,52.391463?steps=false&geometries=geojson\""
   ]
  },
  {
   "cell_type": "code",
   "execution_count": 25,
   "metadata": {
    "colab": {},
    "colab_type": "code",
    "id": "24SDQOnJy52y"
   },
   "outputs": [],
   "source": [
    "lat1, lon1 = 52.489406, 13.435441\n",
    "lat2, lon2 = 52.391463, 13.063544\n",
    "\n",
    "osm = OSRMFramework('localhost:5000')\n",
    "lat, lon, distance, duration = osm.route(lat1, lon1, lat2, lon2)"
   ]
  },
  {
   "cell_type": "code",
   "execution_count": 27,
   "metadata": {
    "colab": {},
    "colab_type": "code",
    "id": "qU0L05LYzEcg"
   },
   "outputs": [
    {
     "data": {
      "text/plain": [
       "[13.435441, -72.135158, -72.135158]"
      ]
     },
     "execution_count": 27,
     "metadata": {},
     "output_type": "execute_result"
    }
   ],
   "source": [
    "lon"
   ]
  },
  {
   "cell_type": "code",
   "execution_count": null,
   "metadata": {},
   "outputs": [],
   "source": []
  }
 ],
 "metadata": {
  "colab": {
   "collapsed_sections": [],
   "name": "AMLD_2020.ipynb",
   "provenance": []
  },
  "hide_input": false,
  "kernelspec": {
   "display_name": "Python 3",
   "language": "python",
   "name": "python3"
  },
  "language_info": {
   "codemirror_mode": {
    "name": "ipython",
    "version": 3
   },
   "file_extension": ".py",
   "mimetype": "text/x-python",
   "name": "python",
   "nbconvert_exporter": "python",
   "pygments_lexer": "ipython3",
   "version": "3.6.4"
  },
  "toc": {
   "base_numbering": 1,
   "nav_menu": {},
   "number_sections": true,
   "sideBar": true,
   "skip_h1_title": false,
   "title_cell": "Table of Contents",
   "title_sidebar": "Contents",
   "toc_cell": false,
   "toc_position": {},
   "toc_section_display": true,
   "toc_window_display": false
  }
 },
 "nbformat": 4,
 "nbformat_minor": 1
}
