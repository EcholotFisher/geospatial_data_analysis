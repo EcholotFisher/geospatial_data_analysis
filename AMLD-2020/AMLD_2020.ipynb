{
 "cells": [
  {
   "cell_type": "code",
   "execution_count": 1,
   "metadata": {
    "colab": {},
    "colab_type": "code",
    "id": "OxsTPZphD2ol"
   },
   "outputs": [],
   "source": [
    "# libraries\n",
    "import matplotlib.pyplot as plt\n",
    "import numpy as np\n",
    "import keplergl\n",
    "import pickle\n",
    "import pandas as pd\n",
    "\n",
    "from pyproj import Proj\n",
    "from h3 import h3\n",
    "from sklearn.model_selection import train_test_split\n",
    "from sklearn.linear_model import LinearRegression\n",
    "from sklearn.metrics import mean_squared_error\n",
    "\n",
    "from sklearn.preprocessing import StandardScaler\n",
    "from geopandas import GeoSeries, GeoDataFrame\n",
    "from sklearn.neighbors import KNeighborsRegressor\n",
    "\n",
    "from utils.OSRMFramework import OSRMFramework\n",
    "from utils.RouteAnnotator import RouteAnnotator\n",
    "from utils.lines import plot_linestring\n",
    "from utils.conversor import latlon2linestring\n",
    "\n",
    "%load_ext autoreload\n",
    "%autoreload 2\n",
    "\n",
    "###### constants\n",
    "TARGET = 'fare_amount'\n",
    "OSRM_PATH = 'localhost:5000'\n",
    "# OSRM_PATH = '127.0.0.1:5000'\n",
    "DATASET_PATH = 'data/taxi_fare_sample_100000.csv'\n",
    "H3_RES_ANALYSIS = 7\n",
    "\n"
   ]
  },
  {
   "cell_type": "markdown",
   "metadata": {},
   "source": [
    "---------------\n",
    "Notebook for AMLD 2020 Workshop: [Feature Engineering for Spatial Data Analysis](https://appliedmldays.org/workshops/feature-engineering-for-spatial-data-analysis).  \n",
    "  \n",
    "Authors:  \n",
    "* Caio Miyashiro: caiohenrique37@gmail.com  \n",
    "* Eva Jaumann: eva.jaumann@mytaxi.com  \n",
    "* Selim Onat: selim.onat@mytaxi.com  \n",
    "\n",
    "Github Repository: https://github.com/caiomiyashiro/geospatial_data_analysis/tree/master/AMLD-2020  \n",
    "\n",
    "---------------\n",
    "  \n",
    "# Introduction\n",
    "  \n",
    "Welcome to the workshop! Today you're going to learn several techniques related to the processing of geospatial data. We're going to use as background motivation the Kaggle dataset on [Prediction of Taxis Fares](https://www.kaggle.com/c/new-york-city-taxi-fare-prediction) but our main goal is for you to learn the concepts and techniques on how to process such kind of datasets. We'll iteratively build models with higher level features and go through the concepts oh what do they mean and how were they created. At the end, we're going to check one more advanced example on how we can make use of mobility data in order to calculate and incorporate traffic information to your feature engineering processes. This is the overview:\n",
    "\n",
    "## TODO: Beautiful diagram with overview of what participants will be seeing\n",
    "\n",
    "## Dataset\n",
    "\n",
    "<img src=\"images/kaggle_page.png\" width=\"700\"> \n",
    "<center>Kaggle Taxi Prediction Homepage Picture</center>  \n",
    "\n",
    "The challenge of this dataset is the predict the final fare paid by user by just having a small set of variables to work with:\n",
    "* **pickup_datetime**: Time that a user was picked-up by a taxi\n",
    "* **pickup_latitude**:   pickup location\n",
    "* **pickup_longitude**:  pickup location\n",
    "* **dropoff_latitude**:  drop-off location\n",
    "* **dropoff_longitude**: drop-off location   \n",
    "* **passenger_count**: amount of passengers in this trip\n",
    "  \n",
    "This creates a few challenges, as we don't exactly know the route that the driver took. This means that any fixed taxes or tolls are not explicited coded as variables, so we'll see a few ways to try to identify these hidden features.  \n",
    "\n",
    "<div class=\"alert alert-block alert-info\">\n",
    "    The main focus of this workshop will be <b>not</b> about minimizing your model error score, but rather to explain to you the main concepts and techniques when working with spatial data :)\n",
    "</div>\n",
    "  \n",
    "The original dataset is big (> 5Gb of data), so we randomly sampled and made it available for you. Lets take a look at it:\n"
   ]
  },
  {
   "cell_type": "code",
   "execution_count": 2,
   "metadata": {
    "colab": {
     "base_uri": "https://localhost:8080/",
     "height": 336
    },
    "colab_type": "code",
    "id": "1SLycpVN9BM-",
    "outputId": "1855cfed-4c48-4817-9b74-6e8b04d7ce40"
   },
   "outputs": [
    {
     "data": {
      "text/html": [
       "<div>\n",
       "<style scoped>\n",
       "    .dataframe tbody tr th:only-of-type {\n",
       "        vertical-align: middle;\n",
       "    }\n",
       "\n",
       "    .dataframe tbody tr th {\n",
       "        vertical-align: top;\n",
       "    }\n",
       "\n",
       "    .dataframe thead th {\n",
       "        text-align: right;\n",
       "    }\n",
       "</style>\n",
       "<table border=\"1\" class=\"dataframe\">\n",
       "  <thead>\n",
       "    <tr style=\"text-align: right;\">\n",
       "      <th></th>\n",
       "      <th>fare_amount</th>\n",
       "      <th>pickup_datetime</th>\n",
       "      <th>pickup_longitude</th>\n",
       "      <th>pickup_latitude</th>\n",
       "      <th>dropoff_longitude</th>\n",
       "      <th>dropoff_latitude</th>\n",
       "      <th>passenger_count</th>\n",
       "    </tr>\n",
       "  </thead>\n",
       "  <tbody>\n",
       "    <tr>\n",
       "      <th>0</th>\n",
       "      <td>8.1</td>\n",
       "      <td>2009-01-23 07:28:00</td>\n",
       "      <td>-73.996070</td>\n",
       "      <td>40.732605</td>\n",
       "      <td>-73.980675</td>\n",
       "      <td>40.761864</td>\n",
       "      <td>1</td>\n",
       "    </tr>\n",
       "    <tr>\n",
       "      <th>1</th>\n",
       "      <td>9.0</td>\n",
       "      <td>2014-01-04 21:11:00</td>\n",
       "      <td>-73.977640</td>\n",
       "      <td>40.752346</td>\n",
       "      <td>-73.970390</td>\n",
       "      <td>40.768867</td>\n",
       "      <td>2</td>\n",
       "    </tr>\n",
       "    <tr>\n",
       "      <th>2</th>\n",
       "      <td>6.5</td>\n",
       "      <td>2015-06-22 01:54:24</td>\n",
       "      <td>-74.000080</td>\n",
       "      <td>40.728610</td>\n",
       "      <td>-73.988730</td>\n",
       "      <td>40.722170</td>\n",
       "      <td>6</td>\n",
       "    </tr>\n",
       "    <tr>\n",
       "      <th>3</th>\n",
       "      <td>4.5</td>\n",
       "      <td>2010-11-24 12:46:52</td>\n",
       "      <td>-73.962685</td>\n",
       "      <td>40.775646</td>\n",
       "      <td>-73.957436</td>\n",
       "      <td>40.777767</td>\n",
       "      <td>1</td>\n",
       "    </tr>\n",
       "    <tr>\n",
       "      <th>4</th>\n",
       "      <td>4.5</td>\n",
       "      <td>2011-11-01 02:19:34</td>\n",
       "      <td>-73.996300</td>\n",
       "      <td>40.753600</td>\n",
       "      <td>-73.998800</td>\n",
       "      <td>40.761100</td>\n",
       "      <td>1</td>\n",
       "    </tr>\n",
       "  </tbody>\n",
       "</table>\n",
       "</div>"
      ],
      "text/plain": [
       "   fare_amount     pickup_datetime  pickup_longitude  pickup_latitude  \\\n",
       "0          8.1 2009-01-23 07:28:00        -73.996070        40.732605   \n",
       "1          9.0 2014-01-04 21:11:00        -73.977640        40.752346   \n",
       "2          6.5 2015-06-22 01:54:24        -74.000080        40.728610   \n",
       "3          4.5 2010-11-24 12:46:52        -73.962685        40.775646   \n",
       "4          4.5 2011-11-01 02:19:34        -73.996300        40.753600   \n",
       "\n",
       "   dropoff_longitude  dropoff_latitude  passenger_count  \n",
       "0         -73.980675         40.761864                1  \n",
       "1         -73.970390         40.768867                2  \n",
       "2         -73.988730         40.722170                6  \n",
       "3         -73.957436         40.777767                1  \n",
       "4         -73.998800         40.761100                1  "
      ]
     },
     "metadata": {},
     "output_type": "display_data"
    },
    {
     "data": {
      "text/plain": [
       "fare_amount                 float64\n",
       "pickup_datetime      datetime64[ns]\n",
       "pickup_longitude            float64\n",
       "pickup_latitude             float64\n",
       "dropoff_longitude           float64\n",
       "dropoff_latitude            float64\n",
       "passenger_count               int64\n",
       "dtype: object"
      ]
     },
     "metadata": {},
     "output_type": "display_data"
    },
    {
     "data": {
      "text/html": [
       "<div>\n",
       "<style scoped>\n",
       "    .dataframe tbody tr th:only-of-type {\n",
       "        vertical-align: middle;\n",
       "    }\n",
       "\n",
       "    .dataframe tbody tr th {\n",
       "        vertical-align: top;\n",
       "    }\n",
       "\n",
       "    .dataframe thead th {\n",
       "        text-align: right;\n",
       "    }\n",
       "</style>\n",
       "<table border=\"1\" class=\"dataframe\">\n",
       "  <thead>\n",
       "    <tr style=\"text-align: right;\">\n",
       "      <th></th>\n",
       "      <th>fare_amount</th>\n",
       "      <th>pickup_longitude</th>\n",
       "      <th>pickup_latitude</th>\n",
       "      <th>dropoff_longitude</th>\n",
       "      <th>dropoff_latitude</th>\n",
       "      <th>passenger_count</th>\n",
       "    </tr>\n",
       "  </thead>\n",
       "  <tbody>\n",
       "    <tr>\n",
       "      <th>count</th>\n",
       "      <td>100000.000000</td>\n",
       "      <td>100000.000000</td>\n",
       "      <td>100000.000000</td>\n",
       "      <td>99997.000000</td>\n",
       "      <td>99997.000000</td>\n",
       "      <td>100000.000000</td>\n",
       "    </tr>\n",
       "    <tr>\n",
       "      <th>mean</th>\n",
       "      <td>11.298185</td>\n",
       "      <td>-72.503374</td>\n",
       "      <td>39.936948</td>\n",
       "      <td>-72.509601</td>\n",
       "      <td>39.883197</td>\n",
       "      <td>1.683030</td>\n",
       "    </tr>\n",
       "    <tr>\n",
       "      <th>std</th>\n",
       "      <td>9.694575</td>\n",
       "      <td>11.145909</td>\n",
       "      <td>11.092231</td>\n",
       "      <td>12.491615</td>\n",
       "      <td>8.350488</td>\n",
       "      <td>1.462362</td>\n",
       "    </tr>\n",
       "    <tr>\n",
       "      <th>min</th>\n",
       "      <td>-10.100000</td>\n",
       "      <td>-736.600000</td>\n",
       "      <td>-74.013110</td>\n",
       "      <td>-1843.172200</td>\n",
       "      <td>-1723.679800</td>\n",
       "      <td>0.000000</td>\n",
       "    </tr>\n",
       "    <tr>\n",
       "      <th>25%</th>\n",
       "      <td>6.000000</td>\n",
       "      <td>-73.992100</td>\n",
       "      <td>40.734930</td>\n",
       "      <td>-73.991400</td>\n",
       "      <td>40.733967</td>\n",
       "      <td>1.000000</td>\n",
       "    </tr>\n",
       "    <tr>\n",
       "      <th>50%</th>\n",
       "      <td>8.500000</td>\n",
       "      <td>-73.981810</td>\n",
       "      <td>40.752501</td>\n",
       "      <td>-73.980240</td>\n",
       "      <td>40.753143</td>\n",
       "      <td>1.000000</td>\n",
       "    </tr>\n",
       "    <tr>\n",
       "      <th>75%</th>\n",
       "      <td>12.500000</td>\n",
       "      <td>-73.967255</td>\n",
       "      <td>40.766987</td>\n",
       "      <td>-73.963660</td>\n",
       "      <td>40.768120</td>\n",
       "      <td>2.000000</td>\n",
       "    </tr>\n",
       "    <tr>\n",
       "      <th>max</th>\n",
       "      <td>500.000000</td>\n",
       "      <td>40.804394</td>\n",
       "      <td>2925.007300</td>\n",
       "      <td>40.800520</td>\n",
       "      <td>73.979050</td>\n",
       "      <td>208.000000</td>\n",
       "    </tr>\n",
       "  </tbody>\n",
       "</table>\n",
       "</div>"
      ],
      "text/plain": [
       "         fare_amount  pickup_longitude  pickup_latitude  dropoff_longitude  \\\n",
       "count  100000.000000     100000.000000    100000.000000       99997.000000   \n",
       "mean       11.298185        -72.503374        39.936948         -72.509601   \n",
       "std         9.694575         11.145909        11.092231          12.491615   \n",
       "min       -10.100000       -736.600000       -74.013110       -1843.172200   \n",
       "25%         6.000000        -73.992100        40.734930         -73.991400   \n",
       "50%         8.500000        -73.981810        40.752501         -73.980240   \n",
       "75%        12.500000        -73.967255        40.766987         -73.963660   \n",
       "max       500.000000         40.804394      2925.007300          40.800520   \n",
       "\n",
       "       dropoff_latitude  passenger_count  \n",
       "count      99997.000000    100000.000000  \n",
       "mean          39.883197         1.683030  \n",
       "std            8.350488         1.462362  \n",
       "min        -1723.679800         0.000000  \n",
       "25%           40.733967         1.000000  \n",
       "50%           40.753143         1.000000  \n",
       "75%           40.768120         2.000000  \n",
       "max           73.979050       208.000000  "
      ]
     },
     "metadata": {},
     "output_type": "display_data"
    }
   ],
   "source": [
    "# df = pd.read_csv('https://raw.githubusercontent.com/caiomiyashiro/geospatial_data_analysis/master/data/sample_100000.csv')\n",
    "df = pd.read_csv(DATASET_PATH)\n",
    "df['pickup_datetime'] = pd.to_datetime(df['pickup_datetime'])\n",
    "display(df.head())\n",
    "display(df.dtypes)\n",
    "display(df.describe())\n",
    "\n"
   ]
  },
  {
   "cell_type": "markdown",
   "metadata": {
    "colab_type": "text",
    "id": "fe6TjpszDVbG"
   },
   "source": [
    "# First Analysis  \n",
    "\n",
    "Before we start understanding our data, we should check its integrity. We apply some sanity checks in the data to remove anything that'd be impossible to happen, such as negative fares.\n",
    "\n",
    "## Check amount of NaN\n",
    "\n",
    "The number of nan elements are irrelevant. So we just remove them.  "
   ]
  },
  {
   "cell_type": "code",
   "execution_count": 3,
   "metadata": {
    "scrolled": true
   },
   "outputs": [
    {
     "data": {
      "text/plain": [
       "fare_amount          0\n",
       "pickup_datetime      0\n",
       "pickup_longitude     0\n",
       "pickup_latitude      0\n",
       "dropoff_longitude    3\n",
       "dropoff_latitude     3\n",
       "passenger_count      0\n",
       "dtype: int64"
      ]
     },
     "metadata": {},
     "output_type": "display_data"
    }
   ],
   "source": [
    "# check amount of NaN - just remove them\n",
    "display(df.isna().sum())\n",
    "\n",
    "df.dropna(subset=['dropoff_longitude', 'dropoff_latitude'], inplace=True)"
   ]
  },
  {
   "cell_type": "markdown",
   "metadata": {},
   "source": [
    "## Check impossible fares\n",
    "\n",
    "Note that we're removing only **impossible** fares for now. Any filter based on value distribution should be done only using the training set."
   ]
  },
  {
   "cell_type": "code",
   "execution_count": 4,
   "metadata": {},
   "outputs": [
    {
     "data": {
      "text/plain": [
       "count    99997.000000\n",
       "mean        11.297973\n",
       "std          9.694583\n",
       "min        -10.100000\n",
       "25%          6.000000\n",
       "50%          8.500000\n",
       "75%         12.500000\n",
       "max        500.000000\n",
       "Name: fare_amount, dtype: float64"
      ]
     },
     "metadata": {},
     "output_type": "display_data"
    },
    {
     "name": "stdout",
     "output_type": "stream",
     "text": [
      "\n",
      "11 rows with fare under or equal 0\n"
     ]
    }
   ],
   "source": [
    "display(df['fare_amount'].describe())\n",
    "print('')\n",
    "\n",
    "fare_under_0 = np.sum(df['fare_amount']<=0)\n",
    "print(f'{fare_under_0} rows with fare under or equal 0')\n",
    "\n",
    "df = df.loc[df['fare_amount'] >= 0]"
   ]
  },
  {
   "cell_type": "markdown",
   "metadata": {},
   "source": [
    "## Spatial Data Visual Analysis\n",
    "  \n",
    "From the first `describe` function in the section above, we see that there're a few latitudes/longitudes for both pick up and drop-off that are away from the main mass of data. In order to confirm we can use a visual tool.   \n",
    "\n",
    "### Kepler\n",
    "\n",
    "[Kepler.gl](https://eng.uber.com/keplergl/) is an open source tool from Uber that allow us to easily plot and visualize different types of geospatial data. It's originally created in React, but you can upload csv's directly to their [application website](https://kepler.gl/) and now also in Python with the [Jupyter extension](https://medium.com/vis-gl/introducing-kepler-gl-for-jupyter-f72d41659fbf).  \n",
    "  \n",
    "Kepler can visualize the following polygons:   \n",
    "<img src=\"images/kepler_polygons_.jpg\" width=\"200\"> \n",
    "  \n",
    "* **Point**: Unique points associated to 1 pair of columns `latitude`/`longitude`\n",
    "* **Line**: Origin-Destination line, drawing a line from point A to point B. It needs 2 pairs of columns `lat`/`lon`\n",
    "* **Arc**: Same as line but lines are curved that puts longer distances in evidence.\n",
    "* **Heatmap**: Aggregate close by `Points` in a way that, in places where more points are together, the more the heatmap's color change\n",
    "* **Grid**: Similar to heatmaps, but aggregate data in quadratic polygons\n",
    "* **HexBin**: Similar to heatmaps, but aggregate data in hexagonal polygons\n",
    "* **Polygon**: Custom geometries defined in your dataset. Can be constructed by using [GeoPandas](http://geopandas.org/) + [GeoJSON](https://macwright.org/2015/03/23/geojson-second-bite.html) structures. You can check some examples [here](https://github.com/keplergl/kepler.gl/blob/master/bindings/kepler.gl-jupyter/notebooks/GeoDataFrame.ipynb) but it's not in the scope of this workshop. However, feel free to approach and ask us :)\n",
    "* **Cluster**: Cluster data `points` similar to Heatmap, but is customizable by how much data is aggregated by its *radius* parameter\n",
    "* **Icon**: Similar to `Point` but allow user to use a column \"*icon*\" containing strings that represent visual icons. In order to check for examples create a new **Icon** layer and click on the link `how to` right above the layer type:\n",
    "* **H3**: Visualize data based on H3 indexes `hex_id` column. We're going to look at H3 in the next section.\n",
    "* **3D**: Allow users upload 3d city models, such as relief maps or building plants and join them into the analysis with the already mentioned geometries.\n",
    "* **Trip**: Similar as `Polygon`, a *polyline* is a kind of polygons composed of a sequence of connected points, except for the first and last `Point`. Polylines are defined in GeoJSON and can be used with GeoPandas\n",
    "  \n",
    "You can check a few visuals in the [examples section](https://github.com/keplergl/kepler.gl/blob/master/docs/user-guides/c-types-of-layers.md) of kepler Github repository.  \n",
    "\n",
    "### Check pickup and dropoff points points  \n",
    "\n",
    "For checking pick-up and drop-off locations, we're going to check these `Points` in kepler by sending the latitudes and longitudes from both fields and build a Points layer in Kepler\n",
    "  \n"
   ]
  },
  {
   "cell_type": "code",
   "execution_count": 5,
   "metadata": {
    "scrolled": false
   },
   "outputs": [],
   "source": [
    "# w1 = keplergl.KeplerGl(height=500)\n",
    "# w1.add_data(data=df[['pickup_latitude', 'pickup_longitude',\n",
    "#                      'dropoff_latitude', 'dropoff_longitude']], name='points')\n",
    "# w1"
   ]
  },
  {
   "cell_type": "markdown",
   "metadata": {},
   "source": [
    "We can see that some points are quite wrong, being not just outside New York, but rather in other countries or even in the middle of the ocean. Lets do a simple approach to remove those points and build a [bounding box](https://wiki.openstreetmap.org/wiki/Bounding_Box), *i.e.*, a square around New York, and remove all points whose pick-up or drop-off happens to be outside of it."
   ]
  },
  {
   "cell_type": "code",
   "execution_count": 6,
   "metadata": {},
   "outputs": [],
   "source": [
    "def remove_outside_bbox(df, bbox, lat_col, lon_col):\n",
    "    df_ = df.copy()\n",
    "    mask_lat = (df_[lat_col] > bbox[0][0]) & (df_[lat_col] < bbox[1][0])\n",
    "    mask_lon = (df_[lon_col] > bbox[0][1]) & (df_[lon_col] < bbox[1][1])\n",
    "    return df_.loc[(mask_lat) & (mask_lon)]\n",
    "\n",
    "bottom_left_lat_lon = [40.492016, -74.279034]\n",
    "upper_right_lat_lon = [40.913473, -73.689152]\n",
    "bbox = [bottom_left_lat_lon, upper_right_lat_lon]\n",
    "\n",
    "df = remove_outside_bbox(df, bbox, 'pickup_latitude', 'pickup_longitude')\n",
    "df = remove_outside_bbox(df, bbox, 'dropoff_latitude', 'dropoff_longitude')\n",
    "\n"
   ]
  },
  {
   "cell_type": "markdown",
   "metadata": {},
   "source": [
    "Lets check it again:"
   ]
  },
  {
   "cell_type": "code",
   "execution_count": 7,
   "metadata": {},
   "outputs": [],
   "source": [
    "# w1 = keplergl.KeplerGl(height=500)\n",
    "# w1.add_data(data=df[['pickup_latitude', 'pickup_longitude',\n",
    "#                      'dropoff_latitude', 'dropoff_longitude']], name='points')\n",
    "# w1"
   ]
  },
  {
   "cell_type": "markdown",
   "metadata": {
    "colab_type": "text",
    "id": "3bypvW8YD-Ih"
   },
   "source": [
    "# Split training and testing\n",
    "\n",
    "We're going to check the distribution of out dataset. Because of that, lets first split the dataset into `training` and `testing`, as one measure against overfitting our test set."
   ]
  },
  {
   "cell_type": "code",
   "execution_count": 8,
   "metadata": {
    "colab": {
     "base_uri": "https://localhost:8080/",
     "height": 52
    },
    "colab_type": "code",
    "id": "MRKsnouKEAvN",
    "outputId": "07716d2f-065f-4330-89df-513f69eb0fe9"
   },
   "outputs": [
    {
     "name": "stdout",
     "output_type": "stream",
     "text": [
      "Shape X_train (78180, 6)\n",
      "Shape X_test (19546, 6)\n"
     ]
    }
   ],
   "source": [
    "######\n",
    "###### Helper functions\n",
    "def split_training_test(df, target=TARGET, test_size=0.2):\n",
    "    X = df.drop(TARGET, axis=1)\n",
    "    y = df[TARGET]\n",
    "    return train_test_split(X, y, test_size=test_size, random_state=0) \n",
    "\n",
    "def join_Xy(df, target, target_str=TARGET):\n",
    "    df_ = df.copy()\n",
    "    df_[target_str] = target\n",
    "    return df_\n",
    "\n",
    "######\n",
    "###### Main function\n",
    "def get_initial_training_testing_set(df):\n",
    "    X_train, X_test, y_train, y_test = split_training_test(df)\n",
    "    print(f'Shape X_train {X_train.shape}')\n",
    "    print(f'Shape X_test {X_test.shape}')\n",
    "\n",
    "    # join target for easier exploratory analysis\n",
    "    df_train = join_Xy(X_train, y_train)\n",
    "    df_test = join_Xy(X_test, y_test)\n",
    "    return df_train, df_test\n",
    "\n",
    "df_train, df_test = get_initial_training_testing_set(df)"
   ]
  },
  {
   "cell_type": "markdown",
   "metadata": {},
   "source": [
    "# Data Analysis  \n",
    "\n",
    "In the machine learning context, we want to have the best quality data in our training procedure, as outliers can impact your model training process and therefore, create bad predictions for when your model is in production. With this second step on data analysis, we check the data distribution to check for extreme variations in our dataset. Besides serving for the purpose explained above, this also indicate the type of rules that we should consider when the model is in `production`.  \n",
    "  \n",
    "- For example, what should we do if we have a model for predicting Taxi fares made for NY in production and we receive a fare prediction request with a pick-up latitude/longitude referencing Brazil? \n",
    "\n",
    "\n",
    "## Remove fares < minimum fare and outliers > 99th percentile\n",
    "\n",
    "Lets use a simple percentil rule in order to remove training data whose fare is minimum that the city regulation defines and more than 99% of the other fares presenting in our training set."
   ]
  },
  {
   "cell_type": "code",
   "execution_count": 9,
   "metadata": {},
   "outputs": [
    {
     "data": {
      "text/plain": [
       "count    78180.000000\n",
       "mean        11.245007\n",
       "std          9.485479\n",
       "min          0.000000\n",
       "1%           3.300000\n",
       "5%           4.100000\n",
       "10%          4.500000\n",
       "50%          8.500000\n",
       "90%         20.000000\n",
       "95%         30.000000\n",
       "99%         52.000000\n",
       "max        500.000000\n",
       "Name: fare_amount, dtype: float64"
      ]
     },
     "metadata": {},
     "output_type": "display_data"
    },
    {
     "data": {
      "image/png": "[encoded data removed]",
      "text/plain": [
       "<Figure size 432x288 with 1 Axes>"
      ]
     },
     "metadata": {},
     "output_type": "display_data"
    }
   ],
   "source": [
    "# minimum fare = $2.5: https://www1.nyc.gov/site/tlc/passengers/taxi-fare.page\n",
    "\n",
    "display(df_train['fare_amount'].describe(percentiles=[.01, .05, .1, .90,.95,.99]))\n",
    "df_train = df_train.loc[(df_train['fare_amount'] > 2.5) & (df_train['fare_amount'] < 52)]\n",
    "\n",
    "plt.hist(df_train['fare_amount'], bins='auto')\n",
    "plt.title('Histogram of Fare')\n",
    "plt.xlabel('Dollars ($)');\n",
    "# display(df_train['fare_amount'].hist(bins='auto'));\n"
   ]
  },
  {
   "cell_type": "markdown",
   "metadata": {},
   "source": [
    "## Average demand per region over 1 weekday - H3"
   ]
  },
  {
   "cell_type": "code",
   "execution_count": 10,
   "metadata": {},
   "outputs": [],
   "source": [
    "# Caio's code. ~70.000 training data points makes it sparse\n",
    "\n",
    "df_train['weekday'] = df_train['pickup_datetime'].dt.dayofweek\n",
    "\n",
    "df_train['is_weekend'] = np.nan\n",
    "df_train.loc[df_train['weekday'].isin([5,6]), 'is_weekend'] = 1\n",
    "df_train.loc[np.isnan(df_train['is_weekend']), 'is_weekend'] = 0\n",
    "\n",
    "df_train['date']  = df_train['pickup_datetime'].dt.strftime('%Y-%m-%d')\n",
    "df_train['hour'] = df_train['pickup_datetime'].dt.strftime('%H:00:00')\n",
    "\n",
    "agg_1 = df_train.groupby(['date', 'is_weekend', 'hour']).size().reset_index().rename(columns={0:'count'})\n",
    "agg_2 = agg_1.groupby(['is_weekend', 'hour']).mean().reset_index().rename(columns={0:'count'})\n",
    "# agg_2['count'].describe()"
   ]
  },
  {
   "cell_type": "code",
   "execution_count": 11,
   "metadata": {},
   "outputs": [],
   "source": [
    "# TODO: understand and refine this step (Eva)"
   ]
  },
  {
   "cell_type": "code",
   "execution_count": 12,
   "metadata": {},
   "outputs": [
    {
     "data": {
      "text/html": [
       "<div>\n",
       "<style scoped>\n",
       "    .dataframe tbody tr th:only-of-type {\n",
       "        vertical-align: middle;\n",
       "    }\n",
       "\n",
       "    .dataframe tbody tr th {\n",
       "        vertical-align: top;\n",
       "    }\n",
       "\n",
       "    .dataframe thead th {\n",
       "        text-align: right;\n",
       "    }\n",
       "</style>\n",
       "<table border=\"1\" class=\"dataframe\">\n",
       "  <thead>\n",
       "    <tr style=\"text-align: right;\">\n",
       "      <th></th>\n",
       "      <th>pickup_datetime</th>\n",
       "      <th>pickup_longitude</th>\n",
       "      <th>pickup_latitude</th>\n",
       "      <th>dropoff_longitude</th>\n",
       "      <th>dropoff_latitude</th>\n",
       "      <th>passenger_count</th>\n",
       "      <th>fare_amount</th>\n",
       "      <th>weekday</th>\n",
       "      <th>is_weekend</th>\n",
       "      <th>date</th>\n",
       "      <th>hour</th>\n",
       "      <th>pickup_h3</th>\n",
       "      <th>dropoff_h3</th>\n",
       "      <th>counts</th>\n",
       "    </tr>\n",
       "  </thead>\n",
       "  <tbody>\n",
       "    <tr>\n",
       "      <th>0</th>\n",
       "      <td>2015-04-05 14:04:06</td>\n",
       "      <td>-73.97853</td>\n",
       "      <td>40.764107</td>\n",
       "      <td>-73.976875</td>\n",
       "      <td>40.751816</td>\n",
       "      <td>1</td>\n",
       "      <td>10.5</td>\n",
       "      <td>6</td>\n",
       "      <td>6</td>\n",
       "      <td>2015-04-05</td>\n",
       "      <td>14:00:00</td>\n",
       "      <td>872a100d6ffffff</td>\n",
       "      <td>872a100d6ffffff</td>\n",
       "      <td>1986</td>\n",
       "    </tr>\n",
       "    <tr>\n",
       "      <th>1</th>\n",
       "      <td>2014-11-30 01:35:00</td>\n",
       "      <td>-73.96109</td>\n",
       "      <td>40.759340</td>\n",
       "      <td>-73.979660</td>\n",
       "      <td>40.739180</td>\n",
       "      <td>1</td>\n",
       "      <td>9.0</td>\n",
       "      <td>6</td>\n",
       "      <td>6</td>\n",
       "      <td>2014-11-30</td>\n",
       "      <td>01:00:00</td>\n",
       "      <td>872a100d6ffffff</td>\n",
       "      <td>872a100d2ffffff</td>\n",
       "      <td>1986</td>\n",
       "    </tr>\n",
       "    <tr>\n",
       "      <th>2</th>\n",
       "      <td>2014-03-09 16:05:00</td>\n",
       "      <td>-73.98131</td>\n",
       "      <td>40.759434</td>\n",
       "      <td>-73.988625</td>\n",
       "      <td>40.746037</td>\n",
       "      <td>1</td>\n",
       "      <td>7.5</td>\n",
       "      <td>6</td>\n",
       "      <td>6</td>\n",
       "      <td>2014-03-09</td>\n",
       "      <td>16:00:00</td>\n",
       "      <td>872a100d6ffffff</td>\n",
       "      <td>872a100d2ffffff</td>\n",
       "      <td>1986</td>\n",
       "    </tr>\n",
       "    <tr>\n",
       "      <th>3</th>\n",
       "      <td>2011-12-18 09:59:00</td>\n",
       "      <td>-73.97392</td>\n",
       "      <td>40.750492</td>\n",
       "      <td>-73.973000</td>\n",
       "      <td>40.753740</td>\n",
       "      <td>5</td>\n",
       "      <td>3.3</td>\n",
       "      <td>6</td>\n",
       "      <td>6</td>\n",
       "      <td>2011-12-18</td>\n",
       "      <td>09:00:00</td>\n",
       "      <td>872a100d6ffffff</td>\n",
       "      <td>872a100d6ffffff</td>\n",
       "      <td>1986</td>\n",
       "    </tr>\n",
       "    <tr>\n",
       "      <th>4</th>\n",
       "      <td>2015-01-11 19:08:40</td>\n",
       "      <td>-73.97714</td>\n",
       "      <td>40.758244</td>\n",
       "      <td>-73.998040</td>\n",
       "      <td>40.717827</td>\n",
       "      <td>2</td>\n",
       "      <td>15.0</td>\n",
       "      <td>6</td>\n",
       "      <td>6</td>\n",
       "      <td>2015-01-11</td>\n",
       "      <td>19:00:00</td>\n",
       "      <td>872a100d6ffffff</td>\n",
       "      <td>872a1072cffffff</td>\n",
       "      <td>1986</td>\n",
       "    </tr>\n",
       "  </tbody>\n",
       "</table>\n",
       "</div>"
      ],
      "text/plain": [
       "      pickup_datetime  pickup_longitude  pickup_latitude  dropoff_longitude  \\\n",
       "0 2015-04-05 14:04:06         -73.97853        40.764107         -73.976875   \n",
       "1 2014-11-30 01:35:00         -73.96109        40.759340         -73.979660   \n",
       "2 2014-03-09 16:05:00         -73.98131        40.759434         -73.988625   \n",
       "3 2011-12-18 09:59:00         -73.97392        40.750492         -73.973000   \n",
       "4 2015-01-11 19:08:40         -73.97714        40.758244         -73.998040   \n",
       "\n",
       "   dropoff_latitude  passenger_count  fare_amount  weekday  is_weekend  \\\n",
       "0         40.751816                1         10.5        6           6   \n",
       "1         40.739180                1          9.0        6           6   \n",
       "2         40.746037                1          7.5        6           6   \n",
       "3         40.753740                5          3.3        6           6   \n",
       "4         40.717827                2         15.0        6           6   \n",
       "\n",
       "         date      hour        pickup_h3       dropoff_h3  counts  \n",
       "0  2015-04-05  14:00:00  872a100d6ffffff  872a100d6ffffff    1986  \n",
       "1  2014-11-30  01:00:00  872a100d6ffffff  872a100d2ffffff    1986  \n",
       "2  2014-03-09  16:00:00  872a100d6ffffff  872a100d2ffffff    1986  \n",
       "3  2011-12-18  09:00:00  872a100d6ffffff  872a100d6ffffff    1986  \n",
       "4  2015-01-11  19:00:00  872a100d6ffffff  872a1072cffffff    1986  "
      ]
     },
     "execution_count": 12,
     "metadata": {},
     "output_type": "execute_result"
    }
   ],
   "source": [
    "def average_demand_weekday(df,\n",
    "                           pickup_latitude='pickup_latitude', pickup_longitude='pickup_longitude',\n",
    "                           dropoff_latitude='dropoff_latitude', dropoff_longitude='dropoff_longitude',\n",
    "                           pickup_datetime='pickup_datetime', resolution=H3_RES_ANALYSIS):\n",
    "    df = df.copy()\n",
    "    \n",
    "    # hexagon indices\n",
    "    df['pickup_h3'] = [h3.geo_to_h3(lat, long, res=resolution) for lat, long in zip(df[pickup_latitude], \n",
    "                                                                                    df[pickup_longitude])]\n",
    "    df['dropoff_h3'] = [h3.geo_to_h3(lat, long, res=resolution) for lat, long in zip(df[dropoff_latitude], \n",
    "                                                                                    df[dropoff_longitude])]\n",
    "    # weekday\n",
    "    df['is_weekend'] = df[pickup_datetime].dt.dayofweek\n",
    "    \n",
    "    # aggregate per hexagon and weekday \n",
    "    df_aggregated = df.groupby(['pickup_h3','weekday']).size().reset_index(name='counts')\n",
    "    \n",
    "    df_demand = df.merge(df_aggregated, how = 'inner', on = ['pickup_h3', 'weekday'])\n",
    "    return df_demand\n",
    "\n",
    "df_hex = average_demand_weekday(df_train, resolution=H3_RES_ANALYSIS)\n",
    "\n",
    "df_hex.head()"
   ]
  },
  {
   "cell_type": "markdown",
   "metadata": {},
   "source": [
    "In the following cell you can play a little bit with hexagons.\n",
    "Ideas to do:\n",
    "\n",
    "Open the menu >\n",
    "Toggle the views of the already loaded visualisations\n",
    "Create a new H3 layer and choose as the hex_id either pickup_h3 or dropoff_h3\n",
    "Set the color to count\n",
    "Right next to the layer tool is the filter tool where you can add a filter with the weekday\n",
    "More ideas:\n",
    "\n",
    "Check other visualisations (arc, hexbin, ...)"
   ]
  },
  {
   "cell_type": "code",
   "execution_count": 13,
   "metadata": {},
   "outputs": [],
   "source": [
    "# w1 = keplergl.KeplerGl(height=500)\n",
    "# w1.add_data(data=df_hex, name='hexagons')\n",
    "# w1"
   ]
  },
  {
   "cell_type": "markdown",
   "metadata": {},
   "source": [
    "## Average Origin-Destination map over 1 weekday - H3\n",
    "\n",
    "To see which routes are the most demanded, we connect the pickup hexagon centers with the dropoff hexagon centers. Can you guess the most popular drop-off?"
   ]
  },
  {
   "cell_type": "code",
   "execution_count": 14,
   "metadata": {},
   "outputs": [
    {
     "data": {
      "text/html": [
       "<div>\n",
       "<style scoped>\n",
       "    .dataframe tbody tr th:only-of-type {\n",
       "        vertical-align: middle;\n",
       "    }\n",
       "\n",
       "    .dataframe tbody tr th {\n",
       "        vertical-align: top;\n",
       "    }\n",
       "\n",
       "    .dataframe thead th {\n",
       "        text-align: right;\n",
       "    }\n",
       "</style>\n",
       "<table border=\"1\" class=\"dataframe\">\n",
       "  <thead>\n",
       "    <tr style=\"text-align: right;\">\n",
       "      <th></th>\n",
       "      <th>lat_pickup</th>\n",
       "      <th>lng_pickup</th>\n",
       "      <th>lat_dropoff</th>\n",
       "      <th>lng_dropoff</th>\n",
       "      <th>counts</th>\n",
       "      <th>weekday</th>\n",
       "    </tr>\n",
       "  </thead>\n",
       "  <tbody>\n",
       "    <tr>\n",
       "      <th>0</th>\n",
       "      <td>40.760835</td>\n",
       "      <td>-73.973311</td>\n",
       "      <td>40.760835</td>\n",
       "      <td>-73.973311</td>\n",
       "      <td>1986</td>\n",
       "      <td>6</td>\n",
       "    </tr>\n",
       "    <tr>\n",
       "      <th>1</th>\n",
       "      <td>40.760835</td>\n",
       "      <td>-73.973311</td>\n",
       "      <td>40.741943</td>\n",
       "      <td>-73.987555</td>\n",
       "      <td>1986</td>\n",
       "      <td>6</td>\n",
       "    </tr>\n",
       "    <tr>\n",
       "      <th>4</th>\n",
       "      <td>40.760835</td>\n",
       "      <td>-73.973311</td>\n",
       "      <td>40.723054</td>\n",
       "      <td>-74.001787</td>\n",
       "      <td>1986</td>\n",
       "      <td>6</td>\n",
       "    </tr>\n",
       "    <tr>\n",
       "      <th>6</th>\n",
       "      <td>40.760835</td>\n",
       "      <td>-73.973311</td>\n",
       "      <td>40.778923</td>\n",
       "      <td>-73.989006</td>\n",
       "      <td>1986</td>\n",
       "      <td>6</td>\n",
       "    </tr>\n",
       "    <tr>\n",
       "      <th>12</th>\n",
       "      <td>40.760835</td>\n",
       "      <td>-73.973311</td>\n",
       "      <td>40.798625</td>\n",
       "      <td>-73.944790</td>\n",
       "      <td>1986</td>\n",
       "      <td>6</td>\n",
       "    </tr>\n",
       "  </tbody>\n",
       "</table>\n",
       "</div>"
      ],
      "text/plain": [
       "    lat_pickup  lng_pickup  lat_dropoff  lng_dropoff  counts  weekday\n",
       "0    40.760835  -73.973311    40.760835   -73.973311    1986        6\n",
       "1    40.760835  -73.973311    40.741943   -73.987555    1986        6\n",
       "4    40.760835  -73.973311    40.723054   -74.001787    1986        6\n",
       "6    40.760835  -73.973311    40.778923   -73.989006    1986        6\n",
       "12   40.760835  -73.973311    40.798625   -73.944790    1986        6"
      ]
     },
     "execution_count": 14,
     "metadata": {},
     "output_type": "execute_result"
    }
   ],
   "source": [
    "def average_arc_weekday(df,\n",
    "                        pickup_hex='pickup_h3', dropoff_hex='dropoff_h3',\n",
    "                        counts='counts', weekday='weekday'):\n",
    "    \n",
    "    center_pickup_hex = 'center_pickup_hex'\n",
    "    center_dropoff_hex = 'center_dropoff_hex'\n",
    "    df[center_pickup_hex] = df[pickup_hex].apply(lambda x: h3.h3_to_geo(x))\n",
    "    df[center_dropoff_hex] = df[dropoff_hex].apply(lambda x: h3.h3_to_geo(x))\n",
    "    \n",
    "    df['lng_pickup'] = df[center_pickup_hex].apply(lambda x: x[1])\n",
    "    df['lat_pickup'] = df[center_pickup_hex].apply(lambda x: x[0])\n",
    "    df['lng_dropoff'] = df[center_dropoff_hex].apply(lambda x: x[1])\n",
    "    df['lat_dropoff'] = df[center_dropoff_hex].apply(lambda x: x[0])\n",
    "    return df[['lat_pickup', 'lng_pickup', 'lat_dropoff', 'lng_dropoff', counts, weekday]].drop_duplicates()\n",
    "\n",
    "df_arc = average_arc_weekday(df_hex)\n",
    "df_arc.head()"
   ]
  },
  {
   "cell_type": "code",
   "execution_count": 15,
   "metadata": {},
   "outputs": [],
   "source": [
    "# w1 = keplergl.KeplerGl(height=500)\n",
    "# w1.add_data(data=df_arc.drop_duplicates(), name='hexagons')\n",
    "# w1"
   ]
  },
  {
   "cell_type": "markdown",
   "metadata": {},
   "source": [
    "# Feature Engineering - Model Iterations\n",
    "\n",
    "Now that we have a cleaner training set, we can use it to create our predictions! For teaching purposes, we're going to create multiple models, with incremental set of features/complexity. For each iteration, we're going to show a demo with the feature's concept, create a pipeline, train our models and then show and store the errors by their's [Root Mean Squared Error - RMSE](https://en.wikipedia.org/wiki/Root-mean-square_deviation).\n",
    "\n",
    "## Start experiment tracking\n",
    "\n",
    "We're going to store the RMSEs for each iteration in this dictionary and look at it at the end of each iteration."
   ]
  },
  {
   "cell_type": "code",
   "execution_count": 16,
   "metadata": {
    "colab": {},
    "colab_type": "code",
    "id": "ShZLGIYzk-cI"
   },
   "outputs": [],
   "source": [
    "iteration_results = {}"
   ]
  },
  {
   "cell_type": "markdown",
   "metadata": {},
   "source": [
    "## Model 0 - Lazy Estimator - Median Fare\n",
    "\n",
    "In order to have a baseline, we're going to start with a lazy model, one that, for every row in our training (and testing) dataset, will predict only the median fare of the training set. The only purpose of this is to have a upper error limit and we hope to see it decreasing after every iteration on the model's features."
   ]
  },
  {
   "cell_type": "code",
   "execution_count": 17,
   "metadata": {},
   "outputs": [
    {
     "name": "stdout",
     "output_type": "stream",
     "text": [
      "Median Fare: 8.5\n",
      "RMSE: 9.61393775520487\n"
     ]
    }
   ],
   "source": [
    "median_f = df_train['fare_amount'].median()\n",
    "print(f'Median Fare: {median_f}')\n",
    "\n",
    "y_test_pred_lazy = [median_f] * df_test.shape[0]                      # array with same length as y_test\n",
    "\n",
    "rmse = np.sqrt(mean_squared_error(df_test[TARGET], y_test_pred_lazy)) # RMSE\n",
    "iteration_results['exp_lazy_rmse'] = rmse                             # store in experiments results\n",
    "print(f'RMSE: {rmse}')"
   ]
  },
  {
   "cell_type": "markdown",
   "metadata": {
    "colab_type": "text",
    "id": "dSmcxpLMF_xJ"
   },
   "source": [
    "## Model 1 - Euclidean Distance"
   ]
  },
  {
   "cell_type": "code",
   "execution_count": 18,
   "metadata": {
    "colab": {
     "base_uri": "https://localhost:8080/",
     "height": 138
    },
    "colab_type": "code",
    "id": "sO-69Fi2FAYt",
    "outputId": "b4d0270e-167d-4a8d-b251-6d1cd365b238"
   },
   "outputs": [
    {
     "data": {
      "text/html": [
       "<div>\n",
       "<style scoped>\n",
       "    .dataframe tbody tr th:only-of-type {\n",
       "        vertical-align: middle;\n",
       "    }\n",
       "\n",
       "    .dataframe tbody tr th {\n",
       "        vertical-align: top;\n",
       "    }\n",
       "\n",
       "    .dataframe thead th {\n",
       "        text-align: right;\n",
       "    }\n",
       "</style>\n",
       "<table border=\"1\" class=\"dataframe\">\n",
       "  <thead>\n",
       "    <tr style=\"text-align: right;\">\n",
       "      <th></th>\n",
       "      <th>pickup_datetime</th>\n",
       "      <th>pickup_longitude</th>\n",
       "      <th>pickup_latitude</th>\n",
       "      <th>dropoff_longitude</th>\n",
       "      <th>dropoff_latitude</th>\n",
       "      <th>passenger_count</th>\n",
       "      <th>fare_amount</th>\n",
       "      <th>weekday</th>\n",
       "      <th>is_weekend</th>\n",
       "      <th>date</th>\n",
       "      <th>hour</th>\n",
       "      <th>euclidean_dist</th>\n",
       "    </tr>\n",
       "  </thead>\n",
       "  <tbody>\n",
       "    <tr>\n",
       "      <th>81127</th>\n",
       "      <td>2015-04-05 14:04:06</td>\n",
       "      <td>-73.978530</td>\n",
       "      <td>40.764107</td>\n",
       "      <td>-73.976875</td>\n",
       "      <td>40.751816</td>\n",
       "      <td>1</td>\n",
       "      <td>10.5</td>\n",
       "      <td>6</td>\n",
       "      <td>1.0</td>\n",
       "      <td>2015-04-05</td>\n",
       "      <td>14:00:00</td>\n",
       "      <td>162.260732</td>\n",
       "    </tr>\n",
       "    <tr>\n",
       "      <th>88083</th>\n",
       "      <td>2009-10-22 20:28:40</td>\n",
       "      <td>-73.951350</td>\n",
       "      <td>40.778564</td>\n",
       "      <td>-73.963455</td>\n",
       "      <td>40.761920</td>\n",
       "      <td>2</td>\n",
       "      <td>5.7</td>\n",
       "      <td>3</td>\n",
       "      <td>0.0</td>\n",
       "      <td>2009-10-22</td>\n",
       "      <td>20:00:00</td>\n",
       "      <td>162.249391</td>\n",
       "    </tr>\n",
       "    <tr>\n",
       "      <th>40667</th>\n",
       "      <td>2013-09-24 11:22:00</td>\n",
       "      <td>-74.012955</td>\n",
       "      <td>40.709984</td>\n",
       "      <td>-73.989600</td>\n",
       "      <td>40.702730</td>\n",
       "      <td>1</td>\n",
       "      <td>13.0</td>\n",
       "      <td>1</td>\n",
       "      <td>0.0</td>\n",
       "      <td>2013-09-24</td>\n",
       "      <td>11:00:00</td>\n",
       "      <td>162.221094</td>\n",
       "    </tr>\n",
       "  </tbody>\n",
       "</table>\n",
       "</div>"
      ],
      "text/plain": [
       "          pickup_datetime  pickup_longitude  pickup_latitude  \\\n",
       "81127 2015-04-05 14:04:06        -73.978530        40.764107   \n",
       "88083 2009-10-22 20:28:40        -73.951350        40.778564   \n",
       "40667 2013-09-24 11:22:00        -74.012955        40.709984   \n",
       "\n",
       "       dropoff_longitude  dropoff_latitude  passenger_count  fare_amount  \\\n",
       "81127         -73.976875         40.751816                1         10.5   \n",
       "88083         -73.963455         40.761920                2          5.7   \n",
       "40667         -73.989600         40.702730                1         13.0   \n",
       "\n",
       "       weekday  is_weekend        date      hour  euclidean_dist  \n",
       "81127        6         1.0  2015-04-05  14:00:00      162.260732  \n",
       "88083        3         0.0  2009-10-22  20:00:00      162.249391  \n",
       "40667        1         0.0  2013-09-24  11:00:00      162.221094  "
      ]
     },
     "execution_count": 18,
     "metadata": {},
     "output_type": "execute_result"
    }
   ],
   "source": [
    "def euclidean_distance(x1, y1, x2, y2):\n",
    "    return (((x2-x1)**2 + (y2-y1)**2)**(1/2))\n",
    "\n",
    "df_train_temp = df_train.head(3).copy()\n",
    "df_train_temp['euclidean_dist'] = euclidean_distance(df_train_temp['pickup_latitude'], df_train_temp['dropoff_latitude'], \n",
    "                                                   df_train_temp['pickup_longitude'], df_train_temp['dropoff_longitude'])\n",
    "\n",
    "df_train_temp\n"
   ]
  },
  {
   "cell_type": "code",
   "execution_count": 19,
   "metadata": {
    "colab": {},
    "colab_type": "code",
    "id": "pCdZLbWRG15v"
   },
   "outputs": [],
   "source": [
    "def standardize_features(df):\n",
    "    df_copy = df.copy()\n",
    "    col_names = df_copy.columns\n",
    "    ixs = df_copy.index\n",
    "    return pd.DataFrame(StandardScaler().fit_transform(df_copy), columns=col_names, index=ixs)\n",
    "\n",
    "def feature_pipeline_1(df, target_col=TARGET,\n",
    "                              pickup_latitude='pickup_latitude', dropoff_latitude='dropoff_latitude', \n",
    "                              pickup_longitude='pickup_longitude', dropoff_longitude='dropoff_longitude'):\n",
    "  \n",
    "    EUCLIDEAN_FEAT = 'euclidean_dist'\n",
    "    FEATURES = [EUCLIDEAN_FEAT]\n",
    "\n",
    "    df_copy = df.copy()\n",
    "    df_copy[EUCLIDEAN_FEAT] = euclidean_distance(x1=df_copy[pickup_latitude], x2=df_copy[dropoff_latitude], \n",
    "                                                 y1=df_copy[pickup_longitude], y2=df_copy[dropoff_longitude])\n",
    "    # in the EDA, we probably treat the nulls, so for now, just drop them\n",
    "    df_copy = df_copy.dropna()\n",
    "        \n",
    "    return df_copy[FEATURES + [target_col]]\n",
    "\n",
    "df_train_1 = feature_pipeline_1(df_train)\n",
    "df_test_1 = feature_pipeline_1(df_test)\n",
    "\n"
   ]
  },
  {
   "cell_type": "code",
   "execution_count": 20,
   "metadata": {
    "colab": {},
    "colab_type": "code",
    "id": "-eXRxwMFHVjE"
   },
   "outputs": [],
   "source": [
    "model_1 = LinearRegression()\n",
    "model_1.fit(df_train_1.drop(TARGET, axis=1), df_train_1[TARGET])\n",
    "\n",
    "y_test_pred_1 = model_1.predict(df_test_1.drop(TARGET, axis=1))"
   ]
  },
  {
   "cell_type": "code",
   "execution_count": 21,
   "metadata": {
    "colab": {
     "base_uri": "https://localhost:8080/",
     "height": 298
    },
    "colab_type": "code",
    "id": "N37YPJLAdTzy",
    "outputId": "b581fb72-42f9-4f2f-c8bb-ef9d506297f0"
   },
   "outputs": [
    {
     "name": "stdout",
     "output_type": "stream",
     "text": [
      "RMSE: 4.33833106609023\n"
     ]
    },
    {
     "data": {
      "image/png": "[encoded data removed]",
      "text/plain": [
       "<Figure size 432x288 with 1 Axes>"
      ]
     },
     "metadata": {},
     "output_type": "display_data"
    }
   ],
   "source": [
    "def print_evaluation(y_obs, y_pred, max_lim_y=100, return_errors=True):\n",
    "    rmse_hist = np.sqrt((y_pred - y_obs)**2)\n",
    "    plt.hist(rmse_hist[y_obs < max_lim_y], bins=100)\n",
    "    plt.title('RMSE Distribution');\n",
    "\n",
    "    if(return_errors == True):\n",
    "        return mae_hist\n",
    "\n",
    "#####\n",
    "rmse = np.sqrt(mean_squared_error(df_test_1[TARGET], y_test_pred_1))\n",
    "iteration_results['exp_1_rmse'] = rmse\n",
    "print(f'RMSE: {rmse}')\n",
    "\n",
    "print_evaluation(df_test_1[TARGET], y_test_pred_1, return_errors=False)"
   ]
  },
  {
   "cell_type": "markdown",
   "metadata": {
    "colab_type": "text",
    "id": "Hed4d4mGlVEZ"
   },
   "source": [
    "TODO: Explanations below\n",
    "\n",
    "## Why the feature value above is not correct? \n",
    "\n",
    "### Projections\n",
    "\n",
    "### Latitude/Longitude\n",
    "\n",
    "### Universal Transverse Mercator (UTM) \n",
    "\n",
    "### Adapted Pipeline 1 for UTM"
   ]
  },
  {
   "cell_type": "code",
   "execution_count": 25,
   "metadata": {},
   "outputs": [],
   "source": [
    "# https://www.latlong.net/lat-long-utm.html\n",
    "# https://en.wikipedia.org/wiki/Universal_Transverse_Mercator_coordinate_system\n",
    "\n",
    "def feature_pipeline_1b(df, target_col=TARGET,\n",
    "                       pickup_latitude='pickup_latitude', dropoff_latidue='dropoff_latitude', \n",
    "                       pickup_longitude='pickup_longitude', dropoff_longitude='dropoff_longitude',\n",
    "                       utm_proj_zone=18):\n",
    "  \n",
    "    EUCLIDEAN_FEAT = 'euclidean_dist'\n",
    "    FEATURES = [EUCLIDEAN_FEAT]\n",
    "\n",
    "    df_copy = df.copy()\n",
    "    \n",
    "    # project points to UTM\n",
    "    # New York city zone = 18 - https://www.latlong.net/lat-long-utm.html\n",
    "    lonlat2UTM = Proj(proj='utm', zone=utm_proj_zone, ellps='WGS84') \n",
    "    pickup_dropoff_cols = ['pickup', 'dropoff']\n",
    "    for point in pickup_dropoff_cols:\n",
    "        point_easting, point_northing = lonlat2UTM(df_copy[f'{point}_longitude'].values,\n",
    "                                                   df_copy[f'{point}_latitude'].values)\n",
    "        # lonlat2UTM(x,y,inverse=True) # to convert UTM back to lon/lat\n",
    "        df_copy[f'{point}_easting'] = point_easting\n",
    "        df_copy[f'{point}_northing'] = point_northing\n",
    "    \n",
    "    df_copy[EUCLIDEAN_FEAT] = euclidean_distance(x1=df_copy['pickup_northing'], x2=df_copy['dropoff_northing'], \n",
    "                                                 y1=df_copy['pickup_easting'], y2=df_copy['dropoff_easting'])\n",
    "    # in the EDA, we probably treat the nulls, so for now, just drop them\n",
    "    df_copy = df_copy.dropna()\n",
    "        \n",
    "    return df_copy[FEATURES + [target_col]]\n",
    "\n",
    "df_train_1b = feature_pipeline_1b(df_train)\n",
    "df_test_1b = feature_pipeline_1b(df_test)"
   ]
  },
  {
   "cell_type": "code",
   "execution_count": 27,
   "metadata": {},
   "outputs": [],
   "source": [
    "model_1b = LinearRegression()\n",
    "model_1b.fit(df_train_1b.drop(TARGET, axis=1), df_train_1b[TARGET])\n",
    "\n",
    "y_test_pred_1b = model_1b.predict(df_test_1b.drop(TARGET, axis=1))"
   ]
  },
  {
   "cell_type": "code",
   "execution_count": 28,
   "metadata": {},
   "outputs": [
    {
     "name": "stdout",
     "output_type": "stream",
     "text": [
      "RMSE: 4.464849428041979\n"
     ]
    },
    {
     "data": {
      "image/png": "[encoded data removed]",
      "text/plain": [
       "<Figure size 432x288 with 1 Axes>"
      ]
     },
     "metadata": {},
     "output_type": "display_data"
    }
   ],
   "source": [
    "rmse = np.sqrt(mean_squared_error(df_test_1b[TARGET], y_test_pred_1b))\n",
    "iteration_results['exp_1b_rmse'] = rmse\n",
    "print(f'RMSE: {rmse}')\n",
    "\n",
    "print_evaluation(df_test_1b[TARGET], y_test_pred_1b, return_errors=False)"
   ]
  },
  {
   "cell_type": "markdown",
   "metadata": {},
   "source": [
    "We can see that the score didn't change much, for small distances there's a big chance that latitude/longitude are highly correlated to UTM projections, except for the unit, which in UTM refers to meters, while lat/lon distances doesn't have any real unit."
   ]
  },
  {
   "cell_type": "code",
   "execution_count": 29,
   "metadata": {},
   "outputs": [
    {
     "data": {
      "text/html": [
       "<div>\n",
       "<style scoped>\n",
       "    .dataframe tbody tr th:only-of-type {\n",
       "        vertical-align: middle;\n",
       "    }\n",
       "\n",
       "    .dataframe tbody tr th {\n",
       "        vertical-align: top;\n",
       "    }\n",
       "\n",
       "    .dataframe thead th {\n",
       "        text-align: right;\n",
       "    }\n",
       "</style>\n",
       "<table border=\"1\" class=\"dataframe\">\n",
       "  <thead>\n",
       "    <tr style=\"text-align: right;\">\n",
       "      <th></th>\n",
       "      <th>euclidean_dist_x</th>\n",
       "      <th>euclidean_dist_y</th>\n",
       "    </tr>\n",
       "  </thead>\n",
       "  <tbody>\n",
       "    <tr>\n",
       "      <th>euclidean_dist_x</th>\n",
       "      <td>1.000000</td>\n",
       "      <td>0.992296</td>\n",
       "    </tr>\n",
       "    <tr>\n",
       "      <th>euclidean_dist_y</th>\n",
       "      <td>0.992296</td>\n",
       "      <td>1.000000</td>\n",
       "    </tr>\n",
       "  </tbody>\n",
       "</table>\n",
       "</div>"
      ],
      "text/plain": [
       "                  euclidean_dist_x  euclidean_dist_y\n",
       "euclidean_dist_x          1.000000          0.992296\n",
       "euclidean_dist_y          0.992296          1.000000"
      ]
     },
     "execution_count": 29,
     "metadata": {},
     "output_type": "execute_result"
    }
   ],
   "source": [
    "df_train_1[['euclidean_dist']].merge(df_train_1b[['euclidean_dist']], left_index=True, right_index=True).corr()"
   ]
  },
  {
   "cell_type": "markdown",
   "metadata": {},
   "source": [
    "### Manhattan - TODO: Explain\n",
    "\n",
    "### Haversine - TODO: Explain"
   ]
  },
  {
   "cell_type": "code",
   "execution_count": 30,
   "metadata": {
    "colab": {
     "base_uri": "https://localhost:8080/",
     "height": 138
    },
    "colab_type": "code",
    "id": "HjB400AfdUsm",
    "outputId": "89229ef5-4b3e-4b09-8662-60ac4bfb77b0"
   },
   "outputs": [
    {
     "data": {
      "text/html": [
       "<div>\n",
       "<style scoped>\n",
       "    .dataframe tbody tr th:only-of-type {\n",
       "        vertical-align: middle;\n",
       "    }\n",
       "\n",
       "    .dataframe tbody tr th {\n",
       "        vertical-align: top;\n",
       "    }\n",
       "\n",
       "    .dataframe thead th {\n",
       "        text-align: right;\n",
       "    }\n",
       "</style>\n",
       "<table border=\"1\" class=\"dataframe\">\n",
       "  <thead>\n",
       "    <tr style=\"text-align: right;\">\n",
       "      <th></th>\n",
       "      <th>pickup_datetime</th>\n",
       "      <th>pickup_longitude</th>\n",
       "      <th>pickup_latitude</th>\n",
       "      <th>dropoff_longitude</th>\n",
       "      <th>dropoff_latitude</th>\n",
       "      <th>passenger_count</th>\n",
       "      <th>fare_amount</th>\n",
       "      <th>weekday</th>\n",
       "      <th>is_weekend</th>\n",
       "      <th>date</th>\n",
       "      <th>hour</th>\n",
       "      <th>haversine_dist</th>\n",
       "    </tr>\n",
       "  </thead>\n",
       "  <tbody>\n",
       "    <tr>\n",
       "      <th>81127</th>\n",
       "      <td>2015-04-05 14:04:06</td>\n",
       "      <td>-73.978530</td>\n",
       "      <td>40.764107</td>\n",
       "      <td>-73.976875</td>\n",
       "      <td>40.751816</td>\n",
       "      <td>1</td>\n",
       "      <td>10.5</td>\n",
       "      <td>6</td>\n",
       "      <td>1.0</td>\n",
       "      <td>2015-04-05</td>\n",
       "      <td>14:00:00</td>\n",
       "      <td>1.372925</td>\n",
       "    </tr>\n",
       "    <tr>\n",
       "      <th>88083</th>\n",
       "      <td>2009-10-22 20:28:40</td>\n",
       "      <td>-73.951350</td>\n",
       "      <td>40.778564</td>\n",
       "      <td>-73.963455</td>\n",
       "      <td>40.761920</td>\n",
       "      <td>2</td>\n",
       "      <td>5.7</td>\n",
       "      <td>3</td>\n",
       "      <td>0.0</td>\n",
       "      <td>2009-10-22</td>\n",
       "      <td>20:00:00</td>\n",
       "      <td>2.111571</td>\n",
       "    </tr>\n",
       "    <tr>\n",
       "      <th>40667</th>\n",
       "      <td>2013-09-24 11:22:00</td>\n",
       "      <td>-74.012955</td>\n",
       "      <td>40.709984</td>\n",
       "      <td>-73.989600</td>\n",
       "      <td>40.702730</td>\n",
       "      <td>1</td>\n",
       "      <td>13.0</td>\n",
       "      <td>1</td>\n",
       "      <td>0.0</td>\n",
       "      <td>2013-09-24</td>\n",
       "      <td>11:00:00</td>\n",
       "      <td>2.126155</td>\n",
       "    </tr>\n",
       "  </tbody>\n",
       "</table>\n",
       "</div>"
      ],
      "text/plain": [
       "          pickup_datetime  pickup_longitude  pickup_latitude  \\\n",
       "81127 2015-04-05 14:04:06        -73.978530        40.764107   \n",
       "88083 2009-10-22 20:28:40        -73.951350        40.778564   \n",
       "40667 2013-09-24 11:22:00        -74.012955        40.709984   \n",
       "\n",
       "       dropoff_longitude  dropoff_latitude  passenger_count  fare_amount  \\\n",
       "81127         -73.976875         40.751816                1         10.5   \n",
       "88083         -73.963455         40.761920                2          5.7   \n",
       "40667         -73.989600         40.702730                1         13.0   \n",
       "\n",
       "       weekday  is_weekend        date      hour  haversine_dist  \n",
       "81127        6         1.0  2015-04-05  14:00:00        1.372925  \n",
       "88083        3         0.0  2009-10-22  20:00:00        2.111571  \n",
       "40667        1         0.0  2013-09-24  11:00:00        2.126155  "
      ]
     },
     "execution_count": 30,
     "metadata": {},
     "output_type": "execute_result"
    }
   ],
   "source": [
    "def lat_longs2radians(lon1, lat1, lon2, lat2):\n",
    "    lon1, lat1, lon2, lat2 = map(np.radians, [lon1, lat1, lon2, lat2])\n",
    "    return lon1, lat1, lon2, lat2\n",
    "\n",
    "def haversine_distance(lat1, lat2, lon1, lon2):\n",
    "    \"\"\"\n",
    "    Calculate the great circle distance between two points\n",
    "    on the earth (specified in decimal degrees)\n",
    "\n",
    "    All args must be of equal length.\n",
    "\n",
    "    \"\"\"\n",
    "    lon1, lat1, lon2, lat2 = lat_longs2radians(lon1, lat1, lon2, lat2)\n",
    "    dlon = lon2 - lon1\n",
    "    dlat = lat2 - lat1\n",
    "    a = np.sin(dlat/2.0)**2 + np.cos(lat1) * np.cos(lat2) * np.sin(dlon/2.0)**2\n",
    "\n",
    "    c = 2 * np.arcsin(np.sqrt(a))\n",
    "    km = 6367 * c\n",
    "    return km\n",
    "\n",
    "# TODO: manhattan with lat lon has NOT worked - see attempt below\n",
    "# def manhattan_distance(lon1, lat1, lon2, lat2):\n",
    "#   lon1, lat1, lon2, lat2 = lat_longs2radians(lon1, lat1, lon2, lat2)\n",
    "#   dlon = np.abs(lon2 - lon1)\n",
    "#   dlat = np.abs(lat2 - lat1)\n",
    "#   return dlon + dlat\n",
    "\n",
    "df_train_temp = df_train.head(3).copy()\n",
    "df_train_temp['haversine_dist'] = haversine_distance(df_train_temp['pickup_latitude'], df_train_temp['dropoff_latitude'], \n",
    "                                                   df_train_temp['pickup_longitude'], df_train_temp['dropoff_longitude'])\n",
    "\n",
    "\n",
    "# df_train_temp['manhattan_dist'] = manhattan_distance(df_train_temp['pickup_latitude'], df_train_temp['dropoff_latitude'], \n",
    "#                                                    df_train_temp['pickup_longitude'], df_train_temp['dropoff_longitude'])\n",
    "\n",
    "df_train_temp\n"
   ]
  },
  {
   "cell_type": "code",
   "execution_count": 32,
   "metadata": {
    "colab": {},
    "colab_type": "code",
    "id": "u_qHuzQIvMoY"
   },
   "outputs": [],
   "source": [
    "def feature_pipeline_2(df, target_col=TARGET, \n",
    "                              pickup_latitude='pickup_latitude', dropoff_latitude='dropoff_latitude', \n",
    "                              pickup_longitude='pickup_longitude', dropoff_longitude='dropoff_longitude'):\n",
    "    EUCLIDEAN_FEAT = 'euclidean_dist'\n",
    "    HAVERSINE_FEAT = 'haversine_dist'\n",
    "    # MANHATTAN_FEAT = 'manhattan_dist'\n",
    "    FEATURES = [EUCLIDEAN_FEAT, HAVERSINE_FEAT] #, MANHATTAN_FEAT - #not returning MANHATTAN_FEAT because it's wrong\n",
    "\n",
    "    df_copy = df.copy()\n",
    "\n",
    "    df_copy[EUCLIDEAN_FEAT] = euclidean_distance(df_copy[pickup_latitude], df_copy[dropoff_latitude], \n",
    "                                              df_copy[pickup_longitude], df_copy[dropoff_longitude])\n",
    "    df_copy[HAVERSINE_FEAT] = haversine_distance(df_copy[pickup_latitude], df_copy[dropoff_latitude], \n",
    "                                              df_copy[pickup_longitude], df_copy[dropoff_longitude])\n",
    "    # df_copy[MANHATTAN_FEAT] = manhattan_distance(df_copy[pickup_latitude], df_copy[dropoff_latitude], \n",
    "    #                                         df_copy[pickup_longitude], df_copy[dropoff_longitude])\n",
    "\n",
    "    # in the EDA, we probably treat the nulls, so for now, just drop them\n",
    "    df_copy = df_copy.dropna()\n",
    "    \n",
    "    return df_copy[FEATURES + [target_col]]\n",
    "\n",
    "df_train_2 = feature_pipeline_2(df_train)\n",
    "df_test_2 = feature_pipeline_2(df_test)\n"
   ]
  },
  {
   "cell_type": "code",
   "execution_count": 33,
   "metadata": {
    "colab": {},
    "colab_type": "code",
    "id": "M7N9psNc8_XW"
   },
   "outputs": [],
   "source": [
    "model_2 = LinearRegression()\n",
    "model_2.fit(df_train_2.drop(TARGET, axis=1), df_train_2[TARGET])\n",
    "\n",
    "y_test_pred_2 = model_2.predict(df_test_2.drop(TARGET, axis=1))"
   ]
  },
  {
   "cell_type": "code",
   "execution_count": 34,
   "metadata": {
    "colab": {
     "base_uri": "https://localhost:8080/",
     "height": 298
    },
    "colab_type": "code",
    "id": "5Dt9GkRI7lzA",
    "outputId": "de61466f-04b0-47d4-882d-93233a158650"
   },
   "outputs": [
    {
     "name": "stdout",
     "output_type": "stream",
     "text": [
      "RMSE Error: 4.440337029599703\n"
     ]
    },
    {
     "data": {
      "image/png": "[encoded data removed]",
      "text/plain": [
       "<Figure size 432x288 with 1 Axes>"
      ]
     },
     "metadata": {},
     "output_type": "display_data"
    }
   ],
   "source": [
    "rmse_2 = np.sqrt(mean_squared_error(df_test_2[TARGET], y_test_pred_2))\n",
    "iteration_results['exp_2_rmse'] = rmse_2\n",
    "print(f'RMSE Error: {rmse_2}')\n",
    "\n",
    "print_evaluation(df_test_2[TARGET], y_test_pred_2, return_errors=False)"
   ]
  },
  {
   "cell_type": "code",
   "execution_count": 35,
   "metadata": {
    "colab": {
     "base_uri": "https://localhost:8080/",
     "height": 35
    },
    "colab_type": "code",
    "id": "f9xm6EBNyK4x",
    "outputId": "fef691c8-dd5c-490e-fc5c-d0e186c21159"
   },
   "outputs": [
    {
     "data": {
      "text/plain": [
       "{'exp_1_rmse': 4.33833106609023,\n",
       " 'exp_1b_rmse': 4.464849428041979,\n",
       " 'exp_2_rmse': 4.440337029599703,\n",
       " 'exp_lazy_rmse': 9.61393775520487}"
      ]
     },
     "execution_count": 35,
     "metadata": {},
     "output_type": "execute_result"
    }
   ],
   "source": [
    "iteration_results"
   ]
  },
  {
   "cell_type": "markdown",
   "metadata": {
    "colab_type": "text",
    "id": "NszUYghK-Gjs"
   },
   "source": [
    "## Using fastest route distance and duration - OSRM\n",
    "\n",
    "## Setup\n",
    "\n",
    "Setting local docker image for ORSM back-end - https://hub.docker.com/r/osrm/osrm-backend/  \n",
    "Commands explanation - https://github.com/Project-OSRM/osrm-backend/wiki/Running-OSRM#quickstart\n",
    "\n",
    "* Paper on Multilevel Dijkstra - https://i11www.iti.kit.edu/_media/teaching/theses/ba-hamme-13.pdf  \n",
    "* Introduction to Contraction Hierarchies -  https://movingai.com/IJCAI18-HS/ijcai-hs-harabor.pdf\n",
    "  \n",
    "Instructions:   \n",
    "\n",
    "<div class=\"alert alert-block alert-info\">     \n",
    "    \n",
    "* Open a terminal and go to your project folder, create a <i>router</i> folder for cleanliness\n",
    "\n",
    "* wget http://download.geofabrik.de/north-america/us/new-york-latest.osm.pbf (file is ~200 Mb)\n",
    "\n",
    "* In the terminal, move to the folder where the file above was put and execute the following commands:\n",
    "\n",
    "* docker run -t -v \"${PWD}:/data\" osrm/osrm-backend osrm-extract -p /opt/car.lua /data/new-york-latest.osm.pbf\n",
    "\n",
    "* docker run -t -v \"${PWD}:/data\" osrm/osrm-backend osrm-partition /data/new-york-latest.osm.pbf\n",
    "\n",
    "* docker run -t -v \"${PWD}:/data\" osrm/osrm-backend osrm-customize /data/new-york-latest.osm.pbf\n",
    "\n",
    "* docker run -t -i -p 5000:5000 -v \"${PWD}:/data\" osrm/osrm-backend osrm-routed --algorithm mld /data/new-york-latest.osm.pbf  \n",
    "     \n",
    "</div>    \n",
    "\n",
    "Now you have the router running in a dedicated process. In order to test it, open another tab in the terminal and type the following:  \n",
    "\n",
    "Test: `curl \"http://localhost:5000/route/v1/driving/-73.996070,40.732605;-73.980675,40.761864?steps=false&geometries=geojson&annotations=true&overview=full\"`  \n",
    " \n",
    "This is a command to make a route between the two provided lon/lats. You can check more options at the [API documentation](http://project-osrm.org/docs/v5.5.1/api/#route-service)\n",
    "\n",
    "## Calculate street distances and durations"
   ]
  },
  {
   "cell_type": "code",
   "execution_count": 36,
   "metadata": {
    "colab": {},
    "colab_type": "code",
    "id": "24SDQOnJy52y"
   },
   "outputs": [
    {
     "data": {
      "text/html": [
       "<div style=\"width:100%;\"><div style=\"position:relative;width:100%;height:0;padding-bottom:60%;\"><iframe src=\"data:text/html;charset=utf-8;base64,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\" style=\"position:absolute;width:100%;height:100%;left:0;top:0;border:none !important;\" allowfullscreen webkitallowfullscreen mozallowfullscreen></iframe></div></div>"
      ],
      "text/plain": [
       "<folium.folium.Map at 0x12c074d30>"
      ]
     },
     "execution_count": 36,
     "metadata": {},
     "output_type": "execute_result"
    }
   ],
   "source": [
    "lat1, lon1 = 40.732605,-73.996070\n",
    "lat2, lon2 = 40.761864,-73.980675\n",
    "\n",
    "osm = OSRMFramework('localhost:5000')\n",
    "lat, lon, distance, duration, node_ids = osm.route(lat1, lon1, lat2, lon2)\n",
    "\n",
    "t = latlon2linestring(lat, lon)\n",
    "\n",
    "plot_linestring(t)"
   ]
  },
  {
   "cell_type": "code",
   "execution_count": 37,
   "metadata": {},
   "outputs": [
    {
     "data": {
      "text/html": [
       "<div>\n",
       "<style scoped>\n",
       "    .dataframe tbody tr th:only-of-type {\n",
       "        vertical-align: middle;\n",
       "    }\n",
       "\n",
       "    .dataframe tbody tr th {\n",
       "        vertical-align: top;\n",
       "    }\n",
       "\n",
       "    .dataframe thead th {\n",
       "        text-align: right;\n",
       "    }\n",
       "</style>\n",
       "<table border=\"1\" class=\"dataframe\">\n",
       "  <thead>\n",
       "    <tr style=\"text-align: right;\">\n",
       "      <th></th>\n",
       "      <th>route</th>\n",
       "      <th>distance_m</th>\n",
       "      <th>duration_sec</th>\n",
       "      <th>node_ids</th>\n",
       "    </tr>\n",
       "  </thead>\n",
       "  <tbody>\n",
       "    <tr>\n",
       "      <th>81127</th>\n",
       "      <td>LINESTRING (-73.97853000000001 40.764107, -73....</td>\n",
       "      <td>2235.5</td>\n",
       "      <td>207.0</td>\n",
       "      <td>[4544486781, 42430378, 42430384, 6654368342, 4...</td>\n",
       "    </tr>\n",
       "    <tr>\n",
       "      <th>88083</th>\n",
       "      <td>LINESTRING (-73.95135000000001 40.778564, -73....</td>\n",
       "      <td>2849.2</td>\n",
       "      <td>300.7</td>\n",
       "      <td>[42443040, 42450030, 42447136, 42429334, 54025...</td>\n",
       "    </tr>\n",
       "    <tr>\n",
       "      <th>40667</th>\n",
       "      <td>LINESTRING (-74.01295500000001 40.709984000000...</td>\n",
       "      <td>3532.1</td>\n",
       "      <td>392.5</td>\n",
       "      <td>[42434413, 5487737822, 42436192, 1506902240, 4...</td>\n",
       "    </tr>\n",
       "    <tr>\n",
       "      <th>69985</th>\n",
       "      <td>LINESTRING (-73.97279 40.758907, -73.972846 40...</td>\n",
       "      <td>8963.1</td>\n",
       "      <td>694.2</td>\n",
       "      <td>[3977886228, 596775914, 596775876, 3977886201,...</td>\n",
       "    </tr>\n",
       "    <tr>\n",
       "      <th>22252</th>\n",
       "      <td>LINESTRING (-73.98543000000001 40.740368, -73....</td>\n",
       "      <td>2935.9</td>\n",
       "      <td>327.5</td>\n",
       "      <td>[42436578, 42436582, 4115878741, 42436586, 411...</td>\n",
       "    </tr>\n",
       "  </tbody>\n",
       "</table>\n",
       "</div>"
      ],
      "text/plain": [
       "                                                   route  distance_m  \\\n",
       "81127  LINESTRING (-73.97853000000001 40.764107, -73....      2235.5   \n",
       "88083  LINESTRING (-73.95135000000001 40.778564, -73....      2849.2   \n",
       "40667  LINESTRING (-74.01295500000001 40.709984000000...      3532.1   \n",
       "69985  LINESTRING (-73.97279 40.758907, -73.972846 40...      8963.1   \n",
       "22252  LINESTRING (-73.98543000000001 40.740368, -73....      2935.9   \n",
       "\n",
       "       duration_sec                                           node_ids  \n",
       "81127         207.0  [4544486781, 42430378, 42430384, 6654368342, 4...  \n",
       "88083         300.7  [42443040, 42450030, 42447136, 42429334, 54025...  \n",
       "40667         392.5  [42434413, 5487737822, 42436192, 1506902240, 4...  \n",
       "69985         694.2  [3977886228, 596775914, 596775876, 3977886201,...  \n",
       "22252         327.5  [42436578, 42436582, 4115878741, 42436586, 411...  "
      ]
     },
     "execution_count": 37,
     "metadata": {},
     "output_type": "execute_result"
    }
   ],
   "source": [
    "def get_route(osm, lat1, lon1, lat2, lon2):\n",
    "    lat, lon, distance, duration, node_ids = osm.route(lat1, lon1, lat2, lon2)\n",
    "    return_col_names = ['route', 'distance_m', 'duration_sec', 'node_ids']\n",
    "    if(type(lat) == float):\n",
    "        return pd.Series([np.nan] * len(return_col_names), index=return_col_names)\n",
    "    else:\n",
    "        return pd.Series([latlon2linestring(lat, lon), distance, duration, node_ids], index=return_col_names)\n",
    "\n",
    "routes = df_train.head().apply(lambda row: get_route(osm, \n",
    "                                            row['pickup_latitude'],\n",
    "                                            row['pickup_longitude'],\n",
    "                                            row['dropoff_latitude'],\n",
    "                                            row['dropoff_longitude']), axis=1)\n",
    "routes['route'] = GeoSeries([elem[0] if type(elem) == GeoSeries else np.nan for elem in routes['route']], index=routes.index)\n",
    "\n",
    "routes"
   ]
  },
  {
   "cell_type": "code",
   "execution_count": 38,
   "metadata": {},
   "outputs": [],
   "source": [
    "# TEMP: because router take too much time, I've saved the routes from this sample here. If you want to\n",
    "# use the router anyway, comment lines where pickle is read and uncomment commented lines\n",
    "\n",
    "# TEMP files are saved on GDrive for now: \n",
    "# https://drive.google.com/file/d/1wQI18n982C0QmeH2iJWVxQbxoHuddktM/view?usp=sharing\n",
    "\n",
    "def feature_pipeline_3(df, target_col=TARGET, \n",
    "                              pickup_latitude='pickup_latitude', dropoff_latitude='dropoff_latitude', \n",
    "                              pickup_longitude='pickup_longitude', dropoff_longitude='dropoff_longitude',\n",
    "                              osm_router=OSRM_PATH,\n",
    "                              test_mode=None):\n",
    "    EUCLIDEAN_FEAT = 'euclidean_dist'\n",
    "    HAVERSINE_FEAT = 'haversine_dist'\n",
    "    # MANHATTAN_FEAT = 'manhattan_dist'\n",
    "    ROUTE_DISTANCE = 'route_distance_meters'\n",
    "    ROUTE_DURATION = 'route_duration_seconds'\n",
    "    \n",
    "    FEATURES = [EUCLIDEAN_FEAT, \n",
    "                HAVERSINE_FEAT, #, MANHATTAN_FEAT - #not returning MANHATTAN_FEAT because it's wrong\n",
    "                ROUTE_DISTANCE,\n",
    "                ROUTE_DURATION] \n",
    "\n",
    "    df_copy = df.copy()\n",
    "\n",
    "    df_copy[EUCLIDEAN_FEAT] = euclidean_distance(df_copy[pickup_latitude], df_copy[dropoff_latitude], \n",
    "                                              df_copy[pickup_longitude], df_copy[dropoff_longitude])\n",
    "    df_copy[HAVERSINE_FEAT] = haversine_distance(df_copy[pickup_latitude], df_copy[dropoff_latitude], \n",
    "                                              df_copy[pickup_longitude], df_copy[dropoff_longitude])\n",
    "    # df_copy[MANHATTAN_FEAT] = manhattan_distance(df_copy[pickup_latitude], df_copy[dropoff_latitude], \n",
    "    #                                         df_copy[pickup_longitude], df_copy[dropoff_longitude])\n",
    "    \n",
    "    if(test_mode == 'train'):                                                          # TEST MODE\n",
    "        with open('data/temp_routes_train.pickle', 'rb') as f:                         # TEST MODE\n",
    "            routes = pickle.load(f)                                                    # TEST MODE\n",
    "    elif(test_mode == 'test'):                                                         # TEST MODE\n",
    "        with open('data/temp_routes_test.pickle', 'rb') as f:                          # TEST MODE\n",
    "            routes = pickle.load(f)                                                    # TEST MODE   \n",
    "        \n",
    "#     routes = df_copy.apply(lambda row: get_route(osm, \n",
    "#                                             row['pickup_latitude'],\n",
    "#                                             row['pickup_longitude'],\n",
    "#                                             row['dropoff_latitude'],\n",
    "#                                             row['dropoff_longitude']), axis=1)\n",
    "#     routes['route'] = GeoSeries([elem[0] if type(elem) == GeoSeries else np.nan for elem in routes['route']], index=routes.index)\n",
    "    df_copy[ROUTE_DISTANCE] = routes['distance_m']\n",
    "    df_copy[ROUTE_DURATION] = routes['duration_sec']\n",
    "    \n",
    "    # in the EDA, we probably treat the nulls, so for now, just drop them\n",
    "    df_copy = df_copy.dropna()\n",
    "\n",
    "    \n",
    "    return df_copy[FEATURES + [target_col]], routes\n",
    "\n",
    "df_train_3, routes_train = feature_pipeline_3(df_train, test_mode='train')\n",
    "df_test_3, routes_test = feature_pipeline_3(df_test, test_mode='test')\n",
    "\n",
    "\n",
    "##### Save locally when executting OSRM\n",
    "# with open('data/temp_routes_train.pickle', 'wb') as f:\n",
    "#     pickle.dump(routes_train, f)\n",
    "    \n",
    "# with open('data/temp_routes_test.pickle', 'wb') as f:\n",
    "#     pickle.dump(routes_test, f)"
   ]
  },
  {
   "cell_type": "code",
   "execution_count": 39,
   "metadata": {},
   "outputs": [],
   "source": [
    "model_3 = LinearRegression()\n",
    "model_3.fit(df_train_3.drop(TARGET, axis=1), df_train_3[TARGET])\n",
    "y_test_pred_3 = model_3.predict(df_test_3.drop(TARGET, axis=1))\n"
   ]
  },
  {
   "cell_type": "code",
   "execution_count": 40,
   "metadata": {
    "scrolled": false
   },
   "outputs": [
    {
     "name": "stdout",
     "output_type": "stream",
     "text": [
      "RMSE Error: 4.285363885842398\n"
     ]
    },
    {
     "data": {
      "image/png": "[encoded data removed]",
      "text/plain": [
       "<Figure size 432x288 with 1 Axes>"
      ]
     },
     "metadata": {},
     "output_type": "display_data"
    }
   ],
   "source": [
    "#####\n",
    "rmse_3 = np.sqrt(mean_squared_error(df_test_3[TARGET], y_test_pred_3))\n",
    "iteration_results['exp_3_rmse'] = rmse_3\n",
    "print(f'RMSE Error: {rmse_3}')\n",
    "\n",
    "print_evaluation(df_test_3[TARGET], y_test_pred_3, return_errors=False)\n",
    "plt.xlim([0, 50]);"
   ]
  },
  {
   "cell_type": "code",
   "execution_count": 41,
   "metadata": {},
   "outputs": [
    {
     "data": {
      "text/plain": [
       "{'exp_1_rmse': 4.33833106609023,\n",
       " 'exp_1b_rmse': 4.464849428041979,\n",
       " 'exp_2_rmse': 4.440337029599703,\n",
       " 'exp_3_rmse': 4.285363885842398,\n",
       " 'exp_lazy_rmse': 9.61393775520487}"
      ]
     },
     "execution_count": 41,
     "metadata": {},
     "output_type": "execute_result"
    }
   ],
   "source": [
    "iteration_results"
   ]
  },
  {
   "cell_type": "markdown",
   "metadata": {},
   "source": [
    "## 2nd Exploratory Analysis\n",
    "\n",
    "### Check why we have some route distance == 0"
   ]
  },
  {
   "cell_type": "code",
   "execution_count": 42,
   "metadata": {},
   "outputs": [
    {
     "data": {
      "text/html": [
       "<div>\n",
       "<style scoped>\n",
       "    .dataframe tbody tr th:only-of-type {\n",
       "        vertical-align: middle;\n",
       "    }\n",
       "\n",
       "    .dataframe tbody tr th {\n",
       "        vertical-align: top;\n",
       "    }\n",
       "\n",
       "    .dataframe thead th {\n",
       "        text-align: right;\n",
       "    }\n",
       "</style>\n",
       "<table border=\"1\" class=\"dataframe\">\n",
       "  <thead>\n",
       "    <tr style=\"text-align: right;\">\n",
       "      <th></th>\n",
       "      <th>euclidean_dist</th>\n",
       "      <th>haversine_dist</th>\n",
       "      <th>route_distance_meters</th>\n",
       "      <th>route_duration_seconds</th>\n",
       "      <th>fare_amount_x</th>\n",
       "      <th>pickup_datetime</th>\n",
       "      <th>pickup_longitude</th>\n",
       "      <th>pickup_latitude</th>\n",
       "      <th>dropoff_longitude</th>\n",
       "      <th>dropoff_latitude</th>\n",
       "      <th>passenger_count</th>\n",
       "      <th>fare_amount_y</th>\n",
       "      <th>weekday</th>\n",
       "      <th>is_weekend</th>\n",
       "      <th>date</th>\n",
       "      <th>hour</th>\n",
       "      <th>route_distance_km</th>\n",
       "    </tr>\n",
       "  </thead>\n",
       "  <tbody>\n",
       "    <tr>\n",
       "      <th>59542</th>\n",
       "      <td>162.162205</td>\n",
       "      <td>0.000000</td>\n",
       "      <td>0.0</td>\n",
       "      <td>0.0</td>\n",
       "      <td>5.0</td>\n",
       "      <td>2013-06-04 10:05:50</td>\n",
       "      <td>-73.901955</td>\n",
       "      <td>40.76404</td>\n",
       "      <td>-73.901955</td>\n",
       "      <td>40.76404</td>\n",
       "      <td>1</td>\n",
       "      <td>5.0</td>\n",
       "      <td>1</td>\n",
       "      <td>0.0</td>\n",
       "      <td>2013-06-04</td>\n",
       "      <td>10:00:00</td>\n",
       "      <td>0.0</td>\n",
       "    </tr>\n",
       "    <tr>\n",
       "      <th>38815</th>\n",
       "      <td>162.246301</td>\n",
       "      <td>0.000000</td>\n",
       "      <td>0.0</td>\n",
       "      <td>0.0</td>\n",
       "      <td>7.5</td>\n",
       "      <td>2012-10-26 22:26:00</td>\n",
       "      <td>-73.989100</td>\n",
       "      <td>40.73636</td>\n",
       "      <td>-73.989100</td>\n",
       "      <td>40.73636</td>\n",
       "      <td>1</td>\n",
       "      <td>7.5</td>\n",
       "      <td>4</td>\n",
       "      <td>0.0</td>\n",
       "      <td>2012-10-26</td>\n",
       "      <td>22:00:00</td>\n",
       "      <td>0.0</td>\n",
       "    </tr>\n",
       "    <tr>\n",
       "      <th>51352</th>\n",
       "      <td>162.204036</td>\n",
       "      <td>0.000000</td>\n",
       "      <td>0.0</td>\n",
       "      <td>0.0</td>\n",
       "      <td>27.3</td>\n",
       "      <td>2012-03-30 12:01:00</td>\n",
       "      <td>-73.937454</td>\n",
       "      <td>40.75812</td>\n",
       "      <td>-73.937454</td>\n",
       "      <td>40.75812</td>\n",
       "      <td>1</td>\n",
       "      <td>27.3</td>\n",
       "      <td>4</td>\n",
       "      <td>0.0</td>\n",
       "      <td>2012-03-30</td>\n",
       "      <td>12:00:00</td>\n",
       "      <td>0.0</td>\n",
       "    </tr>\n",
       "    <tr>\n",
       "      <th>68537</th>\n",
       "      <td>162.145129</td>\n",
       "      <td>0.000000</td>\n",
       "      <td>0.0</td>\n",
       "      <td>0.0</td>\n",
       "      <td>9.3</td>\n",
       "      <td>2011-10-27 20:01:19</td>\n",
       "      <td>-73.870820</td>\n",
       "      <td>40.78310</td>\n",
       "      <td>-73.870820</td>\n",
       "      <td>40.78310</td>\n",
       "      <td>1</td>\n",
       "      <td>9.3</td>\n",
       "      <td>3</td>\n",
       "      <td>0.0</td>\n",
       "      <td>2011-10-27</td>\n",
       "      <td>20:00:00</td>\n",
       "      <td>0.0</td>\n",
       "    </tr>\n",
       "    <tr>\n",
       "      <th>75880</th>\n",
       "      <td>162.355458</td>\n",
       "      <td>0.511076</td>\n",
       "      <td>0.0</td>\n",
       "      <td>0.0</td>\n",
       "      <td>45.0</td>\n",
       "      <td>2014-11-22 01:06:00</td>\n",
       "      <td>-74.061500</td>\n",
       "      <td>40.73936</td>\n",
       "      <td>-74.060530</td>\n",
       "      <td>40.74390</td>\n",
       "      <td>1</td>\n",
       "      <td>45.0</td>\n",
       "      <td>5</td>\n",
       "      <td>1.0</td>\n",
       "      <td>2014-11-22</td>\n",
       "      <td>01:00:00</td>\n",
       "      <td>0.0</td>\n",
       "    </tr>\n",
       "  </tbody>\n",
       "</table>\n",
       "</div>"
      ],
      "text/plain": [
       "       euclidean_dist  haversine_dist  route_distance_meters  \\\n",
       "59542      162.162205        0.000000                    0.0   \n",
       "38815      162.246301        0.000000                    0.0   \n",
       "51352      162.204036        0.000000                    0.0   \n",
       "68537      162.145129        0.000000                    0.0   \n",
       "75880      162.355458        0.511076                    0.0   \n",
       "\n",
       "       route_duration_seconds  fare_amount_x     pickup_datetime  \\\n",
       "59542                     0.0            5.0 2013-06-04 10:05:50   \n",
       "38815                     0.0            7.5 2012-10-26 22:26:00   \n",
       "51352                     0.0           27.3 2012-03-30 12:01:00   \n",
       "68537                     0.0            9.3 2011-10-27 20:01:19   \n",
       "75880                     0.0           45.0 2014-11-22 01:06:00   \n",
       "\n",
       "       pickup_longitude  pickup_latitude  dropoff_longitude  dropoff_latitude  \\\n",
       "59542        -73.901955         40.76404         -73.901955          40.76404   \n",
       "38815        -73.989100         40.73636         -73.989100          40.73636   \n",
       "51352        -73.937454         40.75812         -73.937454          40.75812   \n",
       "68537        -73.870820         40.78310         -73.870820          40.78310   \n",
       "75880        -74.061500         40.73936         -74.060530          40.74390   \n",
       "\n",
       "       passenger_count  fare_amount_y  weekday  is_weekend        date  \\\n",
       "59542                1            5.0        1         0.0  2013-06-04   \n",
       "38815                1            7.5        4         0.0  2012-10-26   \n",
       "51352                1           27.3        4         0.0  2012-03-30   \n",
       "68537                1            9.3        3         0.0  2011-10-27   \n",
       "75880                1           45.0        5         1.0  2014-11-22   \n",
       "\n",
       "           hour  route_distance_km  \n",
       "59542  10:00:00                0.0  \n",
       "38815  22:00:00                0.0  \n",
       "51352  12:00:00                0.0  \n",
       "68537  20:00:00                0.0  \n",
       "75880  01:00:00                0.0  "
      ]
     },
     "metadata": {},
     "output_type": "display_data"
    }
   ],
   "source": [
    "df_train_3_analysis = df_train_3.merge(df_train, how='left', left_index=True, right_index=True)\n",
    "\n",
    "df_train_3_analysis['route_distance_km'] = routes_train['distance_m']/1000\n",
    "display(df_train_3_analysis.loc[df_train_3_analysis['route_distance_km'] == 0].head()) # PROBLEM pickup == dropoff\n",
    "\n",
    "##########################################################\n",
    "### Filter where pick up and drop off are the same\n",
    "##########################################################\n"
   ]
  },
  {
   "cell_type": "markdown",
   "metadata": {},
   "source": [
    "### Some leftover routes still have route_distance == 0, investigate"
   ]
  },
  {
   "cell_type": "code",
   "execution_count": 43,
   "metadata": {},
   "outputs": [
    {
     "data": {
      "text/html": [
       "<div>\n",
       "<style scoped>\n",
       "    .dataframe tbody tr th:only-of-type {\n",
       "        vertical-align: middle;\n",
       "    }\n",
       "\n",
       "    .dataframe tbody tr th {\n",
       "        vertical-align: top;\n",
       "    }\n",
       "\n",
       "    .dataframe thead th {\n",
       "        text-align: right;\n",
       "    }\n",
       "</style>\n",
       "<table border=\"1\" class=\"dataframe\">\n",
       "  <thead>\n",
       "    <tr style=\"text-align: right;\">\n",
       "      <th></th>\n",
       "      <th>euclidean_dist</th>\n",
       "      <th>haversine_dist</th>\n",
       "      <th>route_distance_meters</th>\n",
       "      <th>route_duration_seconds</th>\n",
       "      <th>fare_amount_x</th>\n",
       "      <th>pickup_datetime</th>\n",
       "      <th>pickup_longitude</th>\n",
       "      <th>pickup_latitude</th>\n",
       "      <th>dropoff_longitude</th>\n",
       "      <th>dropoff_latitude</th>\n",
       "      <th>passenger_count</th>\n",
       "      <th>fare_amount_y</th>\n",
       "      <th>weekday</th>\n",
       "      <th>is_weekend</th>\n",
       "      <th>date</th>\n",
       "      <th>hour</th>\n",
       "      <th>route_distance_km</th>\n",
       "      <th>distances</th>\n",
       "    </tr>\n",
       "  </thead>\n",
       "  <tbody>\n",
       "    <tr>\n",
       "      <th>59542</th>\n",
       "      <td>162.162205</td>\n",
       "      <td>0.000000</td>\n",
       "      <td>0.0</td>\n",
       "      <td>0.0</td>\n",
       "      <td>5.0</td>\n",
       "      <td>2013-06-04 10:05:50</td>\n",
       "      <td>-73.901955</td>\n",
       "      <td>40.76404</td>\n",
       "      <td>-73.901955</td>\n",
       "      <td>40.76404</td>\n",
       "      <td>1</td>\n",
       "      <td>5.0</td>\n",
       "      <td>1</td>\n",
       "      <td>0.0</td>\n",
       "      <td>2013-06-04</td>\n",
       "      <td>10:00:00</td>\n",
       "      <td>0.0</td>\n",
       "      <td>0.000000</td>\n",
       "    </tr>\n",
       "    <tr>\n",
       "      <th>38815</th>\n",
       "      <td>162.246301</td>\n",
       "      <td>0.000000</td>\n",
       "      <td>0.0</td>\n",
       "      <td>0.0</td>\n",
       "      <td>7.5</td>\n",
       "      <td>2012-10-26 22:26:00</td>\n",
       "      <td>-73.989100</td>\n",
       "      <td>40.73636</td>\n",
       "      <td>-73.989100</td>\n",
       "      <td>40.73636</td>\n",
       "      <td>1</td>\n",
       "      <td>7.5</td>\n",
       "      <td>4</td>\n",
       "      <td>0.0</td>\n",
       "      <td>2012-10-26</td>\n",
       "      <td>22:00:00</td>\n",
       "      <td>0.0</td>\n",
       "      <td>0.000000</td>\n",
       "    </tr>\n",
       "    <tr>\n",
       "      <th>51352</th>\n",
       "      <td>162.204036</td>\n",
       "      <td>0.000000</td>\n",
       "      <td>0.0</td>\n",
       "      <td>0.0</td>\n",
       "      <td>27.3</td>\n",
       "      <td>2012-03-30 12:01:00</td>\n",
       "      <td>-73.937454</td>\n",
       "      <td>40.75812</td>\n",
       "      <td>-73.937454</td>\n",
       "      <td>40.75812</td>\n",
       "      <td>1</td>\n",
       "      <td>27.3</td>\n",
       "      <td>4</td>\n",
       "      <td>0.0</td>\n",
       "      <td>2012-03-30</td>\n",
       "      <td>12:00:00</td>\n",
       "      <td>0.0</td>\n",
       "      <td>0.000000</td>\n",
       "    </tr>\n",
       "    <tr>\n",
       "      <th>68537</th>\n",
       "      <td>162.145129</td>\n",
       "      <td>0.000000</td>\n",
       "      <td>0.0</td>\n",
       "      <td>0.0</td>\n",
       "      <td>9.3</td>\n",
       "      <td>2011-10-27 20:01:19</td>\n",
       "      <td>-73.870820</td>\n",
       "      <td>40.78310</td>\n",
       "      <td>-73.870820</td>\n",
       "      <td>40.78310</td>\n",
       "      <td>1</td>\n",
       "      <td>9.3</td>\n",
       "      <td>3</td>\n",
       "      <td>0.0</td>\n",
       "      <td>2011-10-27</td>\n",
       "      <td>20:00:00</td>\n",
       "      <td>0.0</td>\n",
       "      <td>0.000000</td>\n",
       "    </tr>\n",
       "    <tr>\n",
       "      <th>75880</th>\n",
       "      <td>162.355458</td>\n",
       "      <td>0.511076</td>\n",
       "      <td>0.0</td>\n",
       "      <td>0.0</td>\n",
       "      <td>45.0</td>\n",
       "      <td>2014-11-22 01:06:00</td>\n",
       "      <td>-74.061500</td>\n",
       "      <td>40.73936</td>\n",
       "      <td>-74.060530</td>\n",
       "      <td>40.74390</td>\n",
       "      <td>1</td>\n",
       "      <td>45.0</td>\n",
       "      <td>5</td>\n",
       "      <td>1.0</td>\n",
       "      <td>2014-11-22</td>\n",
       "      <td>01:00:00</td>\n",
       "      <td>0.0</td>\n",
       "      <td>0.511076</td>\n",
       "    </tr>\n",
       "  </tbody>\n",
       "</table>\n",
       "</div>"
      ],
      "text/plain": [
       "       euclidean_dist  haversine_dist  route_distance_meters  \\\n",
       "59542      162.162205        0.000000                    0.0   \n",
       "38815      162.246301        0.000000                    0.0   \n",
       "51352      162.204036        0.000000                    0.0   \n",
       "68537      162.145129        0.000000                    0.0   \n",
       "75880      162.355458        0.511076                    0.0   \n",
       "\n",
       "       route_duration_seconds  fare_amount_x     pickup_datetime  \\\n",
       "59542                     0.0            5.0 2013-06-04 10:05:50   \n",
       "38815                     0.0            7.5 2012-10-26 22:26:00   \n",
       "51352                     0.0           27.3 2012-03-30 12:01:00   \n",
       "68537                     0.0            9.3 2011-10-27 20:01:19   \n",
       "75880                     0.0           45.0 2014-11-22 01:06:00   \n",
       "\n",
       "       pickup_longitude  pickup_latitude  dropoff_longitude  dropoff_latitude  \\\n",
       "59542        -73.901955         40.76404         -73.901955          40.76404   \n",
       "38815        -73.989100         40.73636         -73.989100          40.73636   \n",
       "51352        -73.937454         40.75812         -73.937454          40.75812   \n",
       "68537        -73.870820         40.78310         -73.870820          40.78310   \n",
       "75880        -74.061500         40.73936         -74.060530          40.74390   \n",
       "\n",
       "       passenger_count  fare_amount_y  weekday  is_weekend        date  \\\n",
       "59542                1            5.0        1         0.0  2013-06-04   \n",
       "38815                1            7.5        4         0.0  2012-10-26   \n",
       "51352                1           27.3        4         0.0  2012-03-30   \n",
       "68537                1            9.3        3         0.0  2011-10-27   \n",
       "75880                1           45.0        5         1.0  2014-11-22   \n",
       "\n",
       "           hour  route_distance_km  distances  \n",
       "59542  10:00:00                0.0   0.000000  \n",
       "38815  22:00:00                0.0   0.000000  \n",
       "51352  12:00:00                0.0   0.000000  \n",
       "68537  20:00:00                0.0   0.000000  \n",
       "75880  01:00:00                0.0   0.511076  "
      ]
     },
     "execution_count": 43,
     "metadata": {},
     "output_type": "execute_result"
    }
   ],
   "source": [
    "df_train_3_analysis = df_train_3_analysis.loc[df_train.index].copy()\n",
    "\n",
    "df_train_3_analysis['distances'] = haversine_distance(df_train_3_analysis['pickup_latitude'], df_train_3_analysis['dropoff_latitude'],\n",
    "                               df_train_3_analysis['pickup_longitude'], df_train_3_analysis['dropoff_longitude'])\n",
    "\n",
    "df_train_3_analysis.loc[df_train_3_analysis['route_distance_km'] == 0].head() ### ?? - ~65 examples\n",
    "\n",
    "##########################################################\n",
    "### Filter where route_distance == 0 for next iteration###\n",
    "##########################################################\n"
   ]
  },
  {
   "cell_type": "markdown",
   "metadata": {},
   "source": [
    "### Check price per kilometer"
   ]
  },
  {
   "cell_type": "code",
   "execution_count": 44,
   "metadata": {},
   "outputs": [
    {
     "data": {
      "text/plain": [
       "count     76317.000000\n",
       "mean         58.028857\n",
       "std        4080.245475\n",
       "min           0.165007\n",
       "50%           2.854109\n",
       "90%           4.810838\n",
       "95%           5.858411\n",
       "99%          11.065728\n",
       "max      498000.000000\n",
       "dtype: float64"
      ]
     },
     "metadata": {},
     "output_type": "display_data"
    }
   ],
   "source": [
    "temp = df_train_3_analysis.loc[df_train_3_analysis['route_distance_km'] != 0]\n",
    "\n",
    "price_km = temp['fare_amount_y']/temp['route_distance_km']\n",
    "display(price_km.describe(percentiles=[.9, .95, .99]))\n",
    "\n",
    "##########################################################\n",
    "### Filter where price per km > 5 - 95th percentile    ###\n",
    "##########################################################"
   ]
  },
  {
   "cell_type": "markdown",
   "metadata": {},
   "source": [
    "## Embed taxi rules - https://www1.nyc.gov/site/tlc/passengers/taxi-fare.page"
   ]
  },
  {
   "cell_type": "code",
   "execution_count": 45,
   "metadata": {},
   "outputs": [],
   "source": [
    "# TODO: Investigate"
   ]
  },
  {
   "cell_type": "markdown",
   "metadata": {},
   "source": [
    "## Embed Nearest neighboors fares\n",
    "\n",
    "1st Geography Law: https://en.wikipedia.org/wiki/Tobler%27s_first_law_of_geography\n",
    "\n",
    "\"everything is related to everything else, but near things are more related than distant things.\""
   ]
  },
  {
   "cell_type": "code",
   "execution_count": 46,
   "metadata": {},
   "outputs": [],
   "source": [
    "# TODO: Show small example as previous pipelines"
   ]
  },
  {
   "cell_type": "code",
   "execution_count": 47,
   "metadata": {},
   "outputs": [
    {
     "name": "stdout",
     "output_type": "stream",
     "text": [
      "CPU times: user 5.51 s, sys: 650 ms, total: 6.16 s\n",
      "Wall time: 6.17 s\n"
     ]
    }
   ],
   "source": [
    "%%time\n",
    "\n",
    "def feature_pipeline_4(df, target_col=TARGET, \n",
    "                              pickup_latitude='pickup_latitude', dropoff_latitude='dropoff_latitude', \n",
    "                              pickup_longitude='pickup_longitude', dropoff_longitude='dropoff_longitude',\n",
    "                              pickup_datetime_col='pickup_datetime',\n",
    "                              osm_router=OSRM_PATH,\n",
    "                              nn_avg_fare_model=None,\n",
    "                              test_mode=None):\n",
    "    EUCLIDEAN_FEAT = 'euclidean_dist'\n",
    "    HAVERSINE_FEAT = 'haversine_dist'\n",
    "    # MANHATTAN_FEAT = 'manhattan_dist'\n",
    "    ROUTE_DISTANCE = 'route_distance_meters'\n",
    "    ROUTE_DURATION = 'route_duration_seconds'\n",
    "    NN_AVG_FARE = 'nn_avg_fare'\n",
    "    \n",
    "    FEATURES = [EUCLIDEAN_FEAT, \n",
    "                HAVERSINE_FEAT, #, MANHATTAN_FEAT - #not returning MANHATTAN_FEAT because it's wrong\n",
    "                ROUTE_DISTANCE,\n",
    "                ROUTE_DURATION,\n",
    "                NN_AVG_FARE] \n",
    "\n",
    "    df_copy = df.copy()\n",
    "\n",
    "    df_copy[EUCLIDEAN_FEAT] = euclidean_distance(df_copy[pickup_latitude], df_copy[dropoff_latitude], \n",
    "                                              df_copy[pickup_longitude], df_copy[dropoff_longitude])\n",
    "    df_copy[HAVERSINE_FEAT] = haversine_distance(df_copy[pickup_latitude], df_copy[dropoff_latitude], \n",
    "                                              df_copy[pickup_longitude], df_copy[dropoff_longitude])\n",
    "    # df_copy[MANHATTAN_FEAT] = manhattan_distance(df_copy[pickup_latitude], df_copy[dropoff_latitude], \n",
    "    #                                         df_copy[pickup_longitude], df_copy[dropoff_longitude])\n",
    "    \n",
    "    if(test_mode == 'train'):                                                          # TEST MODE\n",
    "        with open('data/temp_routes_train.pickle', 'rb') as f:                         # TEST MODE\n",
    "            routes = pickle.load(f)                                                    # TEST MODE\n",
    "    elif(test_mode == 'test'):                                                         # TEST MODE\n",
    "        with open('data/temp_routes_test.pickle', 'rb') as f:                          # TEST MODE\n",
    "            routes = pickle.load(f)                                                    # TEST MODE   \n",
    "        \n",
    "#     routes = df_copy.apply(lambda row: get_route(osm, \n",
    "#                                             row['pickup_latitude'],\n",
    "#                                             row['pickup_longitude'],\n",
    "#                                             row['dropoff_latitude'],\n",
    "#                                             row['dropoff_longitude']), axis=1)\n",
    "\n",
    "#     routes['route'] = GeoSeries([elem[0] if type(elem) == GeoSeries else np.nan for elem in routes['route']], index=routes.index)\n",
    "    df_copy[ROUTE_DISTANCE] = routes['distance_m']\n",
    "    df_copy[ROUTE_DURATION] = routes['duration_sec']\n",
    "    \n",
    "    ###### Outliers Filtering\n",
    "    # in the EDA, we probably treat the nulls, so for now, just drop them\n",
    "    df_copy = df_copy.dropna()\n",
    "    \n",
    "    df_copy = df_copy.loc[df_copy[ROUTE_DISTANCE] != 0].copy()\n",
    "    \n",
    "    price_per_km = df_copy[target_col]/(df_copy[ROUTE_DISTANCE]/1000)\n",
    "    df_copy = df_copy.loc[price_per_km < 5].copy()\n",
    "    ######\n",
    "    \n",
    "    ###### prepare for NN avg fare model\n",
    "    minutes_since_monday_midnight = 'minutes_since_monday_midnight'\n",
    "    df_copy[minutes_since_monday_midnight] = df_copy[pickup_datetime_col].dt.dayofweek * (24*60) + \\\n",
    "                                               df_copy[pickup_datetime_col].dt.hour * 60 + \\\n",
    "                                               df_copy[pickup_datetime_col].dt.minute\n",
    "    \n",
    "    \n",
    "    nn_features = [pickup_latitude, pickup_longitude, \n",
    "                       dropoff_latitude, dropoff_longitude, \n",
    "                       minutes_since_monday_midnight]\n",
    "    nn_data = standardize_features(df_copy[nn_features])\n",
    "    nn_data[target_col] = df_copy[target_col]\n",
    "    if(test_mode == 'train'):\n",
    "        nn_avg_fare_model = KNeighborsRegressor(n_neighbors=10)\n",
    "        nn_avg_fare_model.fit(nn_data.drop(target_col, axis=1), nn_data[target_col])\n",
    "    df_copy[NN_AVG_FARE] = nn_avg_fare_model.predict(nn_data.drop(target_col, axis=1))  \n",
    "    ######\n",
    "    \n",
    "    df_res = standardize_features(df_copy[FEATURES])\n",
    "    df_res[target_col] = df_copy[target_col]\n",
    "    \n",
    "    return df_res, routes, nn_avg_fare_model\n",
    "\n",
    "df_train_4, routes_train, nn_avg_fare_model = feature_pipeline_4(df_train, test_mode='train')\n",
    "df_test_4, routes_test, nn_avg_fare_model = feature_pipeline_4(df_test, test_mode='test', nn_avg_fare_model=nn_avg_fare_model)\n"
   ]
  },
  {
   "cell_type": "code",
   "execution_count": 48,
   "metadata": {},
   "outputs": [],
   "source": [
    "model_4 = LinearRegression()\n",
    "model_4.fit(df_train_4.drop(TARGET, axis=1), df_train_4[TARGET])\n",
    "y_test_pred_4 = model_4.predict(df_test_4.drop(TARGET, axis=1))\n"
   ]
  },
  {
   "cell_type": "code",
   "execution_count": 49,
   "metadata": {
    "scrolled": false
   },
   "outputs": [
    {
     "name": "stdout",
     "output_type": "stream",
     "text": [
      "RMSE Error: 3.474212045918078\n"
     ]
    },
    {
     "data": {
      "image/png": "[encoded data removed]",
      "text/plain": [
       "<Figure size 432x288 with 1 Axes>"
      ]
     },
     "metadata": {},
     "output_type": "display_data"
    }
   ],
   "source": [
    "#####\n",
    "rmse_4 = np.sqrt(mean_squared_error(df_test_4[TARGET], y_test_pred_4))\n",
    "iteration_results['exp_4_rmse'] = rmse_4\n",
    "print(f'RMSE Error: {rmse_4}')\n",
    "\n",
    "print_evaluation(df_test_4[TARGET], y_test_pred_4, return_errors=False)\n",
    "plt.xlim([0, 50]);"
   ]
  },
  {
   "cell_type": "code",
   "execution_count": 50,
   "metadata": {},
   "outputs": [
    {
     "data": {
      "text/plain": [
       "{'exp_1_rmse': 4.33833106609023,\n",
       " 'exp_1b_rmse': 4.464849428041979,\n",
       " 'exp_2_rmse': 4.440337029599703,\n",
       " 'exp_3_rmse': 4.285363885842398,\n",
       " 'exp_4_rmse': 3.474212045918078,\n",
       " 'exp_lazy_rmse': 9.61393775520487}"
      ]
     },
     "execution_count": 50,
     "metadata": {},
     "output_type": "execute_result"
    }
   ],
   "source": [
    "iteration_results"
   ]
  },
  {
   "cell_type": "markdown",
   "metadata": {},
   "source": [
    "## Time to search 10 NN = Expensive\n",
    "\n",
    "### Explain Spatial Indices KDTree - Parameters from KNNRegressor - https://scikit-learn.org/stable/modules/generated/sklearn.neighbors.KNeighborsRegressor.html\n",
    "\n",
    "### Possible use ANNOY - https://github.com/spotify/annoy"
   ]
  },
  {
   "cell_type": "code",
   "execution_count": 51,
   "metadata": {},
   "outputs": [],
   "source": [
    "# TODO: Decide and maybe use annoy already in pipeline 4 V2."
   ]
  },
  {
   "cell_type": "markdown",
   "metadata": {},
   "source": [
    "## One last iteration? Don't do it if we embed taxi rules and it somehow improves it in previous section"
   ]
  },
  {
   "cell_type": "code",
   "execution_count": 52,
   "metadata": {},
   "outputs": [],
   "source": [
    "# TODO: Think on one last iteration"
   ]
  },
  {
   "cell_type": "code",
   "execution_count": null,
   "metadata": {},
   "outputs": [],
   "source": []
  },
  {
   "cell_type": "code",
   "execution_count": null,
   "metadata": {},
   "outputs": [],
   "source": []
  },
  {
   "cell_type": "code",
   "execution_count": null,
   "metadata": {},
   "outputs": [],
   "source": []
  },
  {
   "cell_type": "code",
   "execution_count": null,
   "metadata": {},
   "outputs": [],
   "source": []
  },
  {
   "cell_type": "markdown",
   "metadata": {},
   "source": [
    "# Traffic Prototype\n",
    "\n",
    "<img src=\"images/traffic.png\" width=\"500\"> \n",
    "<center>Traffic information from Google Maps</center>\n",
    "\n",
    "As you've learned already, OSRM works over partitioning OSM's data into a routable graph. OSRM works great if you want the **shortest** route, *i.e.*, find the minimum path between two nodes where the edge weight is the street length. However, if you want to consider more realistic scenarios, OSRM provide you with tools to route the **fastest** route between two nodes, *i.e.*, incorporate your own traffic data inside the router so it takes this information into consideration ([Reference](https://github.com/Project-OSRM/osrm-backend/wiki/Traffic)). Before we dig into the traffic data incorporation, lets first take a look at how OSM maps data internally:  \n",
    "\n",
    "## OSM Data Model\n",
    "\n",
    "### Nodes, Ways and Relations  \n",
    "\n",
    "<img src=\"images/osm_data_types_.jpg\" width=\"500\"> \n",
    "<center>Data types in OSM</center>  \n",
    "\n",
    "Everything that is inside OSM is represent by one of three possible geometries ([Reference](https://labs.mapbox.com/mapping/osm-data-model/)):\n",
    "* **Node** - A node is everything that can be represented by a point, a unique object with no large spatial dimensions, such as a POIs or objects, such as this lamp post: https://www.openstreetmap.org/node/6343276469  \n",
    "* **Way** - A way is a line connecting two or more nodes. In this workshop's use case, ways are mainly streets connecting two nodes, *i.e.*, street intersections. Example: https://www.openstreetmap.org/way/4402228\n",
    "* **Relations** - As the name says, relations are used to create higher level structures that contains nodes and ways inside it. Example: https://www.openstreetmap.org/relation/1685018  \n",
    "\n",
    "### Tags\n",
    "  \n",
    "Tags are the metadata of each data type defined above. All data types contains a set of possible (but not mandatory) tags related to the tags' semantics. For instance, if you look at the left side of the screen in any of the data types examples above, you'll see that:  \n",
    "* **Nodes** have a description of what exactly is the node. Implicitly, **all** OSM nodes also have a `latitude/longitude` associated with it.\n",
    "* Street **Ways** have informations about the street, such as whether it has a `bicycle path`, if it has a `sidewalk` and mainly, what is it's `maximum driving speed`. An important observation on ways is that **it doesn't always have maximum speed**. Ways in OSM were not created having routing in mind so that ways can be defined split in multiple pieces or a same path can be inside different ways. See for example https://www.openstreetmap.org/way/7552152 and https://www.openstreetmap.org/way/48859717. Street ways can also be complex because we might not have the same street speed during the whole \n",
    "* An important feature about **Relations** is their [administrative level](https://wiki.openstreetmap.org/wiki/Key:admin%20level?uselang=en-GB). This level indicates the level of hierarchy that this relation is taking in terms of spatial boundary. Small administrative levels indicate small spaces, such as parks and neighbors while higher administrative levels go to cities/countries/continents.\n",
    "  \n",
    "## Traffic Proof of Concept (POC)\n",
    "\n",
    "OSRM allows you to define what is the street speed by allowing you to provide an external CSV file that sets it. For that, you need to define the speeds segment by segment, *i.e.*, by each pair of sequential node ids, you can set what is the street speed at that point ([Reference](https://github.com/Project-OSRM/osrm-backend/wiki/Traffic)).  \n",
    "  \n",
    "Lets learn how to use for a simple example. \n",
    "1. When we call the router we used in the sections above, it also returns the sequence of node ids that compose the route in OSM. \n",
    "2.  We take the same example of pick up and drop off as above, but then we're going to set all street speeds between those segments to 1 (km/h).  \n",
    "3. We're then going to set up the router with the new \"traffic\" information and see what happens\n",
    "  \n",
    "<div class=\"alert alert-block alert-info\"> \n",
    "<b>Be careful</b>: Do <b>not</b> set the speeds to 0, as it breaks the router by unkown reasons, until now.    \n",
    "</div>\n"
   ]
  },
  {
   "cell_type": "code",
   "execution_count": 53,
   "metadata": {},
   "outputs": [
    {
     "data": {
      "text/html": [
       "<div style=\"width:100%;\"><div style=\"position:relative;width:100%;height:0;padding-bottom:60%;\"><iframe src=\"data:text/html;charset=utf-8;base64,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\" style=\"position:absolute;width:100%;height:100%;left:0;top:0;border:none !important;\" allowfullscreen webkitallowfullscreen mozallowfullscreen></iframe></div></div>"
      ],
      "text/plain": [
       "<folium.folium.Map at 0x12c0f64e0>"
      ]
     },
     "execution_count": 53,
     "metadata": {},
     "output_type": "execute_result"
    }
   ],
   "source": [
    "# redo route command with previous router\n",
    "\n",
    "lat1, lon1 = 40.732605,-73.996070\n",
    "lat2, lon2 = 40.761864,-73.980675\n",
    "\n",
    "lat, lon, distance, duration, node_ids = osm.route(lat1, lon1, lat2, lon2)\n",
    "\n",
    "t = latlon2linestring(lat, lon)\n",
    "\n",
    "plot_linestring(t)"
   ]
  },
  {
   "cell_type": "markdown",
   "metadata": {},
   "source": [
    "The command above returned a list of node ids that compose the route. We're now going to run a loop over these node ids and create a dataframe (and then a csv) containing the node pairs and the new street speed. This file will go to the same folder as the router files folder.\n",
    "\n",
    "### For each segment between 2 nodes, set speed to lowest possible = 1 km/h. `NOT 0`"
   ]
  },
  {
   "cell_type": "code",
   "execution_count": 54,
   "metadata": {
    "scrolled": true
   },
   "outputs": [
    {
     "data": {
      "text/html": [
       "<div>\n",
       "<style scoped>\n",
       "    .dataframe tbody tr th:only-of-type {\n",
       "        vertical-align: middle;\n",
       "    }\n",
       "\n",
       "    .dataframe tbody tr th {\n",
       "        vertical-align: top;\n",
       "    }\n",
       "\n",
       "    .dataframe thead th {\n",
       "        text-align: right;\n",
       "    }\n",
       "</style>\n",
       "<table border=\"1\" class=\"dataframe\">\n",
       "  <thead>\n",
       "    <tr style=\"text-align: right;\">\n",
       "      <th></th>\n",
       "      <th>node_from</th>\n",
       "      <th>node_to</th>\n",
       "      <th>node_speed</th>\n",
       "    </tr>\n",
       "  </thead>\n",
       "  <tbody>\n",
       "    <tr>\n",
       "      <th>0</th>\n",
       "      <td>42421877</td>\n",
       "      <td>42437949</td>\n",
       "      <td>1</td>\n",
       "    </tr>\n",
       "    <tr>\n",
       "      <th>1</th>\n",
       "      <td>42437949</td>\n",
       "      <td>42433354</td>\n",
       "      <td>1</td>\n",
       "    </tr>\n",
       "    <tr>\n",
       "      <th>2</th>\n",
       "      <td>42433354</td>\n",
       "      <td>3584752516</td>\n",
       "      <td>1</td>\n",
       "    </tr>\n",
       "    <tr>\n",
       "      <th>3</th>\n",
       "      <td>3584752516</td>\n",
       "      <td>3584752508</td>\n",
       "      <td>1</td>\n",
       "    </tr>\n",
       "    <tr>\n",
       "      <th>4</th>\n",
       "      <td>3584752508</td>\n",
       "      <td>3584752515</td>\n",
       "      <td>1</td>\n",
       "    </tr>\n",
       "  </tbody>\n",
       "</table>\n",
       "</div>"
      ],
      "text/plain": [
       "    node_from     node_to  node_speed\n",
       "0    42421877    42437949           1\n",
       "1    42437949    42433354           1\n",
       "2    42433354  3584752516           1\n",
       "3  3584752516  3584752508           1\n",
       "4  3584752508  3584752515           1"
      ]
     },
     "execution_count": 54,
     "metadata": {},
     "output_type": "execute_result"
    }
   ],
   "source": [
    "node_from = []\n",
    "node_to = []\n",
    "node_speed = []\n",
    "i = 1\n",
    "while i < len(node_ids):\n",
    "    node_from.append(node_ids[i-1])\n",
    "    node_to.append(node_ids[i])    \n",
    "    node_speed.append(1)\n",
    "    i += 1\n",
    "blocked = pd.DataFrame({'node_from': node_from, 'node_to': node_to, 'node_speed': node_speed})\n",
    "\n",
    "# Save file with segment speeds with no columns headers nor row indexes\n",
    "# blocked.to_csv('router/test_traffic.csv', header=False, index=False)\n",
    "\n",
    "blocked.head()"
   ]
  },
  {
   "cell_type": "markdown",
   "metadata": {},
   "source": [
    "### Reset router updating street speeds informations\n",
    "\n",
    "The procedure here is the same as the previous router set up. The `only difference is the new parameter in osrm-customize` \n",
    "  \n",
    "--> `--segment-speed-file /data/traffic_file.csv`. \n",
    "\n",
    "<div class=\"alert alert-block alert-info\">  \n",
    "    \n",
    "* docker run -t -v \"${PWD}:/data\" osrm/osrm-backend osrm-extract -p /opt/car.lua /data/new-york-latest.osm.pbf\n",
    "\n",
    "* docker run -t -v \"${PWD}:/data\" osrm/osrm-backend osrm-partition /data/new-york-latest.osm.pbf\n",
    "\n",
    "* docker run -t -v \"${PWD}:/data\" osrm/osrm-backend osrm-customize /data/new-york-latest.osm.pbf `--segment-speed-file /data/test_traffic.csv`\n",
    "\n",
    "* docker run -t -i -p 5000:5000 -v \"${PWD}:/data\" osrm/osrm-backend osrm-routed --algorithm mld /data/new-york-latest.osm.pbf  \n",
    "</div>\n",
    "  \n",
    "### Call router again and check new route\n",
    "\n",
    "With the new router set up, we can calculate the route for the same pick-up/drop-off points as before and see how it's changed. We can see that the router avoids as best as possible to stay away from the segments we marked as heavy traffic, *i.e.*, segment speed = 1 km/h."
   ]
  },
  {
   "cell_type": "code",
   "execution_count": 55,
   "metadata": {},
   "outputs": [
    {
     "data": {
      "text/html": [
       "<div style=\"width:100%;\"><div style=\"position:relative;width:100%;height:0;padding-bottom:60%;\"><iframe src=\"data:text/html;charset=utf-8;base64,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\" style=\"position:absolute;width:100%;height:100%;left:0;top:0;border:none !important;\" allowfullscreen webkitallowfullscreen mozallowfullscreen></iframe></div></div>"
      ],
      "text/plain": [
       "<folium.folium.Map at 0x12c967748>"
      ]
     },
     "execution_count": 55,
     "metadata": {},
     "output_type": "execute_result"
    }
   ],
   "source": [
    "lat, lon, distance, duration, node_ids = osm.route(lat1, lon1, lat2, lon2)\n",
    "\n",
    "t = latlon2linestring(lat, lon)\n",
    "\n",
    "plot_linestring(t)"
   ]
  },
  {
   "cell_type": "markdown",
   "metadata": {},
   "source": [
    "## Match noisy GPS to Node IDs\n",
    "\n",
    "The POC works fine if you have the node id's for all your route points, which unfortunately, isn't the case.  \n",
    "Besides:  \n",
    "\n",
    "- GPS sampling might be not stable, *e.g.*, some times we have sampling of 5 secs, other times 10 secs.\n",
    "- Points might not fall exactly on the street due to GPS inaccuracy\n",
    "\n",
    "So, lets recreate a possible real world GPS trace by taking a trace returned by the router in section [Embed Nearest neighboors fares](#Embed-Nearest-neighboors-fares) and disturb it: "
   ]
  },
  {
   "cell_type": "code",
   "execution_count": 56,
   "metadata": {},
   "outputs": [
    {
     "data": {
      "text/html": [
       "<div style=\"width:100%;\"><div style=\"position:relative;width:100%;height:0;padding-bottom:60%;\"><iframe src=\"data:text/html;charset=utf-8;base64,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\" style=\"position:absolute;width:100%;height:100%;left:0;top:0;border:none !important;\" allowfullscreen webkitallowfullscreen mozallowfullscreen></iframe></div></div>"
      ],
      "text/plain": [
       "<folium.folium.Map at 0x12c915da0>"
      ]
     },
     "execution_count": 56,
     "metadata": {},
     "output_type": "execute_result"
    }
   ],
   "source": [
    "lines = df_train.merge(routes_train, how='left', left_index=True, right_index=True)\n",
    "trace = lines['route'].iloc[30]\n",
    "\n",
    "lon, lat = trace.xy[0], trace.xy[1]\n",
    "\n",
    "lat, lon = np.delete(lat, -3),  np.delete(lon, -3)         # cut corner at the bottom part\n",
    "np.random.seed(42)                                       # choose 10 random points to disturb\n",
    "choices = np.random.choice(range(len(lat)), size=10, replace=False)\n",
    "lat[choices] = lat[choices] + np.random.normal(0, 0.001) # add noise \n",
    "lon[choices] = lon[choices] + np.random.normal(0, 0.001) # add noise\n",
    "\n",
    "t = latlon2linestring(lat, lon)\n",
    "\n",
    "plot_linestring(t)"
   ]
  },
  {
   "cell_type": "markdown",
   "metadata": {},
   "source": [
    "We can see that some of the points don't even fall on a street segment and, like in the route close to the bottom-right side, a node indicating a turn is missing in a way that, when we connect the nodes with a line, the line goes through the building blocks.  \n",
    "  \n",
    "As we know that every node in OSM has a lat/lon associated with it, we could associate each trace point to the closest node. As Newson and Krumm showed ([Reference](https://www.ismll.uni-hildesheim.de/lehre/semSpatial-10s/script/6.pdf)):\n",
    "* This is error prone, as this kind of approach in street condensed networks can match GPS points to unrelated street segments. \n",
    "* The approach doesn't take the previous and future GPS points in order to match a GPS point to the street, *i.e.*, if previous and next point are over a bridge, it's highly improbable that the current matched GPS point is outside the bridge, even if it's closer to a node outside the bridge.  \n",
    "  \n",
    "We can see this kind of examples in the picture below:  \n",
    "\n",
    "<img src=\"images/map_matching_example.png\" width=\"300\"> \n",
    "<center>GPS matching potential errors - as in <a href=\"https://www.ismll.uni-hildesheim.de/lehre/semSpatial-10s/script/6.pdf\">https://www.ismll.uni-hildesheim.de/lehre/semSpatial-10s/script/6.pdf</a></center> \n",
    "\n",
    "### Snap noisy GPS points to street using map matching \n",
    "\n",
    "Newson and Krumm created an approach that takes into account the whole sequence of nodes and then try to match them in a probabilistic way. The way they do this is by using a Hidden Markov Model (HMM), where the states are each of the nodes presented in the map and the observation sequences are the GPS location sequences. \n",
    "  \n",
    "OSRM already provide it for us out of the box and we can use the OSRMFramework class to extract the main information using the router we have already set up.  \n",
    "* API - http://project-osrm.org/docs/v5.5.1/api/#match-service  \n",
    "  \n",
    "Main parameters to be understood here are:  \n",
    "* **geometries**: set of latitudes and longitudes that will be matched to the street.\n",
    "* **timestamps**: set of **unix timestamps** where `len(timestamps) == len(geometries)`. Timestamps can be used as an additional information when matching points. The bigger the difference between two timestamps from two sequential GPS points are, the more loose we can be when matching them to the street.\n",
    "* **radiuses**: set of **integers** where `len(radiuses) == len(geometries)`. When GPS points are obtained from sensors or, mainly, smartphones, each point comes with an accuracy measure associated with it. The number represents the uncertainty radius around each point, where the true position could be in any place inside the circle. The bigger the uncertainty, the more loose the points can be matched to the street, of course, also increasing the chances of a false matching.  \n",
    "\n",
    "For a deeper look on how map matching works, please refer to the [#Appendix](#Appendix) section.  \n",
    "\n",
    "Lets now take a look of how the disturbed street is after map matching:"
   ]
  },
  {
   "cell_type": "code",
   "execution_count": 57,
   "metadata": {},
   "outputs": [],
   "source": [
    "# TODO: Explain basics of map matching in Appendix section. \n",
    "# If explaining HMM, copy from chord recognition project - \n",
    "# https://github.com/caiomiyashiro/music_and_science/blob/master/Chord%20Recognition/complete_pydata_hidden_markov_models_for_chord_recognition.ipynb\n"
   ]
  },
  {
   "cell_type": "code",
   "execution_count": 58,
   "metadata": {
    "scrolled": false
   },
   "outputs": [
    {
     "data": {
      "text/html": [
       "<div style=\"width:100%;\"><div style=\"position:relative;width:100%;height:0;padding-bottom:60%;\"><iframe src=\"data:text/html;charset=utf-8;base64,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\" style=\"position:absolute;width:100%;height:100%;left:0;top:0;border:none !important;\" allowfullscreen webkitallowfullscreen mozallowfullscreen></iframe></div></div>"
      ],
      "text/plain": [
       "<folium.folium.Map at 0x133f5c128>"
      ]
     },
     "execution_count": 58,
     "metadata": {},
     "output_type": "execute_result"
    }
   ],
   "source": [
    "lat, lon, nodes_id = osm.match(lat, lon, timestamps=None, radiuses=None)\n",
    "\n",
    "t = latlon2linestring(lat, lon)\n",
    "\n",
    "plot_linestring(t)"
   ]
  },
  {
   "cell_type": "markdown",
   "metadata": {},
   "source": [
    "## Traffic Data Processing\n",
    "\n",
    "<img src=\"images/traffic_sequential.jpg\" width=\"400\"> \n",
    "<center>Trace accumulation per time window</center> \n",
    "  \n",
    "So until now, we know how we can have multiple GPS points and their associated node ids and timestamps. However, `how do I turn them into traffic information?`  \n",
    "\n",
    "The main source of information in the mobility context is [Floating Car Data](https://en.wikipedia.org/wiki/Floating_car_data). Nowadays, no one walk without a smartphone. These devices can locate their own position and send to appropriate services through a mobile internet connection. As the data arrive to the servers, they can be used in two ways to calculate traffic information:\n",
    "* **Real time**: As soon as the data arrive, it can be binned/aggregated for a specific time window, *e.g.*, 10 minutes, and then used the extracted measures to update a traffic router.\n",
    "* **Historical aggregates**: The influx of data can be stored for a longer time and we can process it in order to extract average traffic patterns over a certain period of time. For example, we could aggregate 1 month of data into 1 week of usual behavior and use this as traffic features for your router.  \n",
    "\n",
    "You can check that these are the two options used by google here: https://www.google.com/maps/place/Nova+Iorque,+NY,+EUA/@40.6971494,-74.2598655,10z/data=!3m1!4b1!4m5!3m4!1s0x89c24fa5d33f083b:0xc80b8f06e177fe62!8m2!3d40.7127753!4d-74.0059728!5m1!1e1\n",
    "\n",
    "Whether you're binning your data in real time bins or historical aggregates, conceptually, the procedure for the data processing for the traffic router data is the same.  \n",
    "\n",
    "\n",
    "\n",
    "\n",
    "<div class=\"alert alert-block alert-info\">  \n",
    "The accessibility to public car's GPS traces is still rare. When companies have access to this kind of information, they usually don't make publicly available. In this traffic section we're working with a mock of GPS signals, made by OSRM itself to build routes from A to B. The objective of this part then is not to analyze data or summaries statistics, but to understand possible techniques on how to embed traffic information into your OSRM.\n",
    "</div>\n",
    "\n",
    "The goal of creating traffic data from historical aggregates is to bin your historic data into bins and then summarize the average metric present in multiple days into an average metric. The main source usually used is <b>speed</b>. However, in this mock data, as we don't have access to GPS speed information, we will use <i>count</i> as a proxy to traffic measures.   \n",
    "  \n",
    "Lets start with a set of GPS routes, pretending that they're our GPS set obtained by yourself or from a third-party company. After applying map-matching to then, we then end up with a list of node ids, as the [previous section](#Snap-noisy-GPS-points-to-street-using-map-matching) showed. For this example, I'll bin the samples in a hourly basis, but this kind be defined depending in your use case."
   ]
  },
  {
   "cell_type": "code",
   "execution_count": 50,
   "metadata": {},
   "outputs": [
    {
     "data": {
      "text/html": [
       "<div>\n",
       "<style scoped>\n",
       "    .dataframe tbody tr th:only-of-type {\n",
       "        vertical-align: middle;\n",
       "    }\n",
       "\n",
       "    .dataframe tbody tr th {\n",
       "        vertical-align: top;\n",
       "    }\n",
       "\n",
       "    .dataframe thead th {\n",
       "        text-align: right;\n",
       "    }\n",
       "</style>\n",
       "<table border=\"1\" class=\"dataframe\">\n",
       "  <thead>\n",
       "    <tr style=\"text-align: right;\">\n",
       "      <th></th>\n",
       "      <th>pickup_datetime</th>\n",
       "      <th>node_ids</th>\n",
       "    </tr>\n",
       "  </thead>\n",
       "  <tbody>\n",
       "    <tr>\n",
       "      <th>81127</th>\n",
       "      <td>14:00:00</td>\n",
       "      <td>[4544486781, 42430378, 42430384, 6654368342, 4...</td>\n",
       "    </tr>\n",
       "    <tr>\n",
       "      <th>69985</th>\n",
       "      <td>11:00:00</td>\n",
       "      <td>[3977886228, 596775914, 596775876, 3977886201,...</td>\n",
       "    </tr>\n",
       "    <tr>\n",
       "      <th>18150</th>\n",
       "      <td>19:00:00</td>\n",
       "      <td>[3639381190, 42459085, 100521730, 1690448972, ...</td>\n",
       "    </tr>\n",
       "  </tbody>\n",
       "</table>\n",
       "</div>"
      ],
      "text/plain": [
       "      pickup_datetime                                           node_ids\n",
       "81127        14:00:00  [4544486781, 42430378, 42430384, 6654368342, 4...\n",
       "69985        11:00:00  [3977886228, 596775914, 596775876, 3977886201,...\n",
       "18150        19:00:00  [3639381190, 42459085, 100521730, 1690448972, ..."
      ]
     },
     "metadata": {},
     "output_type": "display_data"
    }
   ],
   "source": [
    "lines_k = lines.loc[lines['pickup_datetime'].dt.year == 2015][['pickup_datetime', 'node_ids']].copy()\n",
    "lines_k['pickup_datetime'] = lines_k['pickup_datetime'].dt.strftime('%H:00:00')\n",
    "\n",
    "display(lines_k.head(3))\n"
   ]
  },
  {
   "cell_type": "markdown",
   "metadata": {},
   "source": [
    "The **objective** of the following code blocs is to convert the dataframe above into a a list line segments (2 node ids), the hour bin and how many times this segment appeared in this time bin, like the example below:\n",
    "\n",
    "| datetime | count | segment linestring|\n",
    "|------|------|------|\n",
    "|   13:00  | 5 | LINESTRING (-73.9600437 40.7980478, -73.959547...|  \n",
    "\n",
    "For that we need to:\n",
    "1. Process every node id pair from every route, *i.e.*, the route's segments\n",
    "2. Count how many times the segment occurred grouped by hour bin\n",
    "3. Extract node's position (lat/lon) and convert segments to geometric formats  \n",
    " "
   ]
  },
  {
   "cell_type": "code",
   "execution_count": 51,
   "metadata": {},
   "outputs": [
    {
     "data": {
      "text/html": [
       "<div>\n",
       "<style scoped>\n",
       "    .dataframe tbody tr th:only-of-type {\n",
       "        vertical-align: middle;\n",
       "    }\n",
       "\n",
       "    .dataframe tbody tr th {\n",
       "        vertical-align: top;\n",
       "    }\n",
       "\n",
       "    .dataframe thead th {\n",
       "        text-align: right;\n",
       "    }\n",
       "</style>\n",
       "<table border=\"1\" class=\"dataframe\">\n",
       "  <thead>\n",
       "    <tr style=\"text-align: right;\">\n",
       "      <th></th>\n",
       "      <th>seg_date</th>\n",
       "      <th>from_node</th>\n",
       "      <th>to_node</th>\n",
       "    </tr>\n",
       "  </thead>\n",
       "  <tbody>\n",
       "    <tr>\n",
       "      <th>0</th>\n",
       "      <td>14:00:00</td>\n",
       "      <td>4544486781</td>\n",
       "      <td>42430378</td>\n",
       "    </tr>\n",
       "    <tr>\n",
       "      <th>1</th>\n",
       "      <td>14:00:00</td>\n",
       "      <td>42430378</td>\n",
       "      <td>42430384</td>\n",
       "    </tr>\n",
       "    <tr>\n",
       "      <th>2</th>\n",
       "      <td>14:00:00</td>\n",
       "      <td>42430384</td>\n",
       "      <td>6654368342</td>\n",
       "    </tr>\n",
       "    <tr>\n",
       "      <th>3</th>\n",
       "      <td>14:00:00</td>\n",
       "      <td>6654368342</td>\n",
       "      <td>42432818</td>\n",
       "    </tr>\n",
       "    <tr>\n",
       "      <th>4</th>\n",
       "      <td>14:00:00</td>\n",
       "      <td>42432818</td>\n",
       "      <td>42432825</td>\n",
       "    </tr>\n",
       "  </tbody>\n",
       "</table>\n",
       "</div>"
      ],
      "text/plain": [
       "   seg_date   from_node     to_node\n",
       "0  14:00:00  4544486781    42430378\n",
       "1  14:00:00    42430378    42430384\n",
       "2  14:00:00    42430384  6654368342\n",
       "3  14:00:00  6654368342    42432818\n",
       "4  14:00:00    42432818    42432825"
      ]
     },
     "execution_count": 51,
     "metadata": {},
     "output_type": "execute_result"
    }
   ],
   "source": [
    "# 1. Process every node id pair from every route, i.e., the route's segments \n",
    "\n",
    "from_node = []\n",
    "to_node = []\n",
    "seg_date = []\n",
    "for ix, row in lines_k.iterrows():\n",
    "    row_df = pd.DataFrame()\n",
    "    lat_lon_pairs = []\n",
    "    i = 1\n",
    "    while i < len(row['node_ids']):\n",
    "        from_node.append(row['node_ids'][i-1])\n",
    "        to_node.append(row['node_ids'][i]) \n",
    "        seg_date.append(row['pickup_datetime'])\n",
    "        i += 1\n",
    "\n",
    "seg_df = pd.DataFrame({'seg_date': seg_date, 'from_node': from_node, 'to_node': to_node})\n",
    "seg_df.head()"
   ]
  },
  {
   "cell_type": "code",
   "execution_count": 52,
   "metadata": {},
   "outputs": [
    {
     "data": {
      "text/html": [
       "<div>\n",
       "<style scoped>\n",
       "    .dataframe tbody tr th:only-of-type {\n",
       "        vertical-align: middle;\n",
       "    }\n",
       "\n",
       "    .dataframe tbody tr th {\n",
       "        vertical-align: top;\n",
       "    }\n",
       "\n",
       "    .dataframe thead th {\n",
       "        text-align: right;\n",
       "    }\n",
       "</style>\n",
       "<table border=\"1\" class=\"dataframe\">\n",
       "  <thead>\n",
       "    <tr style=\"text-align: right;\">\n",
       "      <th></th>\n",
       "      <th>from_node</th>\n",
       "      <th>to_node</th>\n",
       "      <th>records</th>\n",
       "      <th>seg_date</th>\n",
       "    </tr>\n",
       "  </thead>\n",
       "  <tbody>\n",
       "    <tr>\n",
       "      <th>0</th>\n",
       "      <td>42421728</td>\n",
       "      <td>42432736</td>\n",
       "      <td>1</td>\n",
       "      <td>00:00:00</td>\n",
       "    </tr>\n",
       "    <tr>\n",
       "      <th>1</th>\n",
       "      <td>42421728</td>\n",
       "      <td>4205830390</td>\n",
       "      <td>1</td>\n",
       "      <td>00:00:00</td>\n",
       "    </tr>\n",
       "    <tr>\n",
       "      <th>2</th>\n",
       "      <td>42421731</td>\n",
       "      <td>4205830392</td>\n",
       "      <td>1</td>\n",
       "      <td>00:00:00</td>\n",
       "    </tr>\n",
       "    <tr>\n",
       "      <th>3</th>\n",
       "      <td>42421737</td>\n",
       "      <td>42421741</td>\n",
       "      <td>1</td>\n",
       "      <td>00:00:00</td>\n",
       "    </tr>\n",
       "    <tr>\n",
       "      <th>4</th>\n",
       "      <td>42421741</td>\n",
       "      <td>42432756</td>\n",
       "      <td>1</td>\n",
       "      <td>00:00:00</td>\n",
       "    </tr>\n",
       "  </tbody>\n",
       "</table>\n",
       "</div>"
      ],
      "text/plain": [
       "   from_node     to_node  records  seg_date\n",
       "0   42421728    42432736        1  00:00:00\n",
       "1   42421728  4205830390        1  00:00:00\n",
       "2   42421731  4205830392        1  00:00:00\n",
       "3   42421737    42421741        1  00:00:00\n",
       "4   42421741    42432756        1  00:00:00"
      ]
     },
     "execution_count": 52,
     "metadata": {},
     "output_type": "execute_result"
    }
   ],
   "source": [
    "# 2. Count how many times the segment occurred grouped by hour bin\n",
    "\n",
    "def count_duplicates(group):\n",
    "    group_res = group.groupby(['from_node', 'to_node']).size().reset_index().rename(columns={0:'records'})\n",
    "    group_res['seg_date'] = group.name\n",
    "    return group_res\n",
    "\n",
    "group_res = seg_df.groupby('seg_date').apply(count_duplicates).reset_index(drop=True)\n",
    "group_res.head()\n"
   ]
  },
  {
   "cell_type": "markdown",
   "metadata": {},
   "source": [
    "Tasks 1 and 2 are straightforward, needing basically some processing. However, for task 3, we need to map our node ids to lat/lons and, unfortunately, **OSRM doesn't provide us with that information**, for optimization reasons. You check some issues in Github [here](https://github.com/Project-OSRM/osrm-backend/issues/5310) and [here](https://github.com/Project-OSRM/osrm-backend/issues/5490) and some more at their Github repository. Enter...[OSMNx](https://geoffboeing.com/2016/11/osmnx-python-street-networks/).  \n",
    "\n",
    "### Open Street Maps + NetworkX (OSMnx) and RouteAnnotator   \n",
    "\n",
    "<img src=\"images/lausanne_.png\" width=\"350\"> \n",
    "<center>Lausanne's driving network</center>  \n",
    "\n",
    "OSMnx is a framework that works over OSM data and has multiple ways to extract data about street networks, including, nodes, ways, relations and **all the tags associated with them**.  \n",
    "  \n",
    "The `RouteAnnotator` class access OSMnx, retrieve desired street network and extract all metadata related to nodes, ways and node segments (node pairs and nodes belonging to same way). For now, it can only extract a network based on [osmnx.graph_from_place](https://osmnx.readthedocs.io/en/stable/osmnx.html#osmnx.core.graph_from_place) function but you can read more about other ways to retrieve data in OSMnx's documentation.  \n",
    "\n",
    "RouteAnnotator creates three main functions similar to [Mapbox's route-annotator](https://github.com/mapbox/route-annotator) and in the future it will be used as a service, so you don't need to know python or programming in order to use it. Its main functions are:\n",
    "* **segment_lookup** - provided a list of node ids with size $N$, it returns $N-1$ segments containing data such as the way_id that this segment belongs to\n",
    "* **way_lookup** - provided a list of ways_id, it returns the metadata associated with all ways, including an ordered list of node_ids that compose that way\n",
    "* **node_lookup** - provided a list of node_ids, it returns the metadata associated with all nodes, including latitude and longitude.  \n",
    "  \n",
    "We're going to use RouteAnnotator in order to retrieve the nodes' lat/lon and keep processing our traffic dataset:  "
   ]
  },
  {
   "cell_type": "code",
   "execution_count": 53,
   "metadata": {},
   "outputs": [],
   "source": [
    "# download and process new york city street graph\n",
    "ra = RouteAnnotator('new york, USA', 'drive_service')"
   ]
  },
  {
   "cell_type": "code",
   "execution_count": 54,
   "metadata": {},
   "outputs": [
    {
     "data": {
      "text/html": [
       "<div>\n",
       "<style scoped>\n",
       "    .dataframe tbody tr th:only-of-type {\n",
       "        vertical-align: middle;\n",
       "    }\n",
       "\n",
       "    .dataframe tbody tr th {\n",
       "        vertical-align: top;\n",
       "    }\n",
       "\n",
       "    .dataframe thead th {\n",
       "        text-align: right;\n",
       "    }\n",
       "</style>\n",
       "<table border=\"1\" class=\"dataframe\">\n",
       "  <thead>\n",
       "    <tr style=\"text-align: right;\">\n",
       "      <th></th>\n",
       "      <th>from_node</th>\n",
       "      <th>to_node</th>\n",
       "      <th>records</th>\n",
       "      <th>seg_date</th>\n",
       "      <th>geometry</th>\n",
       "    </tr>\n",
       "  </thead>\n",
       "  <tbody>\n",
       "    <tr>\n",
       "      <th>0</th>\n",
       "      <td>42421728</td>\n",
       "      <td>42432736</td>\n",
       "      <td>1</td>\n",
       "      <td>00:00:00</td>\n",
       "      <td>LINESTRING (-73.9600437 40.7980478, -73.959547...</td>\n",
       "    </tr>\n",
       "    <tr>\n",
       "      <th>1</th>\n",
       "      <td>42421728</td>\n",
       "      <td>4205830390</td>\n",
       "      <td>1</td>\n",
       "      <td>00:00:00</td>\n",
       "      <td>LINESTRING (-73.9600437 40.7980478, -73.960424...</td>\n",
       "    </tr>\n",
       "    <tr>\n",
       "      <th>2</th>\n",
       "      <td>42421731</td>\n",
       "      <td>4205830392</td>\n",
       "      <td>1</td>\n",
       "      <td>00:00:00</td>\n",
       "      <td>LINESTRING (-73.96147430000001 40.798645, -73....</td>\n",
       "    </tr>\n",
       "    <tr>\n",
       "      <th>3</th>\n",
       "      <td>42421737</td>\n",
       "      <td>42421741</td>\n",
       "      <td>1</td>\n",
       "      <td>00:00:00</td>\n",
       "      <td>LINESTRING (-73.962886 40.7992545, -73.9657046...</td>\n",
       "    </tr>\n",
       "    <tr>\n",
       "      <th>4</th>\n",
       "      <td>42421741</td>\n",
       "      <td>42432756</td>\n",
       "      <td>1</td>\n",
       "      <td>00:00:00</td>\n",
       "      <td>LINESTRING (-73.9657046 40.8004313, -73.965207...</td>\n",
       "    </tr>\n",
       "  </tbody>\n",
       "</table>\n",
       "</div>"
      ],
      "text/plain": [
       "   from_node     to_node  records  seg_date  \\\n",
       "0   42421728    42432736        1  00:00:00   \n",
       "1   42421728  4205830390        1  00:00:00   \n",
       "2   42421731  4205830392        1  00:00:00   \n",
       "3   42421737    42421741        1  00:00:00   \n",
       "4   42421741    42432756        1  00:00:00   \n",
       "\n",
       "                                            geometry  \n",
       "0  LINESTRING (-73.9600437 40.7980478, -73.959547...  \n",
       "1  LINESTRING (-73.9600437 40.7980478, -73.960424...  \n",
       "2  LINESTRING (-73.96147430000001 40.798645, -73....  \n",
       "3  LINESTRING (-73.962886 40.7992545, -73.9657046...  \n",
       "4  LINESTRING (-73.9657046 40.8004313, -73.965207...  "
      ]
     },
     "execution_count": 54,
     "metadata": {},
     "output_type": "execute_result"
    }
   ],
   "source": [
    "# 3. Extract node's position (lat/lon) and convert segments to geometric formats\n",
    "\n",
    "line_seg = []\n",
    "for ix, row in group_res.iterrows():\n",
    "    try:\n",
    "        metadata1 = ra.node_lookup(row['from_node'])  # use RouteAnnotator to retrieve node's metadata\n",
    "        m1_lat_lon = [metadata1['y'], metadata1['x']] # such as lat/lon\n",
    "        metadata2 = ra.node_lookup(row['to_node'])\n",
    "        m2_lat_lon = [metadata2['y'], metadata2['x']]\n",
    "        line_segment = latlon2linestring(lat = [m1_lat_lon[0], m2_lat_lon[0]], \n",
    "                                         lon = [m1_lat_lon[1], m2_lat_lon[1]])[0]\n",
    "        line_seg.append(line_segment)\n",
    "    except Exception:\n",
    "        line_seg.append(np.nan)\n",
    "        continue\n",
    "        \n",
    "\n",
    "group_res = GeoDataFrame(group_res, geometry=line_seg)\n",
    "group_res.head()"
   ]
  },
  {
   "cell_type": "markdown",
   "metadata": {},
   "source": [
    "Finally, we have the street segment and their respective \"popularity\", *i.e.*, count, aggregated by hour. In a real GPS database, the `records` columns would be replaced by the average speed of gps traces that passed through it. Lets visualize it!  \n",
    "\n",
    "After finalizing the dataset above, we could save them as the first CSV file that we've saved containing our desired metric."
   ]
  },
  {
   "cell_type": "code",
   "execution_count": 55,
   "metadata": {},
   "outputs": [
    {
     "name": "stdout",
     "output_type": "stream",
     "text": [
      "User Guide: https://github.com/keplergl/kepler.gl/blob/master/docs/keplergl-jupyter/user-guide.md\n"
     ]
    },
    {
     "data": {
      "application/vnd.jupyter.widget-view+json": {
       "model_id": "992f5efafdc04fcd859fbddf627f9cb3",
       "version_major": 2,
       "version_minor": 0
      },
      "text/plain": [
       "KeplerGl(data={'traces': {'index': [0, 1, 2, 3, 4, 5, 6, 7, 8, 9, 10, 11, 12, 13, 14, 15, 16, 17, 18, 19, 20, …"
      ]
     },
     "metadata": {},
     "output_type": "display_data"
    }
   ],
   "source": [
    "w1 = keplergl.KeplerGl(height=500)\n",
    "w1.add_data(data=group_res[['seg_date', 'geometry', 'records']].dropna(), name='traces')\n",
    "w1"
   ]
  }
 ],
 "metadata": {
  "colab": {
   "collapsed_sections": [],
   "name": "AMLD_2020.ipynb",
   "provenance": []
  },
  "hide_input": false,
  "kernelspec": {
   "display_name": "Python 3",
   "language": "python",
   "name": "python3"
  },
  "language_info": {
   "codemirror_mode": {
    "name": "ipython",
    "version": 3
   },
   "file_extension": ".py",
   "mimetype": "text/x-python",
   "name": "python",
   "nbconvert_exporter": "python",
   "pygments_lexer": "ipython3",
   "version": "3.6.4"
  },
  "toc": {
   "base_numbering": 1,
   "nav_menu": {},
   "number_sections": true,
   "sideBar": true,
   "skip_h1_title": false,
   "title_cell": "Table of Contents",
   "title_sidebar": "Contents",
   "toc_cell": false,
   "toc_position": {},
   "toc_section_display": true,
   "toc_window_display": false
  }
 },
 "nbformat": 4,
 "nbformat_minor": 1
}
