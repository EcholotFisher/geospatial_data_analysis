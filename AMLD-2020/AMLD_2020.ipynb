{
 "cells": [
  {
   "cell_type": "markdown",
   "metadata": {
    "colab_type": "text",
    "id": "jzbMDeGmIsjq"
   },
   "source": [
    "# Intro / Goals / Context\n",
    "\n",
    "\n",
    "## Goal: \n",
    "\n",
    "Predict the fare of taxi tours\n",
    "\n",
    "Is this a meaningful goal, or some placeholder task to do something?\n",
    "\n",
    "## Question to Public:\n",
    "\n",
    "\" What kind of feature do you think necessary to have?\"\n",
    "\n",
    "\" Why is this a datascience question?\"\n",
    "\n",
    "  - Uncertainty about the driver\n",
    "\n",
    "\n",
    "# Motivation for the workshop?\n",
    "\n",
    "\n",
    "What makes spatial data special? \n",
    "What kind of novel problems we face by working with spatial data?\n",
    "\n",
    "    \n",
    "    * COMPUTING DISTANCES: understand the spatial data properties (e.g. lat/lon, geodesical view)\n",
    "    \n",
    "    * being able to VISUALISE these datasets\n",
    "        * plot heat maps on geographical backgrounds\n",
    "        \n",
    "    * ROUNDING must respect the architecture of the city, roads and building (example: route tracing should turn around the buildings).\n",
    "    \n",
    "    \n",
    "    \n",
    "# Modelling\n",
    "\n",
    "## Get data and make exploratory plots to clean it.\n",
    "\n",
    "* Use Kepler on cleaned data and develop a nice intuition.\n",
    "\n",
    "## Baseline Model 00 (SO + CM)\n",
    "\n",
    "* Explain Euclidean distance\n",
    "* predict fare using the Euclidean distance\n",
    "    Fare ~ 1 + EuclideanDistance\n",
    "* Discuss what is the problem with the Euclidean distance.\n",
    "    * TEACHING: Different types of distances\n",
    "    * Have function definitions for different types of distances, explain code.\n",
    "* Run the same model with different types of distances, and evaluate how much better the model becomes...\n",
    "    Fare ~ 1 + X_Distance\n",
    "    \n",
    "## Updated Model 01 (EJ)\n",
    "\n",
    "* use H3 hexagones as categorical features with the idea of capturing systematic variations in locations e.g. center of the city being more busy in general in comparison to a tour along the periphery of the city.\n",
    "\n",
    "\n",
    "* demand within an hexagon.\n",
    "\n",
    "\n",
    "## Updated Model 02 \n",
    "\n",
    "* Daily seasonality: hour of the day as a feature with the idea \n",
    "    \n",
    "    \n",
    "## Updated Model 03 (CM)\n",
    "\n",
    "Use https://osmcode.org/pyosmium/ to get route features.\n",
    "\n",
    "* Get features from the route between pickup and dropoff\n",
    "  ** # of traffic lights\n",
    "  ** Allowed speed limit\n",
    "  ** Number of lanes\n",
    "  ** Number of hard lefts\n",
    "\n",
    "\n",
    "## DISCUSSION\n",
    "\n",
    "how to incorporate traffic information?\n",
    "\n",
    "\n",
    "# (QUESTIONS for us) /\n",
    "\n",
    "* do we want to train the model on all train data: Memory considerations\n",
    "\n",
    "\n",
    "* Why is this task meaningful? \n",
    "    ** A simple rule is generating these data, why do we need data science to recover a known rule?\n",
    "    \n",
    "    ** how is what we want to do different than applying the rule that generates taxi fares?\n",
    "    \n",
    "    \n",
    "* Are we going to train the model on the fly? If so, how long does it to fit it to 50 millions data points.\n",
    "\n",
    "\n",
    "    "
   ]
  },
  {
   "cell_type": "code",
   "execution_count": 1,
   "metadata": {
    "colab": {
     "base_uri": "https://localhost:8080/",
     "height": 35
    },
    "colab_type": "code",
    "id": "ASafcNAFtY3D",
    "outputId": "4ec0741f-1afe-46f4-c404-52b7d0ae8401"
   },
   "outputs": [],
   "source": [
    "# %pip install pyproj"
   ]
  },
  {
   "cell_type": "code",
   "execution_count": 2,
   "metadata": {
    "colab": {},
    "colab_type": "code",
    "id": "OxsTPZphD2ol"
   },
   "outputs": [],
   "source": [
    "# libraries\n",
    "\n",
    "import pandas as pd\n",
    "from sklearn.model_selection import train_test_split\n",
    "from sklearn.linear_model import LinearRegression\n",
    "from sklearn.metrics import mean_absolute_error\n",
    "import matplotlib.pyplot as plt\n",
    "import numpy as np\n",
    "import keplergl\n",
    "from scipy.spatial.distance import cdist\n",
    "from sklearn.preprocessing import StandardScaler\n",
    "from geopandas import GeoSeries\n",
    "\n",
    "from utils.osrm_router.OSRMFramework import OSRMFramework\n",
    "from utils.visualisation.lines import plot_linestring\n",
    "from utils.geometry.conversor import latlon2linestring\n",
    "\n",
    "###### constants\n",
    "TARGET = 'fare_amount'\n",
    "OSRM_PATH = 'localhost:5000'\n"
   ]
  },
  {
   "cell_type": "code",
   "execution_count": 3,
   "metadata": {
    "colab": {
     "base_uri": "https://localhost:8080/",
     "height": 336
    },
    "colab_type": "code",
    "id": "1SLycpVN9BM-",
    "outputId": "1855cfed-4c48-4817-9b74-6e8b04d7ce40"
   },
   "outputs": [
    {
     "data": {
      "text/html": [
       "<div>\n",
       "<style scoped>\n",
       "    .dataframe tbody tr th:only-of-type {\n",
       "        vertical-align: middle;\n",
       "    }\n",
       "\n",
       "    .dataframe tbody tr th {\n",
       "        vertical-align: top;\n",
       "    }\n",
       "\n",
       "    .dataframe thead th {\n",
       "        text-align: right;\n",
       "    }\n",
       "</style>\n",
       "<table border=\"1\" class=\"dataframe\">\n",
       "  <thead>\n",
       "    <tr style=\"text-align: right;\">\n",
       "      <th></th>\n",
       "      <th>fare_amount</th>\n",
       "      <th>pickup_datetime</th>\n",
       "      <th>pickup_longitude</th>\n",
       "      <th>pickup_latitude</th>\n",
       "      <th>dropoff_longitude</th>\n",
       "      <th>dropoff_latitude</th>\n",
       "      <th>passenger_count</th>\n",
       "    </tr>\n",
       "  </thead>\n",
       "  <tbody>\n",
       "    <tr>\n",
       "      <th>0</th>\n",
       "      <td>8.1</td>\n",
       "      <td>2009-01-23 07:28:00</td>\n",
       "      <td>-73.996070</td>\n",
       "      <td>40.732605</td>\n",
       "      <td>-73.980675</td>\n",
       "      <td>40.761864</td>\n",
       "      <td>1</td>\n",
       "    </tr>\n",
       "    <tr>\n",
       "      <th>1</th>\n",
       "      <td>9.0</td>\n",
       "      <td>2014-01-04 21:11:00</td>\n",
       "      <td>-73.977640</td>\n",
       "      <td>40.752346</td>\n",
       "      <td>-73.970390</td>\n",
       "      <td>40.768867</td>\n",
       "      <td>2</td>\n",
       "    </tr>\n",
       "    <tr>\n",
       "      <th>2</th>\n",
       "      <td>6.5</td>\n",
       "      <td>2015-06-22 01:54:24</td>\n",
       "      <td>-74.000080</td>\n",
       "      <td>40.728610</td>\n",
       "      <td>-73.988730</td>\n",
       "      <td>40.722170</td>\n",
       "      <td>6</td>\n",
       "    </tr>\n",
       "    <tr>\n",
       "      <th>3</th>\n",
       "      <td>4.5</td>\n",
       "      <td>2010-11-24 12:46:52</td>\n",
       "      <td>-73.962685</td>\n",
       "      <td>40.775646</td>\n",
       "      <td>-73.957436</td>\n",
       "      <td>40.777767</td>\n",
       "      <td>1</td>\n",
       "    </tr>\n",
       "    <tr>\n",
       "      <th>4</th>\n",
       "      <td>4.5</td>\n",
       "      <td>2011-11-01 02:19:34</td>\n",
       "      <td>-73.996300</td>\n",
       "      <td>40.753600</td>\n",
       "      <td>-73.998800</td>\n",
       "      <td>40.761100</td>\n",
       "      <td>1</td>\n",
       "    </tr>\n",
       "  </tbody>\n",
       "</table>\n",
       "</div>"
      ],
      "text/plain": [
       "   fare_amount     pickup_datetime  pickup_longitude  pickup_latitude  \\\n",
       "0          8.1 2009-01-23 07:28:00        -73.996070        40.732605   \n",
       "1          9.0 2014-01-04 21:11:00        -73.977640        40.752346   \n",
       "2          6.5 2015-06-22 01:54:24        -74.000080        40.728610   \n",
       "3          4.5 2010-11-24 12:46:52        -73.962685        40.775646   \n",
       "4          4.5 2011-11-01 02:19:34        -73.996300        40.753600   \n",
       "\n",
       "   dropoff_longitude  dropoff_latitude  passenger_count  \n",
       "0         -73.980675         40.761864                1  \n",
       "1         -73.970390         40.768867                2  \n",
       "2         -73.988730         40.722170                6  \n",
       "3         -73.957436         40.777767                1  \n",
       "4         -73.998800         40.761100                1  "
      ]
     },
     "metadata": {},
     "output_type": "display_data"
    },
    {
     "data": {
      "text/plain": [
       "fare_amount                 float64\n",
       "pickup_datetime      datetime64[ns]\n",
       "pickup_longitude            float64\n",
       "pickup_latitude             float64\n",
       "dropoff_longitude           float64\n",
       "dropoff_latitude            float64\n",
       "passenger_count               int64\n",
       "dtype: object"
      ]
     },
     "metadata": {},
     "output_type": "display_data"
    }
   ],
   "source": [
    "# df = pd.read_csv('https://raw.githubusercontent.com/caiomiyashiro/geospatial_data_analysis/master/data/sample_100000.csv')\n",
    "df = pd.read_csv('data/sample_100000.csv')\n",
    "df['pickup_datetime'] = pd.to_datetime(df['pickup_datetime'])\n",
    "display(df.head())\n",
    "display(df.dtypes)\n"
   ]
  },
  {
   "cell_type": "markdown",
   "metadata": {
    "colab_type": "text",
    "id": "3bypvW8YD-Ih"
   },
   "source": [
    "# Split training and testing before analysis"
   ]
  },
  {
   "cell_type": "code",
   "execution_count": 4,
   "metadata": {
    "colab": {
     "base_uri": "https://localhost:8080/",
     "height": 52
    },
    "colab_type": "code",
    "id": "MRKsnouKEAvN",
    "outputId": "07716d2f-065f-4330-89df-513f69eb0fe9"
   },
   "outputs": [
    {
     "name": "stdout",
     "output_type": "stream",
     "text": [
      "Shape X_train (80000, 6)\n",
      "Shape X_test (20000, 6)\n"
     ]
    }
   ],
   "source": [
    "def split_training_test(df, target=TARGET, test_size=0.2):\n",
    "    X = df.drop(TARGET, axis=1)\n",
    "    y = df[TARGET]\n",
    "    return train_test_split(X, y, test_size=test_size, random_state=0) \n",
    "\n",
    "def join_Xy(df, target, target_str=TARGET):\n",
    "    df_ = df.copy()\n",
    "    df_[target_str] = target\n",
    "    return df_\n",
    "\n",
    "def get_initial_training_testing_set(df):\n",
    "    X_train, X_test, y_train, y_test = split_training_test(df)\n",
    "    print(f'Shape X_train {X_train.shape}')\n",
    "    print(f'Shape X_test {X_test.shape}')\n",
    "\n",
    "    # join target for easier exploratory analysis\n",
    "    df_train = join_Xy(X_train, y_train)\n",
    "    df_test = join_Xy(X_test, y_test)\n",
    "    return df_train, df_test\n",
    "\n",
    "df_train, df_test = get_initial_training_testing_set(df)"
   ]
  },
  {
   "cell_type": "markdown",
   "metadata": {
    "colab_type": "text",
    "id": "fe6TjpszDVbG"
   },
   "source": [
    "# Exploratory Analysis\n",
    "\n",
    "* latitudes/longitudes 0\n",
    "* check points on the map - maybe find new york shapefile and remove points outside polygon\n",
    "* Questions to look at kepler?\n",
    "* Some trips, like to/from an airport, are fixed fee."
   ]
  },
  {
   "cell_type": "markdown",
   "metadata": {
    "colab_type": "text",
    "id": "dSmcxpLMF_xJ"
   },
   "source": [
    "# Model 00 - Euclidean Distance\n",
    "\n",
    "## Start experiment tracking"
   ]
  },
  {
   "cell_type": "code",
   "execution_count": 5,
   "metadata": {
    "colab": {},
    "colab_type": "code",
    "id": "ShZLGIYzk-cI"
   },
   "outputs": [],
   "source": [
    "iteration_results = {}"
   ]
  },
  {
   "cell_type": "code",
   "execution_count": 6,
   "metadata": {
    "colab": {
     "base_uri": "https://localhost:8080/",
     "height": 138
    },
    "colab_type": "code",
    "id": "sO-69Fi2FAYt",
    "outputId": "b4d0270e-167d-4a8d-b251-6d1cd365b238"
   },
   "outputs": [
    {
     "data": {
      "text/html": [
       "<div>\n",
       "<style scoped>\n",
       "    .dataframe tbody tr th:only-of-type {\n",
       "        vertical-align: middle;\n",
       "    }\n",
       "\n",
       "    .dataframe tbody tr th {\n",
       "        vertical-align: top;\n",
       "    }\n",
       "\n",
       "    .dataframe thead th {\n",
       "        text-align: right;\n",
       "    }\n",
       "</style>\n",
       "<table border=\"1\" class=\"dataframe\">\n",
       "  <thead>\n",
       "    <tr style=\"text-align: right;\">\n",
       "      <th></th>\n",
       "      <th>pickup_datetime</th>\n",
       "      <th>pickup_longitude</th>\n",
       "      <th>pickup_latitude</th>\n",
       "      <th>dropoff_longitude</th>\n",
       "      <th>dropoff_latitude</th>\n",
       "      <th>passenger_count</th>\n",
       "      <th>fare_amount</th>\n",
       "      <th>euclidean_dist</th>\n",
       "    </tr>\n",
       "  </thead>\n",
       "  <tbody>\n",
       "    <tr>\n",
       "      <th>10382</th>\n",
       "      <td>2009-02-03 08:52:00</td>\n",
       "      <td>-73.97087</td>\n",
       "      <td>40.788616</td>\n",
       "      <td>-73.965706</td>\n",
       "      <td>40.774487</td>\n",
       "      <td>1</td>\n",
       "      <td>6.9</td>\n",
       "      <td>162.280780</td>\n",
       "    </tr>\n",
       "    <tr>\n",
       "      <th>73171</th>\n",
       "      <td>2010-04-22 20:14:00</td>\n",
       "      <td>-73.97037</td>\n",
       "      <td>40.761692</td>\n",
       "      <td>-73.803375</td>\n",
       "      <td>40.762497</td>\n",
       "      <td>5</td>\n",
       "      <td>29.7</td>\n",
       "      <td>162.138167</td>\n",
       "    </tr>\n",
       "    <tr>\n",
       "      <th>30938</th>\n",
       "      <td>2012-01-14 12:45:11</td>\n",
       "      <td>-73.97719</td>\n",
       "      <td>40.784420</td>\n",
       "      <td>-73.996500</td>\n",
       "      <td>40.748596</td>\n",
       "      <td>1</td>\n",
       "      <td>13.3</td>\n",
       "      <td>162.285749</td>\n",
       "    </tr>\n",
       "  </tbody>\n",
       "</table>\n",
       "</div>"
      ],
      "text/plain": [
       "          pickup_datetime  pickup_longitude  pickup_latitude  \\\n",
       "10382 2009-02-03 08:52:00         -73.97087        40.788616   \n",
       "73171 2010-04-22 20:14:00         -73.97037        40.761692   \n",
       "30938 2012-01-14 12:45:11         -73.97719        40.784420   \n",
       "\n",
       "       dropoff_longitude  dropoff_latitude  passenger_count  fare_amount  \\\n",
       "10382         -73.965706         40.774487                1          6.9   \n",
       "73171         -73.803375         40.762497                5         29.7   \n",
       "30938         -73.996500         40.748596                1         13.3   \n",
       "\n",
       "       euclidean_dist  \n",
       "10382      162.280780  \n",
       "73171      162.138167  \n",
       "30938      162.285749  "
      ]
     },
     "execution_count": 6,
     "metadata": {},
     "output_type": "execute_result"
    }
   ],
   "source": [
    "def euclidean_distance(x1, y1, x2, y2):\n",
    "    return (((x2-x1)**2 + (y2-y1)**2)**(1/2))\n",
    "\n",
    "df_train_temp = df_train.head(3).copy()\n",
    "# Show how unrealistic it is, IF it's unrealisic\n",
    "df_train_temp['euclidean_dist'] = euclidean_distance(df_train_temp['pickup_latitude'], df_train_temp['dropoff_latitude'], \n",
    "                                                   df_train_temp['pickup_longitude'], df_train_temp['dropoff_longitude'])\n",
    "\n",
    "df_train_temp\n"
   ]
  },
  {
   "cell_type": "code",
   "execution_count": 7,
   "metadata": {
    "colab": {},
    "colab_type": "code",
    "id": "pCdZLbWRG15v"
   },
   "outputs": [],
   "source": [
    "def standardize_features(df):\n",
    "    df_copy = df.copy()\n",
    "    col_names = df_copy.columns\n",
    "    ixs = df_copy.index\n",
    "    return pd.DataFrame(StandardScaler().fit_transform(df_copy), columns=col_names, index=ixs)\n",
    "\n",
    "def pre_processing_pipeline_1(df, target_col=TARGET,\n",
    "                              pickup_latitude='pickup_latitude', dropoff_latitude='dropoff_latitude', \n",
    "                              pickup_longitude='pickup_longitude', dropoff_longitude='dropoff_longitude'):\n",
    "  \n",
    "    EUCLIDEAN_FEAT = 'euclidean_dist'\n",
    "    FEATURES = [EUCLIDEAN_FEAT]\n",
    "\n",
    "    df_copy = df.copy()\n",
    "    df_copy[EUCLIDEAN_FEAT] = euclidean_distance(df_copy[pickup_latitude], df_copy[dropoff_latitude], \n",
    "                                                 df_copy[pickup_longitude], df_copy[dropoff_longitude])\n",
    "    # in the EDA, we probably treat the nulls, so for now, just drop them\n",
    "    df_copy = df_copy.dropna()\n",
    "\n",
    "    df_res = standardize_features(df_copy[FEATURES])\n",
    "    df_res[target_col] = df_copy[target_col]\n",
    "    return df_res\n",
    "\n",
    "df_train_1= pre_processing_pipeline_1(df_train)\n",
    "df_test_1 = pre_processing_pipeline_1(df_test)\n",
    "\n"
   ]
  },
  {
   "cell_type": "code",
   "execution_count": 8,
   "metadata": {
    "colab": {},
    "colab_type": "code",
    "id": "-eXRxwMFHVjE"
   },
   "outputs": [],
   "source": [
    "model_1 = LinearRegression()\n",
    "model_1.fit(df_train_1.drop(TARGET, axis=1), df_train_1[TARGET])\n",
    "\n",
    "y_test_pred_1 = model_1.predict(df_test_1.drop(TARGET, axis=1))"
   ]
  },
  {
   "cell_type": "code",
   "execution_count": 9,
   "metadata": {
    "colab": {
     "base_uri": "https://localhost:8080/",
     "height": 298
    },
    "colab_type": "code",
    "id": "N37YPJLAdTzy",
    "outputId": "b581fb72-42f9-4f2f-c8bb-ef9d506297f0"
   },
   "outputs": [
    {
     "name": "stdout",
     "output_type": "stream",
     "text": [
      "Mean Absolute Error: 5.9948500667004065\n"
     ]
    },
    {
     "data": {
      "image/png": "[encoded data removed]",
      "text/plain": [
       "<Figure size 432x288 with 1 Axes>"
      ]
     },
     "metadata": {},
     "output_type": "display_data"
    }
   ],
   "source": [
    "def print_evaluation(y_obs, y_pred, max_lim_y=100, return_errors=True):\n",
    "    mae_hist = np.abs(y_pred - y_obs)\n",
    "    plt.hist(mae_hist[y_obs < max_lim_y], bins=100)\n",
    "    plt.title('Absolute Error Distribution');\n",
    "\n",
    "    if(return_errors == True):\n",
    "        return mae_hist\n",
    "\n",
    "#####\n",
    "mae = mean_absolute_error(df_test_1[TARGET], y_test_pred_1)\n",
    "iteration_results['exp_1_mae'] = mae\n",
    "print(f'Mean Absolute Error: {mae}')\n",
    "\n",
    "print_evaluation(df_test_1[TARGET], y_test_pred_1, return_errors=False)"
   ]
  },
  {
   "cell_type": "markdown",
   "metadata": {
    "colab_type": "text",
    "id": "Hed4d4mGlVEZ"
   },
   "source": [
    "## Experimenting on different types of distance\n",
    "### Haversine - Explain\n",
    "### Great Circle - Explain\n"
   ]
  },
  {
   "cell_type": "code",
   "execution_count": 10,
   "metadata": {
    "colab": {
     "base_uri": "https://localhost:8080/",
     "height": 138
    },
    "colab_type": "code",
    "id": "HjB400AfdUsm",
    "outputId": "89229ef5-4b3e-4b09-8662-60ac4bfb77b0"
   },
   "outputs": [
    {
     "data": {
      "text/html": [
       "<div>\n",
       "<style scoped>\n",
       "    .dataframe tbody tr th:only-of-type {\n",
       "        vertical-align: middle;\n",
       "    }\n",
       "\n",
       "    .dataframe tbody tr th {\n",
       "        vertical-align: top;\n",
       "    }\n",
       "\n",
       "    .dataframe thead th {\n",
       "        text-align: right;\n",
       "    }\n",
       "</style>\n",
       "<table border=\"1\" class=\"dataframe\">\n",
       "  <thead>\n",
       "    <tr style=\"text-align: right;\">\n",
       "      <th></th>\n",
       "      <th>pickup_datetime</th>\n",
       "      <th>pickup_longitude</th>\n",
       "      <th>pickup_latitude</th>\n",
       "      <th>dropoff_longitude</th>\n",
       "      <th>dropoff_latitude</th>\n",
       "      <th>passenger_count</th>\n",
       "      <th>fare_amount</th>\n",
       "      <th>haversine_dist</th>\n",
       "    </tr>\n",
       "  </thead>\n",
       "  <tbody>\n",
       "    <tr>\n",
       "      <th>10382</th>\n",
       "      <td>2009-02-03 08:52:00</td>\n",
       "      <td>-73.97087</td>\n",
       "      <td>40.788616</td>\n",
       "      <td>-73.965706</td>\n",
       "      <td>40.774487</td>\n",
       "      <td>1</td>\n",
       "      <td>6.9</td>\n",
       "      <td>1.629105</td>\n",
       "    </tr>\n",
       "    <tr>\n",
       "      <th>73171</th>\n",
       "      <td>2010-04-22 20:14:00</td>\n",
       "      <td>-73.97037</td>\n",
       "      <td>40.761692</td>\n",
       "      <td>-73.803375</td>\n",
       "      <td>40.762497</td>\n",
       "      <td>5</td>\n",
       "      <td>29.7</td>\n",
       "      <td>14.056115</td>\n",
       "    </tr>\n",
       "    <tr>\n",
       "      <th>30938</th>\n",
       "      <td>2012-01-14 12:45:11</td>\n",
       "      <td>-73.97719</td>\n",
       "      <td>40.784420</td>\n",
       "      <td>-73.996500</td>\n",
       "      <td>40.748596</td>\n",
       "      <td>1</td>\n",
       "      <td>13.3</td>\n",
       "      <td>4.299907</td>\n",
       "    </tr>\n",
       "  </tbody>\n",
       "</table>\n",
       "</div>"
      ],
      "text/plain": [
       "          pickup_datetime  pickup_longitude  pickup_latitude  \\\n",
       "10382 2009-02-03 08:52:00         -73.97087        40.788616   \n",
       "73171 2010-04-22 20:14:00         -73.97037        40.761692   \n",
       "30938 2012-01-14 12:45:11         -73.97719        40.784420   \n",
       "\n",
       "       dropoff_longitude  dropoff_latitude  passenger_count  fare_amount  \\\n",
       "10382         -73.965706         40.774487                1          6.9   \n",
       "73171         -73.803375         40.762497                5         29.7   \n",
       "30938         -73.996500         40.748596                1         13.3   \n",
       "\n",
       "       haversine_dist  \n",
       "10382        1.629105  \n",
       "73171       14.056115  \n",
       "30938        4.299907  "
      ]
     },
     "execution_count": 10,
     "metadata": {},
     "output_type": "execute_result"
    }
   ],
   "source": [
    "def lat_longs2radians(lon1, lat1, lon2, lat2):\n",
    "    lon1, lat1, lon2, lat2 = map(np.radians, [lon1, lat1, lon2, lat2])\n",
    "    return lon1, lat1, lon2, lat2\n",
    "\n",
    "def haversine_distance(lat1, lat2, lon1, lon2):\n",
    "    \"\"\"\n",
    "    Calculate the great circle distance between two points\n",
    "    on the earth (specified in decimal degrees)\n",
    "\n",
    "    All args must be of equal length.\n",
    "\n",
    "    \"\"\"\n",
    "    lon1, lat1, lon2, lat2 = lat_longs2radians(lon1, lat1, lon2, lat2)\n",
    "    dlon = lon2 - lon1\n",
    "    dlat = lat2 - lat1\n",
    "    a = np.sin(dlat/2.0)**2 + np.cos(lat1) * np.cos(lat2) * np.sin(dlon/2.0)**2\n",
    "\n",
    "    c = 2 * np.arcsin(np.sqrt(a))\n",
    "    km = 6367 * c\n",
    "    return km\n",
    "\n",
    "# TODO: manhattan with lat lon has NOT worked - see attempt below\n",
    "# def manhattan_distance(lon1, lat1, lon2, lat2):\n",
    "#   lon1, lat1, lon2, lat2 = lat_longs2radians(lon1, lat1, lon2, lat2)\n",
    "#   dlon = np.abs(lon2 - lon1)\n",
    "#   dlat = np.abs(lat2 - lat1)\n",
    "#   return dlon + dlat\n",
    "\n",
    "df_train_temp = df_train.head(3).copy()\n",
    "df_train_temp['haversine_dist'] = haversine_distance(df_train_temp['pickup_latitude'], df_train_temp['dropoff_latitude'], \n",
    "                                                   df_train_temp['pickup_longitude'], df_train_temp['dropoff_longitude'])\n",
    "\n",
    "\n",
    "# df_train_temp['manhattan_dist'] = manhattan_distance(df_train_temp['pickup_latitude'], df_train_temp['dropoff_latitude'], \n",
    "#                                                    df_train_temp['pickup_longitude'], df_train_temp['dropoff_longitude'])\n",
    "\n",
    "df_train_temp\n"
   ]
  },
  {
   "cell_type": "code",
   "execution_count": 11,
   "metadata": {
    "colab": {},
    "colab_type": "code",
    "id": "-HfjZPIIsOqn"
   },
   "outputs": [],
   "source": [
    "# trying to convert to UTM and use traditional euclidean space to calculate manhattan BUT IT DIDN'T WORK\n",
    "\n",
    "\n",
    "\n",
    "# from pyproj import Proj, transform\n",
    "\n",
    "# inProj = Proj(init='epsg:4326')  # lat lon\n",
    "# outProj = Proj(init='epsg:3857') # UTM\n",
    "\n",
    "# lat_pickup_utm, lon_pickup_utm = transform(inProj,outProj,df_train['pickup_latitude'].values, df_train['pickup_longitude'].values)\n",
    "# lat_dropoff_utm, lon_dropoff_utm = transform(inProj,outProj,df_train['dropoff_latitude'].values, df_train['dropoff_longitude'].values)\n",
    "\n",
    "# df_train['manhattan_dist'] = np_manhattan(np.array(lat_pickup_utm), np.array(lat_dropoff_utm), \n",
    "#                                           np.array(lon_pickup_utm), np.array(lon_dropoff_utm))"
   ]
  },
  {
   "cell_type": "code",
   "execution_count": 12,
   "metadata": {
    "colab": {},
    "colab_type": "code",
    "id": "u_qHuzQIvMoY"
   },
   "outputs": [],
   "source": [
    "def pre_processing_pipeline_2(df, target_col=TARGET, \n",
    "                              pickup_latitude='pickup_latitude', dropoff_latitude='dropoff_latitude', \n",
    "                              pickup_longitude='pickup_longitude', dropoff_longitude='dropoff_longitude'):\n",
    "    EUCLIDEAN_FEAT = 'euclidean_dist'\n",
    "    HAVERSINE_FEAT = 'haversine_dist'\n",
    "    # MANHATTAN_FEAT = 'manhattan_dist'\n",
    "    FEATURES = [EUCLIDEAN_FEAT, HAVERSINE_FEAT] #, MANHATTAN_FEAT - #not returning MANHATTAN_FEAT because it's wrong\n",
    "\n",
    "    df_copy = df.copy()\n",
    "\n",
    "    df_copy[EUCLIDEAN_FEAT] = euclidean_distance(df_copy[pickup_latitude], df_copy[dropoff_latitude], \n",
    "                                              df_copy[pickup_longitude], df_copy[dropoff_longitude])\n",
    "    df_copy[HAVERSINE_FEAT] = haversine_distance(df_copy[pickup_latitude], df_copy[dropoff_latitude], \n",
    "                                              df_copy[pickup_longitude], df_copy[dropoff_longitude])\n",
    "    # df_copy[MANHATTAN_FEAT] = manhattan_distance(df_copy[pickup_latitude], df_copy[dropoff_latitude], \n",
    "    #                                         df_copy[pickup_longitude], df_copy[dropoff_longitude])\n",
    "\n",
    "    # in the EDA, we probably treat the nulls, so for now, just drop them\n",
    "    df_copy = df_copy.dropna()\n",
    "\n",
    "    df_res = standardize_features(df_copy[FEATURES])\n",
    "    df_res[target_col] = df_copy[target_col]\n",
    "    return df_res\n",
    "\n",
    "df_train_2 = pre_processing_pipeline_2(df_train)\n",
    "df_test_2 = pre_processing_pipeline_2(df_test)\n"
   ]
  },
  {
   "cell_type": "code",
   "execution_count": 13,
   "metadata": {
    "colab": {},
    "colab_type": "code",
    "id": "M7N9psNc8_XW"
   },
   "outputs": [],
   "source": [
    "model_2 = LinearRegression()\n",
    "model_2.fit(df_train_2.drop(TARGET, axis=1), df_train_2[TARGET])\n",
    "\n",
    "y_test_pred_2 = model_2.predict(df_test_2.drop(TARGET, axis=1))"
   ]
  },
  {
   "cell_type": "code",
   "execution_count": 14,
   "metadata": {
    "colab": {
     "base_uri": "https://localhost:8080/",
     "height": 298
    },
    "colab_type": "code",
    "id": "5Dt9GkRI7lzA",
    "outputId": "de61466f-04b0-47d4-882d-93233a158650"
   },
   "outputs": [
    {
     "name": "stdout",
     "output_type": "stream",
     "text": [
      "Mean Absolute Error: 5.995354003797517\n"
     ]
    },
    {
     "data": {
      "image/png": "[encoded data removed]",
      "text/plain": [
       "<Figure size 432x288 with 1 Axes>"
      ]
     },
     "metadata": {},
     "output_type": "display_data"
    }
   ],
   "source": [
    "mae_2 = mean_absolute_error(df_test_2[TARGET], y_test_pred_2)\n",
    "iteration_results['exp_2_mae'] = mae_2\n",
    "print(f'Mean Absolute Error: {mae_2}')\n",
    "\n",
    "print_evaluation(df_test_2[TARGET], y_test_pred_2, return_errors=False)"
   ]
  },
  {
   "cell_type": "code",
   "execution_count": 15,
   "metadata": {
    "colab": {
     "base_uri": "https://localhost:8080/",
     "height": 35
    },
    "colab_type": "code",
    "id": "f9xm6EBNyK4x",
    "outputId": "fef691c8-dd5c-490e-fc5c-d0e186c21159"
   },
   "outputs": [
    {
     "data": {
      "text/plain": [
       "{'exp_1_mae': 5.9948500667004065, 'exp_2_mae': 5.995354003797517}"
      ]
     },
     "execution_count": 15,
     "metadata": {},
     "output_type": "execute_result"
    }
   ],
   "source": [
    "iteration_results"
   ]
  },
  {
   "cell_type": "markdown",
   "metadata": {
    "colab_type": "text",
    "id": "NszUYghK-Gjs"
   },
   "source": [
    "# Creating a router - OSRM Router\n",
    "\n",
    "## Calculate street distances and durations\n",
    "\n",
    "## Setup\n",
    "\n",
    "Setting local docker image for ORSM back-end - https://hub.docker.com/r/osrm/osrm-backend/\n",
    "\n",
    "* wget http://download.geofabrik.de/north-america/us/new-york-latest.osm.pbf (file is ~200 Mb)\n",
    "\n",
    "* Move file to your project folder\n",
    "\n",
    "* docker run -t -v \"${PWD}:/data\" osrm/osrm-backend osrm-extract -p /opt/car.lua /data/new-york-latest.osm.pbf\n",
    "\n",
    "* docker run -t -v \"${PWD}:/data\" osrm/osrm-backend osrm-partition /data/new-york-latest.osm.pbf\n",
    "\n",
    "* docker run -t -v \"${PWD}:/data\" osrm/osrm-backend osrm-customize /data/new-york-latest.osm.pbf\n",
    "\n",
    "* docker run -t -i -p 5000:5000 -v \"${PWD}:/data\" osrm/osrm-backend osrm-routed --algorithm mld /data/new-york-latest.osm.pbf\n",
    "\n",
    "Example latitude longitude New York: `-73.996070,40.732605;-73.980675,40.761864`\n",
    "\n",
    "Test: `curl \"http://localhost:5000/route/v1/driving/-73.996070,40.732605;-73.980675,40.761864?steps=false&geometries=geojson&annotations=true\"`"
   ]
  },
  {
   "cell_type": "code",
   "execution_count": 17,
   "metadata": {
    "colab": {},
    "colab_type": "code",
    "id": "24SDQOnJy52y"
   },
   "outputs": [
    {
     "data": {
      "text/html": [
       "<div style=\"width:100%;\"><div style=\"position:relative;width:100%;height:0;padding-bottom:60%;\"><iframe src=\"data:text/html;charset=utf-8;base64,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\" style=\"position:absolute;width:100%;height:100%;left:0;top:0;border:none !important;\" allowfullscreen webkitallowfullscreen mozallowfullscreen></iframe></div></div>"
      ],
      "text/plain": [
       "<folium.folium.Map at 0x119d96f60>"
      ]
     },
     "execution_count": 17,
     "metadata": {},
     "output_type": "execute_result"
    }
   ],
   "source": [
    "lat1, lon1 = 40.732605,-73.996070\n",
    "lat2, lon2 = 40.761864,-73.980675\n",
    "\n",
    "osm = OSRMFramework('localhost:5000')\n",
    "lat, lon, distance, duration, node_ids = osm.route(lat1, lon1, lat2, lon2)\n",
    "\n",
    "t = latlon2linestring(lat, lon)\n",
    "\n",
    "plot_linestring(t)"
   ]
  },
  {
   "cell_type": "code",
   "execution_count": null,
   "metadata": {},
   "outputs": [],
   "source": [
    "import requests\n",
    "import numpy as np\n",
    "import pandas as pd\n",
    "\n",
    "\n",
    "class OSRMFramework():\n",
    "    def __init__(self, OSRM_server_path):\n",
    "        self.server_url = OSRM_server_path\n",
    "\n",
    "    def route(self, lat1, lon1, lat2, lon2, max_n_routes=1):\n",
    "        \"\"\"\n",
    "        :example:\n",
    "        lat1, lon1 = 52.506327, 13.401115\n",
    "        lat2, lon2 = 52.496891, 13.385983\n",
    "\n",
    "        # after setting local osrm - https://hub.docker.com/r/osrm/osrm-backend/\n",
    "        osm = OSRMFramework('localhost:5000')\n",
    "        lat, lon, distance, duration = osm.route(lat1, lon1, lat2, lon2)\n",
    "        \"\"\"\n",
    "        SERVICE = 'route'\n",
    "        optionals = {'geometries': 'geojson', 'annotations':'true'}\n",
    "\n",
    "        long_lat1 = [lon1, lat1]\n",
    "        long_lat2 = [lon2, lat2]\n",
    "        coords = [long_lat1, long_lat2]\n",
    "        coords = ';'.join([f'{lon},{lat}' for lon, lat in coords])\n",
    "\n",
    "        optionals_str = '?'\n",
    "        for k, v in optionals.items():\n",
    "            optionals_str += f'{k}={v}&'\n",
    "        optionals = optionals_str[:-1]\n",
    "\n",
    "        query = f'http://{self.server_url}/{SERVICE}/v1/driving/{coords}{optionals}'\n",
    "        # print(f'query: {query}')\n",
    "        response = requests.get(query).json()\n",
    "\n",
    "        if(response['code'] == 'Ok'):\n",
    "            main_route = response['routes'][0]\n",
    "            coordinates = [long_lat1] + main_route['geometry']['coordinates']\n",
    "            distance = main_route['distance']\n",
    "            duration = main_route['duration']\n",
    "\n",
    "            lat = [elem[1] for elem in coordinates]\n",
    "            lon = [elem[0] for elem in coordinates]\n",
    "\n",
    "            osm_node_ids = main_route['legs'][0]['annotation']['nodes']\n",
    "\n",
    "            return lat, lon, distance, duration, osm_node_ids\n",
    "        else:\n",
    "            return np.nan, np.nan, np.nan, np.nan, np.nan\n",
    "\n",
    "    def match(self, lat, lon, timestamps=None, radiuses=None):\n",
    "        \"\"\"\n",
    "        :example:\n",
    "        lat = [52.51156939,52.51148186,52.51102356,52.51077686,52.51063361,52.51046813,52.51030345,52.51013817,52.50997492,52.50980902,\n",
    "               52.50978678,52.50981555,52.50984412,52.50986943,52.50989677,52.50989554,52.50985494,52.50976862,52.50968128,52.50960578]\n",
    "        lon = [13.37081563, 13.37085016, 13.37053299, 13.36909533, 13.36821422, 13.36722583, 13.36624146, 13.36526077, 13.3642878, 13.36323738,\n",
    "               13.36231135, 13.36137023, 13.36044654, 13.35955068, 13.35856128, 13.35757691, 13.35658886, 13.355578  , 13.3546114 , 13.35361328]\n",
    "        timestamps = ['2019-05-31 06:04:46', '2019-05-31 06:04:56','2019-05-31 06:05:06', '2019-05-31 06:05:16','2019-05-31 06:05:21',\n",
    "                      '2019-05-31 06:05:26','2019-05-31 06:05:31', '2019-05-31 06:05:36','2019-05-31 06:05:41', '2019-05-31 06:05:46',\n",
    "                      '2019-05-31 06:05:51', '2019-05-31 06:05:56','2019-05-31 06:06:01', '2019-05-31 06:06:06','2019-05-31 06:06:11',\n",
    "                      '2019-05-31 06:06:16','2019-05-31 06:06:21', '2019-05-31 06:06:26','2019-05-31 06:06:31', '2019-05-31 06:06:36']\n",
    "        radiuses = [5., 5., 5., 5., 5., 5., 5., 5., 5., 5., 5., 5., 5., 5., 5., 5., 5., 5., 5., 5.]\n",
    "\n",
    "        osm = OSRMFramework('localhost:5000')\n",
    "        lat, lon = osm.match(lat, lon, timestamps, radiuses)\n",
    "        \"\"\"\n",
    "        SERVICE = 'match'\n",
    "        optionals = {'geometries': 'geojson'}\n",
    "\n",
    "        if (timestamps is not None):\n",
    "            timestamp_unix = pd.to_datetime(timestamps, format='%Y-%M-%d %H:%m:%S').strftime('%s')\n",
    "            timestamp_unix = ';'.join(timestamp_unix)\n",
    "            optionals['timestamps'] = timestamp_unix\n",
    "\n",
    "        if (radiuses is not None):\n",
    "            # increase chance of finding correct candidate by doubling std (95% chance)\n",
    "            RADIUS_TOLERANCE_MULT = 1\n",
    "            radiuses = np.array(radiuses * RADIUS_TOLERANCE_MULT).astype(str)\n",
    "            radiuses = ';'.join(radiuses)\n",
    "            optionals['radiuses'] = radiuses\n",
    "\n",
    "        optionals_str = '?'\n",
    "        for k, v in optionals.items():\n",
    "            optionals_str += f'{k}={v}&'\n",
    "        optionals = optionals_str[:-1]  # remove last \"&\"\n",
    "\n",
    "        coords = [[lon_, lat_] for lon_, lat_ in zip(lon, lat)]\n",
    "        coords_str = ';'.join([f'{lon},{lat}' for lon, lat in coords])\n",
    "\n",
    "        query = f'http://{self.server_url}/{SERVICE}/v1/driving/{coords_str}{optionals}'\n",
    "\n",
    "        response = requests.get(query).json()\n",
    "        if (response['code'] == 'Ok'):\n",
    "            match_coords = response['matchings'][0]['geometry']['coordinates']\n",
    "\n",
    "            lon = [elem[0] for elem in match_coords]\n",
    "            lat = [elem[1] for elem in match_coords]\n",
    "\n",
    "            return lat, lon\n",
    "        else:\n",
    "            raise Exception(f\"Error in Mapmatching: {response['code']}\")"
   ]
  },
  {
   "cell_type": "code",
   "execution_count": 20,
   "metadata": {},
   "outputs": [
    {
     "data": {
      "text/html": [
       "<div>\n",
       "<style scoped>\n",
       "    .dataframe tbody tr th:only-of-type {\n",
       "        vertical-align: middle;\n",
       "    }\n",
       "\n",
       "    .dataframe tbody tr th {\n",
       "        vertical-align: top;\n",
       "    }\n",
       "\n",
       "    .dataframe thead th {\n",
       "        text-align: right;\n",
       "    }\n",
       "</style>\n",
       "<table border=\"1\" class=\"dataframe\">\n",
       "  <thead>\n",
       "    <tr style=\"text-align: right;\">\n",
       "      <th></th>\n",
       "      <th>route</th>\n",
       "      <th>distance_m</th>\n",
       "      <th>duration_sec</th>\n",
       "    </tr>\n",
       "  </thead>\n",
       "  <tbody>\n",
       "    <tr>\n",
       "      <th>10382</th>\n",
       "      <td>LINESTRING (-73.97086999999999 40.788616, -73....</td>\n",
       "      <td>2859.9</td>\n",
       "      <td>320.2</td>\n",
       "    </tr>\n",
       "    <tr>\n",
       "      <th>73171</th>\n",
       "      <td>LINESTRING (-73.97036999999999 40.761692, -73....</td>\n",
       "      <td>16026.9</td>\n",
       "      <td>1105.2</td>\n",
       "    </tr>\n",
       "    <tr>\n",
       "      <th>30938</th>\n",
       "      <td>LINESTRING (-73.97719000000001 40.78442, -73.9...</td>\n",
       "      <td>5332.8</td>\n",
       "      <td>497.6</td>\n",
       "    </tr>\n",
       "    <tr>\n",
       "      <th>99310</th>\n",
       "      <td>LINESTRING (-73.97955 40.761967, -73.979544 40...</td>\n",
       "      <td>1298.6</td>\n",
       "      <td>160.9</td>\n",
       "    </tr>\n",
       "    <tr>\n",
       "      <th>58959</th>\n",
       "      <td>LINESTRING (-73.98612 40.75755, -73.9862119999...</td>\n",
       "      <td>896.4</td>\n",
       "      <td>115.0</td>\n",
       "    </tr>\n",
       "  </tbody>\n",
       "</table>\n",
       "</div>"
      ],
      "text/plain": [
       "                                                   route  distance_m  \\\n",
       "10382  LINESTRING (-73.97086999999999 40.788616, -73....      2859.9   \n",
       "73171  LINESTRING (-73.97036999999999 40.761692, -73....     16026.9   \n",
       "30938  LINESTRING (-73.97719000000001 40.78442, -73.9...      5332.8   \n",
       "99310  LINESTRING (-73.97955 40.761967, -73.979544 40...      1298.6   \n",
       "58959  LINESTRING (-73.98612 40.75755, -73.9862119999...       896.4   \n",
       "\n",
       "       duration_sec  \n",
       "10382         320.2  \n",
       "73171        1105.2  \n",
       "30938         497.6  \n",
       "99310         160.9  \n",
       "58959         115.0  "
      ]
     },
     "execution_count": 20,
     "metadata": {},
     "output_type": "execute_result"
    }
   ],
   "source": [
    "def get_route(osm, lat1, lon1, lat2, lon2):\n",
    "    lat, lon, distance, duration, node_ids = osm.route(lat1, lon1, lat2, lon2)\n",
    "    return_col_names = ['route', 'distance_m', 'duration_sec']\n",
    "    if(type(lat) == float):\n",
    "        return pd.Series([np.nan,np.nan,np.nan], index=return_col_names)\n",
    "    else:\n",
    "        return pd.Series([latlon2linestring(lat, lon), distance, duration], index=return_col_names)\n",
    "\n",
    "routes = df_train.head().apply(lambda row: get_route(osm, \n",
    "                                            row['pickup_latitude'],\n",
    "                                            row['pickup_longitude'],\n",
    "                                            row['dropoff_latitude'],\n",
    "                                            row['dropoff_longitude']), axis=1)\n",
    "routes['route'] = GeoSeries([elem[0] for elem in routes['route']], index=routes.index)\n",
    "routes"
   ]
  },
  {
   "cell_type": "code",
   "execution_count": 21,
   "metadata": {},
   "outputs": [
    {
     "name": "stdout",
     "output_type": "stream",
     "text": [
      "CPU times: user 6min 5s, sys: 41.3 s, total: 6min 46s\n",
      "Wall time: 15min 50s\n"
     ]
    }
   ],
   "source": [
    "%%time\n",
    "\n",
    "def pre_processing_pipeline_3(df, target_col=TARGET, \n",
    "                              pickup_latitude='pickup_latitude', dropoff_latitude='dropoff_latitude', \n",
    "                              pickup_longitude='pickup_longitude', dropoff_longitude='dropoff_longitude',\n",
    "                              osm_router=OSRM_PATH):\n",
    "    EUCLIDEAN_FEAT = 'euclidean_dist'\n",
    "    HAVERSINE_FEAT = 'haversine_dist'\n",
    "    # MANHATTAN_FEAT = 'manhattan_dist'\n",
    "    ROUTE_DISTANCE = 'route_distance_meters'\n",
    "    ROUTE_DURATION = 'route_duration_seconds'\n",
    "    \n",
    "    FEATURES = [EUCLIDEAN_FEAT, \n",
    "                HAVERSINE_FEAT, #, MANHATTAN_FEAT - #not returning MANHATTAN_FEAT because it's wrong\n",
    "                ROUTE_DISTANCE,\n",
    "                ROUTE_DURATION] \n",
    "\n",
    "    df_copy = df.copy()\n",
    "\n",
    "    df_copy[EUCLIDEAN_FEAT] = euclidean_distance(df_copy[pickup_latitude], df_copy[dropoff_latitude], \n",
    "                                              df_copy[pickup_longitude], df_copy[dropoff_longitude])\n",
    "    df_copy[HAVERSINE_FEAT] = haversine_distance(df_copy[pickup_latitude], df_copy[dropoff_latitude], \n",
    "                                              df_copy[pickup_longitude], df_copy[dropoff_longitude])\n",
    "    # df_copy[MANHATTAN_FEAT] = manhattan_distance(df_copy[pickup_latitude], df_copy[dropoff_latitude], \n",
    "    #                                         df_copy[pickup_longitude], df_copy[dropoff_longitude])\n",
    "    routes = df_copy.apply(lambda row: get_route(osm, \n",
    "                                            row['pickup_latitude'],\n",
    "                                            row['pickup_longitude'],\n",
    "                                            row['dropoff_latitude'],\n",
    "                                            row['dropoff_longitude']), axis=1)\n",
    "    df_copy[ROUTE_DISTANCE] = routes['distance_m']\n",
    "    df_copy[ROUTE_DURATION] = routes['duration_sec']\n",
    "    \n",
    "    # in the EDA, we probably treat the nulls, so for now, just drop them\n",
    "    df_copy = df_copy.dropna()\n",
    "\n",
    "    df_res = standardize_features(df_copy[FEATURES])\n",
    "    df_res[target_col] = df_copy[target_col]\n",
    "    return df_res, routes\n",
    "\n",
    "df_train_3, routes_train = pre_processing_pipeline_3(df_train)\n",
    "df_test_3, routes_test = pre_processing_pipeline_3(df_test)\n"
   ]
  },
  {
   "cell_type": "code",
   "execution_count": 22,
   "metadata": {},
   "outputs": [],
   "source": [
    "model_3 = LinearRegression()\n",
    "model_3.fit(df_train_3.drop(TARGET, axis=1), df_train_3[TARGET])\n",
    "y_test_pred_3 = model_3.predict(df_test_3.drop(TARGET, axis=1))\n"
   ]
  },
  {
   "cell_type": "code",
   "execution_count": 23,
   "metadata": {},
   "outputs": [
    {
     "name": "stdout",
     "output_type": "stream",
     "text": [
      "Mean Absolute Error: 3.225331616523993\n"
     ]
    },
    {
     "data": {
      "image/png": "[encoded data removed]",
      "text/plain": [
       "<Figure size 432x288 with 1 Axes>"
      ]
     },
     "metadata": {},
     "output_type": "display_data"
    }
   ],
   "source": [
    "#####\n",
    "mae_3 = mean_absolute_error(df_test_3[TARGET], y_test_pred_3)\n",
    "iteration_results['exp_3_mae'] = mae_3\n",
    "print(f'Mean Absolute Error: {mae_3}')\n",
    "\n",
    "print_evaluation(df_test_3[TARGET], y_test_pred_3, return_errors=False)\n",
    "plt.xlim([0, 50]);"
   ]
  },
  {
   "cell_type": "markdown",
   "metadata": {},
   "source": [
    "# 2nd Exploratory Analysis"
   ]
  },
  {
   "cell_type": "code",
   "execution_count": 24,
   "metadata": {},
   "outputs": [
    {
     "data": {
      "text/plain": [
       "count    79990.000000\n",
       "mean         3.242372\n",
       "std          5.972474\n",
       "min          0.000031\n",
       "50%          1.995664\n",
       "90%          5.828911\n",
       "95%         10.098026\n",
       "max        425.871183\n",
       "Name: abs_err, dtype: float64"
      ]
     },
     "execution_count": 24,
     "metadata": {},
     "output_type": "execute_result"
    }
   ],
   "source": [
    "df_train_3['y_pred'] = model_3.predict(df_train_3.drop(TARGET, axis=1))\n",
    "df_train_3['abs_err'] = np.abs(df_train_3[TARGET] - df_train_3['y_pred'])\n",
    "\n",
    "df_train_3['abs_err'].describe(percentiles=[.9, .95]) # focus on worst 5% first"
   ]
  },
  {
   "cell_type": "code",
   "execution_count": 25,
   "metadata": {},
   "outputs": [],
   "source": [
    "df_train_kepler = df_train_3.loc[df_train_3['abs_err'] > 5].copy()"
   ]
  },
  {
   "cell_type": "code",
   "execution_count": 26,
   "metadata": {},
   "outputs": [
    {
     "data": {
      "text/html": [
       "<div>\n",
       "<style scoped>\n",
       "    .dataframe tbody tr th:only-of-type {\n",
       "        vertical-align: middle;\n",
       "    }\n",
       "\n",
       "    .dataframe tbody tr th {\n",
       "        vertical-align: top;\n",
       "    }\n",
       "\n",
       "    .dataframe thead th {\n",
       "        text-align: right;\n",
       "    }\n",
       "</style>\n",
       "<table border=\"1\" class=\"dataframe\">\n",
       "  <thead>\n",
       "    <tr style=\"text-align: right;\">\n",
       "      <th></th>\n",
       "      <th>euclidean_dist</th>\n",
       "      <th>haversine_dist</th>\n",
       "      <th>route_distance_meters</th>\n",
       "      <th>route_duration_seconds</th>\n",
       "      <th>fare_amount_x</th>\n",
       "      <th>y_pred</th>\n",
       "      <th>abs_err</th>\n",
       "      <th>pickup_datetime</th>\n",
       "      <th>pickup_longitude</th>\n",
       "      <th>pickup_latitude</th>\n",
       "      <th>dropoff_longitude</th>\n",
       "      <th>dropoff_latitude</th>\n",
       "      <th>passenger_count</th>\n",
       "      <th>fare_amount_y</th>\n",
       "    </tr>\n",
       "  </thead>\n",
       "  <tbody>\n",
       "    <tr>\n",
       "      <th>73171</th>\n",
       "      <td>0.135347</td>\n",
       "      <td>-0.013348</td>\n",
       "      <td>1.052759</td>\n",
       "      <td>1.316575</td>\n",
       "      <td>29.7</td>\n",
       "      <td>24.645644</td>\n",
       "      <td>5.054356</td>\n",
       "      <td>2010-04-22 20:14:00</td>\n",
       "      <td>-73.97037</td>\n",
       "      <td>40.761692</td>\n",
       "      <td>-73.803375</td>\n",
       "      <td>40.762497</td>\n",
       "      <td>5</td>\n",
       "      <td>29.7</td>\n",
       "    </tr>\n",
       "    <tr>\n",
       "      <th>83847</th>\n",
       "      <td>0.141886</td>\n",
       "      <td>-0.030675</td>\n",
       "      <td>0.658672</td>\n",
       "      <td>0.538759</td>\n",
       "      <td>21.5</td>\n",
       "      <td>16.405214</td>\n",
       "      <td>5.094786</td>\n",
       "      <td>2013-06-01 18:51:49</td>\n",
       "      <td>-73.95472</td>\n",
       "      <td>40.811610</td>\n",
       "      <td>-73.988110</td>\n",
       "      <td>40.745850</td>\n",
       "      <td>1</td>\n",
       "      <td>21.5</td>\n",
       "    </tr>\n",
       "    <tr>\n",
       "      <th>14977</th>\n",
       "      <td>0.145505</td>\n",
       "      <td>-0.000907</td>\n",
       "      <td>3.074711</td>\n",
       "      <td>4.418055</td>\n",
       "      <td>76.5</td>\n",
       "      <td>57.010018</td>\n",
       "      <td>19.489982</td>\n",
       "      <td>2013-12-26 08:04:03</td>\n",
       "      <td>-73.98011</td>\n",
       "      <td>40.763996</td>\n",
       "      <td>-74.177600</td>\n",
       "      <td>40.690520</td>\n",
       "      <td>1</td>\n",
       "      <td>76.5</td>\n",
       "    </tr>\n",
       "  </tbody>\n",
       "</table>\n",
       "</div>"
      ],
      "text/plain": [
       "       euclidean_dist  haversine_dist  route_distance_meters  \\\n",
       "73171        0.135347       -0.013348               1.052759   \n",
       "83847        0.141886       -0.030675               0.658672   \n",
       "14977        0.145505       -0.000907               3.074711   \n",
       "\n",
       "       route_duration_seconds  fare_amount_x     y_pred    abs_err  \\\n",
       "73171                1.316575           29.7  24.645644   5.054356   \n",
       "83847                0.538759           21.5  16.405214   5.094786   \n",
       "14977                4.418055           76.5  57.010018  19.489982   \n",
       "\n",
       "          pickup_datetime  pickup_longitude  pickup_latitude  \\\n",
       "73171 2010-04-22 20:14:00         -73.97037        40.761692   \n",
       "83847 2013-06-01 18:51:49         -73.95472        40.811610   \n",
       "14977 2013-12-26 08:04:03         -73.98011        40.763996   \n",
       "\n",
       "       dropoff_longitude  dropoff_latitude  passenger_count  fare_amount_y  \n",
       "73171         -73.803375         40.762497                5           29.7  \n",
       "83847         -73.988110         40.745850                1           21.5  \n",
       "14977         -74.177600         40.690520                1           76.5  "
      ]
     },
     "execution_count": 26,
     "metadata": {},
     "output_type": "execute_result"
    }
   ],
   "source": [
    "df_train_kepler = df_train_kepler.merge(df_train, \n",
    "                      how='left',\n",
    "                      left_index=True,\n",
    "                      right_index=True)\n",
    "\n",
    "df_train_kepler.head(3)"
   ]
  },
  {
   "cell_type": "code",
   "execution_count": 27,
   "metadata": {},
   "outputs": [
    {
     "name": "stdout",
     "output_type": "stream",
     "text": [
      "User Guide: https://github.com/keplergl/kepler.gl/blob/master/docs/keplergl-jupyter/user-guide.md\n"
     ]
    },
    {
     "data": {
      "application/vnd.jupyter.widget-view+json": {
       "model_id": "726280fb355b4b3d8f78b203e0f13333",
       "version_major": 2,
       "version_minor": 0
      },
      "text/plain": [
       "KeplerGl(data={'bad_instances': {'index': [73171, 83847, 14977, 29512, 52436, 83083, 99291, 95185, 55522, 2586…"
      ]
     },
     "metadata": {},
     "output_type": "display_data"
    }
   ],
   "source": [
    "w1 = keplergl.KeplerGl(height=500)\n",
    "w1.add_data(data=df_train_kepler, name='bad_instances')\n",
    "w1"
   ]
  },
  {
   "cell_type": "markdown",
   "metadata": {},
   "source": [
    "# Playground\n",
    "\n",
    "## Proxy to traffic"
   ]
  },
  {
   "cell_type": "code",
   "execution_count": 36,
   "metadata": {},
   "outputs": [],
   "source": [
    "from utils.osm_annotator.RouteAnnotator import RouteAnnotator"
   ]
  },
  {
   "cell_type": "code",
   "execution_count": 197,
   "metadata": {},
   "outputs": [],
   "source": [
    "import osmnx as ox\n",
    "import numpy as np\n",
    "import networkx as nx\n",
    "\n",
    "from itertools import combinations\n",
    "\n",
    "class RouteAnnotator():\n",
    "\n",
    "    # TODO add different forms of network retrieval from OSMNx\n",
    "    def __init__(self, place, network_type):\n",
    "\n",
    "        self.segment_lookup_ = None\n",
    "        self.way_lookup_ = None\n",
    "        self.node_lookup_ = None\n",
    "        self.G = None\n",
    "\n",
    "        # TODO: Need adjustent. See https://wiki.openstreetmap.org/wiki/New_York\n",
    "        self.HIGHWAY_SPEED_LIMITS ={   # copied from https://github.com/Project-OSRM/osrm-backend/blob/master/profiles/car.lua\n",
    "            'motorway':90,\n",
    "            'motorway_link':45,\n",
    "            'trunk':85,\n",
    "            'trunk_link':40,\n",
    "            'primary':65,\n",
    "            'primary_link':30,\n",
    "            'secondary':40, # original: 55 - changed to NY where secondary = 25 mph ~= 40 kmh\n",
    "            'secondary_link':25,\n",
    "            'tertiary':40,\n",
    "            'tertiary_link':20,\n",
    "            'unclassified':25,\n",
    "            'residential':40,\n",
    "            'living_street':10,\n",
    "            'service':15,\n",
    "            'footway': 4,    # custom\n",
    "            'path': 4,       #\n",
    "            'pedestrian': 4, #\n",
    "            'steps': 2,      #\n",
    "            'track': 4,      #\n",
    "            'piste': 4,      #\n",
    "            'corridor': 4,   #\n",
    "            'bridleway': 4,  #\n",
    "            'razed': 4,      #\n",
    "            'elevator': 0.2  #\n",
    "        }\n",
    "\n",
    "        self.G = ox.graph_from_place(place, network_type=network_type, simplify=False) # example - 'new york, usa'\n",
    "        self.add_speeds()\n",
    "        self._build_lookups()\n",
    "\n",
    "    def add_speeds(self):\n",
    "\n",
    "        for u, v, k, data in self.G.edges(data=True, keys=True):\n",
    "            if 'maxspeed' in data and type(data['maxspeed']) == str and data['maxspeed'].isdigit():\n",
    "                continue\n",
    "            else:\n",
    "                if(type(data['highway']) == list): # sometimes data['highway'] comes with a list\n",
    "                    cond = [elem in self.HIGHWAY_SPEED_LIMITS for elem in data['highway']]\n",
    "                    highway_type = data['highway'][np.where(cond)[0][0]]\n",
    "                else:\n",
    "                    highway_type = data['highway']\n",
    "\n",
    "                if(highway_type in self.HIGHWAY_SPEED_LIMITS):\n",
    "                    speed = self.HIGHWAY_SPEED_LIMITS[highway_type]\n",
    "                    data['maxspeed'] = speed\n",
    "\n",
    "    def _build_lookups(self):\n",
    "        # build segment lookup\n",
    "        segment_lookup = {}\n",
    "        segment_lengths = {}\n",
    "        way2nodes = {}\n",
    "        way2nodes_pair = {}\n",
    "        way_lookup = {}\n",
    "        way_segment_lengths = {}\n",
    "        node_lookup = {}\n",
    "\n",
    "        # build segment lookup\n",
    "        for u, v, k, data in ra.G.edges(data=True, keys=True):\n",
    "\n",
    "            if(type(data['osmid']) != list):\n",
    "                way_ids = [data['osmid']]\n",
    "            else:\n",
    "                way_ids = data['osmid']\n",
    "\n",
    "            for way in way_ids:\n",
    "                if(way not in way2nodes.keys()):\n",
    "                    way2nodes[way] = []\n",
    "                    way2nodes_pair[way] = []\n",
    "                    way_lookup[way] = data\n",
    "                    way_segment_lengths[way] = []\n",
    "                way2nodes[way].extend([u,v])                    # add all nodes associated to a way\n",
    "                way2nodes_pair[way].append([u,v])               # add pair of nodes belonging to way id\n",
    "                way_segment_lengths[way].append(data['length']) # collect way lengths to sum up afterwards\n",
    "\n",
    "            if(u not in segment_lengths.keys()):                # store each node-node direct segment length. \n",
    "                segment_lengths[u] = {}                         # NOT DOING ANYTHING WITH IT FOR NOW\n",
    "            segment_lengths[u][v] = data['length']\n",
    "\n",
    "        # 1st FOR, build node id sequence belonging to way_id\n",
    "        # 2nd FOR, sum segments lengths and add node id list to way lookup\n",
    "        final_node_sequence = {}\n",
    "        for way_id, values in way2nodes_pair.items(): # key: way_id, values: pairs of node ids\n",
    "            relations = {}\n",
    "            for pair in values:                       # build dict - key: node_pre - value: node post\n",
    "                relations[pair[0]] = pair[1]\n",
    "            keys = relations.keys()\n",
    "            values_ = relations.values()              # if a key (node_pre) doesn't exist in values\n",
    "            begin_key = list(keys - values_)          # it means it has only origin = way initial node\n",
    "\n",
    "            if(len(values) > 1 and len(begin_key) == 1): # if NOT cyclic sequence?\n",
    "                begin_key = begin_key[0]\n",
    "                node_sequence = [begin_key]\n",
    "                val = relations[begin_key]\n",
    "                try:\n",
    "                    while(val not in node_sequence):  # run through `relations` finding the node sequence pair by pair\n",
    "                        node_sequence.append(val)\n",
    "                        begin_key = val\n",
    "                        val = relations[begin_key]\n",
    "                except Exception as e:                # until a pair is not found in the dict anymore = exception\n",
    "                    e                                 # do nothing in exception\n",
    "                final_node_sequence[way_id] = node_sequence # and store node \"ordered\" list as a Way metadata\n",
    "            else:            \n",
    "                final_node_sequence[way_id] = list(keys)[0] + list(values_)[0] # if way has only 1 node, store it as it is\n",
    "\n",
    "        for key, value in way_lookup.items():\n",
    "            way_lookup[key]['length'] = np.sum(way_segment_lengths[key])\n",
    "            way_lookup[key]['node_sequence'] = final_node_sequence[key]\n",
    "\n",
    "        # build dict: key1: node1, key2: node2, value: way_id between ALL pair of nodes id IN way\n",
    "        nodes2way = {}\n",
    "        for key, values in way2nodes.items():\n",
    "            for pair in combinations(values,2): \n",
    "                if(pair[0] not in nodes2way.keys()):\n",
    "                    nodes2way[pair[0]] = {}\n",
    "                nodes2way[pair[0]][pair[1]] = key\n",
    "                \n",
    "        # build dict key1: node_id, value: node_metadata\n",
    "        for node in ra.G.nodes(data=True):\n",
    "            node_lookup[node[0]] = node[1]\n",
    "\n",
    "\n",
    "    def segment_lookup(self, node_id_list):\n",
    "        if(type(node_id_list) == int):\n",
    "            return self.segment_lookup_[node_id_list[i]][node_id_list[i+1]]\n",
    "        else:\n",
    "            ways_id = []\n",
    "            i = 0\n",
    "            while i < len(node_id_list) - 1:\n",
    "                ways_id.append(self.segment_lookup_[node_id_list[i]][node_id_list[i+1]])\n",
    "                i += 1\n",
    "            return ways_id\n",
    "\n",
    "    def way_lookup(self, way_id_list):\n",
    "        if(type(way_id_list) == int):\n",
    "            return self.way_lookup_[way_id_list]\n",
    "        else:\n",
    "            ways_lookup = []\n",
    "            for way in way_id_list:\n",
    "                ways_lookup.append(self.way_lookup_[way])\n",
    "            return ways_lookup\n",
    "\n",
    "    def node_lookup(self, node_id_list):\n",
    "        if(type(node_id_list) == int):\n",
    "            return self.node_lookup_[node_id_list]\n",
    "        else:\n",
    "            nodes_lookup = []\n",
    "            for node in node_id_list:\n",
    "                nodes_lookup.append(self.node_lookup_[node])\n",
    "            return nodes_lookup\n"
   ]
  },
  {
   "cell_type": "code",
   "execution_count": 198,
   "metadata": {},
   "outputs": [],
   "source": [
    "ra = RouteAnnotator('new york, usa', 'drive')"
   ]
  },
  {
   "cell_type": "code",
   "execution_count": null,
   "metadata": {},
   "outputs": [],
   "source": []
  },
  {
   "cell_type": "code",
   "execution_count": null,
   "metadata": {},
   "outputs": [],
   "source": []
  },
  {
   "cell_type": "code",
   "execution_count": null,
   "metadata": {},
   "outputs": [],
   "source": []
  },
  {
   "cell_type": "code",
   "execution_count": 200,
   "metadata": {},
   "outputs": [
    {
     "ename": "TypeError",
     "evalue": "'NoneType' object is not subscriptable",
     "output_type": "error",
     "traceback": [
      "\u001b[0;31m---------------------------------------------------------------------------\u001b[0m",
      "\u001b[0;31mTypeError\u001b[0m                                 Traceback (most recent call last)",
      "\u001b[0;32m<ipython-input-200-716825a10dbe>\u001b[0m in \u001b[0;36m<module>\u001b[0;34m()\u001b[0m\n\u001b[0;32m----> 1\u001b[0;31m \u001b[0mra\u001b[0m\u001b[0;34m.\u001b[0m\u001b[0msegment_lookup\u001b[0m\u001b[0;34m(\u001b[0m\u001b[0;34m[\u001b[0m\u001b[0;36m42421877\u001b[0m\u001b[0;34m,\u001b[0m \u001b[0;36m42437949\u001b[0m\u001b[0;34m]\u001b[0m\u001b[0;34m)\u001b[0m\u001b[0;34m\u001b[0m\u001b[0m\n\u001b[0m",
      "\u001b[0;32m<ipython-input-197-8982d9673292>\u001b[0m in \u001b[0;36msegment_lookup\u001b[0;34m(self, node_id_list)\u001b[0m\n\u001b[1;32m    145\u001b[0m             \u001b[0mi\u001b[0m \u001b[0;34m=\u001b[0m \u001b[0;36m0\u001b[0m\u001b[0;34m\u001b[0m\u001b[0m\n\u001b[1;32m    146\u001b[0m             \u001b[0;32mwhile\u001b[0m \u001b[0mi\u001b[0m \u001b[0;34m<\u001b[0m \u001b[0mlen\u001b[0m\u001b[0;34m(\u001b[0m\u001b[0mnode_id_list\u001b[0m\u001b[0;34m)\u001b[0m \u001b[0;34m-\u001b[0m \u001b[0;36m1\u001b[0m\u001b[0;34m:\u001b[0m\u001b[0;34m\u001b[0m\u001b[0m\n\u001b[0;32m--> 147\u001b[0;31m                 \u001b[0mways_id\u001b[0m\u001b[0;34m.\u001b[0m\u001b[0mappend\u001b[0m\u001b[0;34m(\u001b[0m\u001b[0mself\u001b[0m\u001b[0;34m.\u001b[0m\u001b[0msegment_lookup_\u001b[0m\u001b[0;34m[\u001b[0m\u001b[0mnode_id_list\u001b[0m\u001b[0;34m[\u001b[0m\u001b[0mi\u001b[0m\u001b[0;34m]\u001b[0m\u001b[0;34m]\u001b[0m\u001b[0;34m[\u001b[0m\u001b[0mnode_id_list\u001b[0m\u001b[0;34m[\u001b[0m\u001b[0mi\u001b[0m\u001b[0;34m+\u001b[0m\u001b[0;36m1\u001b[0m\u001b[0;34m]\u001b[0m\u001b[0;34m]\u001b[0m\u001b[0;34m)\u001b[0m\u001b[0;34m\u001b[0m\u001b[0m\n\u001b[0m\u001b[1;32m    148\u001b[0m                 \u001b[0mi\u001b[0m \u001b[0;34m+=\u001b[0m \u001b[0;36m1\u001b[0m\u001b[0;34m\u001b[0m\u001b[0m\n\u001b[1;32m    149\u001b[0m             \u001b[0;32mreturn\u001b[0m \u001b[0mways_id\u001b[0m\u001b[0;34m\u001b[0m\u001b[0m\n",
      "\u001b[0;31mTypeError\u001b[0m: 'NoneType' object is not subscriptable"
     ]
    }
   ],
   "source": [
    "ra.segment_lookup([42421877, 42437949])"
   ]
  },
  {
   "cell_type": "code",
   "execution_count": 48,
   "metadata": {},
   "outputs": [
    {
     "data": {
      "text/plain": [
       "{'highway': 'traffic_signals',\n",
       " 'osmid': 42421877,\n",
       " 'x': -73.9959038,\n",
       " 'y': 40.7328593}"
      ]
     },
     "execution_count": 48,
     "metadata": {},
     "output_type": "execute_result"
    }
   ],
   "source": [
    "ra.node_lookup(42421877)"
   ]
  },
  {
   "cell_type": "code",
   "execution_count": 49,
   "metadata": {},
   "outputs": [
    {
     "data": {
      "text/plain": [
       "{'highway': 'traffic_signals',\n",
       " 'osmid': 42437949,\n",
       " 'x': -73.996351,\n",
       " 'y': 40.732255}"
      ]
     },
     "execution_count": 49,
     "metadata": {},
     "output_type": "execute_result"
    }
   ],
   "source": [
    "ra.node_lookup(42437949)"
   ]
  },
  {
   "cell_type": "code",
   "execution_count": 47,
   "metadata": {},
   "outputs": [],
   "source": [
    "test_traffic = df_test.merge(routes_test, \n",
    "                             how='left',\n",
    "                             left_index=True,\n",
    "                             right_index=True)\n",
    "\n",
    "test_traffic.head()"
   ]
  },
  {
   "cell_type": "code",
   "execution_count": 49,
   "metadata": {},
   "outputs": [
    {
     "data": {
      "text/html": [
       "<div>\n",
       "<style scoped>\n",
       "    .dataframe tbody tr th:only-of-type {\n",
       "        vertical-align: middle;\n",
       "    }\n",
       "\n",
       "    .dataframe tbody tr th {\n",
       "        vertical-align: top;\n",
       "    }\n",
       "\n",
       "    .dataframe thead th {\n",
       "        text-align: right;\n",
       "    }\n",
       "</style>\n",
       "<table border=\"1\" class=\"dataframe\">\n",
       "  <thead>\n",
       "    <tr style=\"text-align: right;\">\n",
       "      <th></th>\n",
       "      <th>pickup_datetime</th>\n",
       "      <th>pickup_longitude</th>\n",
       "      <th>pickup_latitude</th>\n",
       "      <th>dropoff_longitude</th>\n",
       "      <th>dropoff_latitude</th>\n",
       "      <th>passenger_count</th>\n",
       "      <th>fare_amount</th>\n",
       "      <th>route</th>\n",
       "      <th>distance_m</th>\n",
       "      <th>duration_sec</th>\n",
       "    </tr>\n",
       "  </thead>\n",
       "  <tbody>\n",
       "    <tr>\n",
       "      <th>3582</th>\n",
       "      <td>2014-11-07 17:56:58</td>\n",
       "      <td>0.000000</td>\n",
       "      <td>0.000000</td>\n",
       "      <td>0.000000</td>\n",
       "      <td>0.000000</td>\n",
       "      <td>2</td>\n",
       "      <td>28.5</td>\n",
       "      <td>0    LINESTRING (0 0, -71.86234 41.065003, -71...</td>\n",
       "      <td>0.0</td>\n",
       "      <td>0.0</td>\n",
       "    </tr>\n",
       "    <tr>\n",
       "      <th>60498</th>\n",
       "      <td>2009-10-30 11:51:01</td>\n",
       "      <td>-73.966090</td>\n",
       "      <td>40.792553</td>\n",
       "      <td>-73.980820</td>\n",
       "      <td>40.782620</td>\n",
       "      <td>1</td>\n",
       "      <td>6.9</td>\n",
       "      <td>0    LINESTRING (-73.96609000000001 40.7925530...</td>\n",
       "      <td>2315.4</td>\n",
       "      <td>219.1</td>\n",
       "    </tr>\n",
       "    <tr>\n",
       "      <th>53227</th>\n",
       "      <td>2012-04-13 12:31:00</td>\n",
       "      <td>-73.985054</td>\n",
       "      <td>40.763744</td>\n",
       "      <td>-73.982690</td>\n",
       "      <td>40.767097</td>\n",
       "      <td>1</td>\n",
       "      <td>2.9</td>\n",
       "      <td>0    LINESTRING (-73.98505400000001 40.763744,...</td>\n",
       "      <td>422.9</td>\n",
       "      <td>42.7</td>\n",
       "    </tr>\n",
       "    <tr>\n",
       "      <th>21333</th>\n",
       "      <td>2015-05-04 18:10:02</td>\n",
       "      <td>-73.958410</td>\n",
       "      <td>40.768830</td>\n",
       "      <td>-73.990295</td>\n",
       "      <td>40.740290</td>\n",
       "      <td>1</td>\n",
       "      <td>13.5</td>\n",
       "      <td>0    LINESTRING (-73.95841 40.76883, -73.95841...</td>\n",
       "      <td>6294.1</td>\n",
       "      <td>451.9</td>\n",
       "    </tr>\n",
       "    <tr>\n",
       "      <th>3885</th>\n",
       "      <td>2011-12-05 21:45:15</td>\n",
       "      <td>-73.972170</td>\n",
       "      <td>40.759170</td>\n",
       "      <td>-73.980960</td>\n",
       "      <td>40.786797</td>\n",
       "      <td>1</td>\n",
       "      <td>10.1</td>\n",
       "      <td>0    LINESTRING (-73.97216999999999 40.75917, ...</td>\n",
       "      <td>4073.4</td>\n",
       "      <td>363.6</td>\n",
       "    </tr>\n",
       "  </tbody>\n",
       "</table>\n",
       "</div>"
      ],
      "text/plain": [
       "          pickup_datetime  pickup_longitude  pickup_latitude  \\\n",
       "3582  2014-11-07 17:56:58          0.000000         0.000000   \n",
       "60498 2009-10-30 11:51:01        -73.966090        40.792553   \n",
       "53227 2012-04-13 12:31:00        -73.985054        40.763744   \n",
       "21333 2015-05-04 18:10:02        -73.958410        40.768830   \n",
       "3885  2011-12-05 21:45:15        -73.972170        40.759170   \n",
       "\n",
       "       dropoff_longitude  dropoff_latitude  passenger_count  fare_amount  \\\n",
       "3582            0.000000          0.000000                2         28.5   \n",
       "60498         -73.980820         40.782620                1          6.9   \n",
       "53227         -73.982690         40.767097                1          2.9   \n",
       "21333         -73.990295         40.740290                1         13.5   \n",
       "3885          -73.980960         40.786797                1         10.1   \n",
       "\n",
       "                                                   route  distance_m  \\\n",
       "3582   0    LINESTRING (0 0, -71.86234 41.065003, -71...         0.0   \n",
       "60498  0    LINESTRING (-73.96609000000001 40.7925530...      2315.4   \n",
       "53227  0    LINESTRING (-73.98505400000001 40.763744,...       422.9   \n",
       "21333  0    LINESTRING (-73.95841 40.76883, -73.95841...      6294.1   \n",
       "3885   0    LINESTRING (-73.97216999999999 40.75917, ...      4073.4   \n",
       "\n",
       "       duration_sec  \n",
       "3582            0.0  \n",
       "60498         219.1  \n",
       "53227          42.7  \n",
       "21333         451.9  \n",
       "3885          363.6  "
      ]
     },
     "execution_count": 49,
     "metadata": {},
     "output_type": "execute_result"
    }
   ],
   "source": []
  },
  {
   "cell_type": "code",
   "execution_count": null,
   "metadata": {},
   "outputs": [],
   "source": []
  }
 ],
 "metadata": {
  "colab": {
   "collapsed_sections": [],
   "name": "AMLD_2020.ipynb",
   "provenance": []
  },
  "hide_input": false,
  "kernelspec": {
   "display_name": "Python 3",
   "language": "python",
   "name": "python3"
  },
  "language_info": {
   "codemirror_mode": {
    "name": "ipython",
    "version": 3
   },
   "file_extension": ".py",
   "mimetype": "text/x-python",
   "name": "python",
   "nbconvert_exporter": "python",
   "pygments_lexer": "ipython3",
   "version": "3.6.4"
  },
  "toc": {
   "base_numbering": 1,
   "nav_menu": {},
   "number_sections": true,
   "sideBar": true,
   "skip_h1_title": false,
   "title_cell": "Table of Contents",
   "title_sidebar": "Contents",
   "toc_cell": false,
   "toc_position": {},
   "toc_section_display": true,
   "toc_window_display": false
  }
 },
 "nbformat": 4,
 "nbformat_minor": 1
}
