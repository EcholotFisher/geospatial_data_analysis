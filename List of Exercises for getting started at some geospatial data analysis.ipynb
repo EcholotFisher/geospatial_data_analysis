{
 "cells": [
  {
   "cell_type": "markdown",
   "metadata": {},
   "source": [
    "# List of Exercises for getting started at some geospatial data analysis\n",
    "\n",
    "## What is a Latitude? What is a Longitude?\n",
    "\n",
    "## Go to Google maps, click at some random points to get their lat/lon. Can you plot theses points here in the notebook? Minimum 2. (Take a look at Folium)\n",
    "\n",
    "## What is the Haversine Distance? What is the Vincenty distance? What is the difference between them both intuitively? (not mathematically)\n",
    "\n",
    "## Plot a line between two points from before in Folium. Use a pop-up in one of the points to show the Haversine and Vincenty distance between the two points.\n",
    "\n",
    "## Considering [this](https://www.kaggle.com/c/new-york-city-taxi-fare-prediction/) dataset about taxi trips in New York and selecting one month of data (any). \n",
    "* Do we have any problematic data? i.e., that needs preprocessing somehow? (Here's a data analysis [kernel](https://www.kaggle.com/breemen/nyc-taxi-fare-data-exploration) for some examples)\n",
    "* What is the average haversine distance for all trips? \n",
    "* Average haversine distance for each day of the week (use pandas groupby)\n",
    "* Considering a price of 1.5 dollars/km, what is the average revenue for each day of the week?\n",
    "* Which day of the week had more revenue?\n",
    "* Considering an additional fare of 0.3 dollars per total minute, how would the average revenue be? Any changes on which day is more profitable?\n",
    "\n",
    "## Plot the 10 pick-up hotspots. Take a look at H3 and plot the data into [kepler.gl](https://kepler.gl/). In the map, hexagons with more # of pick-ups should have a different color (heatmap).\n",
    "* What is H3? Why do we need it **when aggregating** data?\n",
    "* Plot 10 drop off hotspots for trips that happened between 07:00 to 10:00 and another map plotting 10 drop off hotspots for trips that happened between 17:00 to 20:00\n",
    "* Can you think a way to find out (approximately) the 3 most popular taxi routes?\n",
    "\n",
    "  \n",
    "  \n",
    "\n"
   ]
  },
  {
   "cell_type": "code",
   "execution_count": null,
   "metadata": {},
   "outputs": [],
   "source": []
  },
  {
   "cell_type": "markdown",
   "metadata": {},
   "source": [
    "# Reproducibility. \n",
    "\n",
    "## What is pipenv? What's the difference from a requirements.txt file?\n",
    "## Configure a pipenv file with the packages used until now."
   ]
  },
  {
   "cell_type": "code",
   "execution_count": null,
   "metadata": {},
   "outputs": [],
   "source": []
  },
  {
   "cell_type": "markdown",
   "metadata": {},
   "source": [
    "# More features:\n",
    "\n",
    "## Why haversine/vincenty distances are not reliable sources of route distance?\n",
    "\n",
    "## Setting up OSM router (take a look )\n",
    "* What're it's main functionalities? Can you explain them? "
   ]
  }
 ],
 "metadata": {
  "hide_input": false,
  "kernelspec": {
   "display_name": "Python 3",
   "language": "python",
   "name": "python3"
  },
  "language_info": {
   "codemirror_mode": {
    "name": "ipython",
    "version": 3
   },
   "file_extension": ".py",
   "mimetype": "text/x-python",
   "name": "python",
   "nbconvert_exporter": "python",
   "pygments_lexer": "ipython3",
   "version": "3.6.4"
  },
  "toc": {
   "base_numbering": 1,
   "nav_menu": {},
   "number_sections": true,
   "sideBar": true,
   "skip_h1_title": false,
   "title_cell": "Table of Contents",
   "title_sidebar": "Contents",
   "toc_cell": false,
   "toc_position": {},
   "toc_section_display": true,
   "toc_window_display": false
  }
 },
 "nbformat": 4,
 "nbformat_minor": 2
}
