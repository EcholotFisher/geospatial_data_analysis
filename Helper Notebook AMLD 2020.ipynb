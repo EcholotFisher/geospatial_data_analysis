{
 "cells": [
  {
   "cell_type": "code",
   "execution_count": 31,
   "metadata": {},
   "outputs": [],
   "source": [
    "import pandas as pd\n",
    "import numpy as np\n",
    "import pickle\n"
   ]
  },
  {
   "cell_type": "markdown",
   "metadata": {},
   "source": [
    "# Read process and save sample for testing reasons"
   ]
  },
  {
   "cell_type": "code",
   "execution_count": 2,
   "metadata": {},
   "outputs": [],
   "source": [
    "# constants\n",
    "\n",
    "FILE_NAME = \"train.csv\"\n",
    "SAMPLE_SIZE = 100000"
   ]
  },
  {
   "cell_type": "code",
   "execution_count": 27,
   "metadata": {},
   "outputs": [
    {
     "data": {
      "text/html": [
       "<div>\n",
       "<style scoped>\n",
       "    .dataframe tbody tr th:only-of-type {\n",
       "        vertical-align: middle;\n",
       "    }\n",
       "\n",
       "    .dataframe tbody tr th {\n",
       "        vertical-align: top;\n",
       "    }\n",
       "\n",
       "    .dataframe thead th {\n",
       "        text-align: right;\n",
       "    }\n",
       "</style>\n",
       "<table border=\"1\" class=\"dataframe\">\n",
       "  <thead>\n",
       "    <tr style=\"text-align: right;\">\n",
       "      <th></th>\n",
       "      <th>fare_amount</th>\n",
       "      <th>pickup_datetime</th>\n",
       "      <th>pickup_longitude</th>\n",
       "      <th>pickup_latitude</th>\n",
       "      <th>dropoff_longitude</th>\n",
       "      <th>dropoff_latitude</th>\n",
       "      <th>passenger_count</th>\n",
       "    </tr>\n",
       "  </thead>\n",
       "  <tbody>\n",
       "    <tr>\n",
       "      <th>0</th>\n",
       "      <td>11.3</td>\n",
       "      <td>2010-04-16 13:02:00-04:00</td>\n",
       "      <td>-73.972412</td>\n",
       "      <td>40.781231</td>\n",
       "      <td>-73.989189</td>\n",
       "      <td>40.758373</td>\n",
       "      <td>5</td>\n",
       "    </tr>\n",
       "    <tr>\n",
       "      <th>1</th>\n",
       "      <td>13.3</td>\n",
       "      <td>2010-08-17 23:46:00-04:00</td>\n",
       "      <td>0.000000</td>\n",
       "      <td>0.000000</td>\n",
       "      <td>0.000000</td>\n",
       "      <td>0.000000</td>\n",
       "      <td>5</td>\n",
       "    </tr>\n",
       "    <tr>\n",
       "      <th>2</th>\n",
       "      <td>12.9</td>\n",
       "      <td>2011-04-09 10:11:00-04:00</td>\n",
       "      <td>-74.008331</td>\n",
       "      <td>40.725842</td>\n",
       "      <td>-73.983200</td>\n",
       "      <td>40.767673</td>\n",
       "      <td>1</td>\n",
       "    </tr>\n",
       "    <tr>\n",
       "      <th>3</th>\n",
       "      <td>10.0</td>\n",
       "      <td>2012-11-26 04:49:00-05:00</td>\n",
       "      <td>-73.994148</td>\n",
       "      <td>40.751560</td>\n",
       "      <td>-73.981911</td>\n",
       "      <td>40.771706</td>\n",
       "      <td>1</td>\n",
       "    </tr>\n",
       "    <tr>\n",
       "      <th>4</th>\n",
       "      <td>8.0</td>\n",
       "      <td>2013-12-27 17:35:00-05:00</td>\n",
       "      <td>-73.987686</td>\n",
       "      <td>40.732952</td>\n",
       "      <td>-73.987556</td>\n",
       "      <td>40.749565</td>\n",
       "      <td>1</td>\n",
       "    </tr>\n",
       "  </tbody>\n",
       "</table>\n",
       "</div>"
      ],
      "text/plain": [
       "   fare_amount           pickup_datetime  pickup_longitude  pickup_latitude  \\\n",
       "0         11.3 2010-04-16 13:02:00-04:00        -73.972412        40.781231   \n",
       "1         13.3 2010-08-17 23:46:00-04:00          0.000000         0.000000   \n",
       "2         12.9 2011-04-09 10:11:00-04:00        -74.008331        40.725842   \n",
       "3         10.0 2012-11-26 04:49:00-05:00        -73.994148        40.751560   \n",
       "4          8.0 2013-12-27 17:35:00-05:00        -73.987686        40.732952   \n",
       "\n",
       "   dropoff_longitude  dropoff_latitude  passenger_count  \n",
       "0         -73.989189         40.758373                5  \n",
       "1           0.000000          0.000000                5  \n",
       "2         -73.983200         40.767673                1  \n",
       "3         -73.981911         40.771706                1  \n",
       "4         -73.987556         40.749565                1  "
      ]
     },
     "execution_count": 27,
     "metadata": {},
     "output_type": "execute_result"
    }
   ],
   "source": [
    "# `read_sample` takes ~2 minutes\n",
    "\n",
    "def read_sample(file_name, sample_size=100000):\n",
    "    numpy.random.seed(42)\n",
    "    n_rows = sum(1 for line in open(file_name)) - 1 #number of records in file (excludes header)\n",
    "    ix = np.array(range(1,n_rows+1))\n",
    "    skip = np.sort(np.random.choice(a=ix, size=n_rows-sample_size, replace=False)) #the 0-indexed header will not be included in the skip list\n",
    "    return pd.read_csv(file_name, skiprows=skip)\n",
    "    \n",
    "def process_df(df):\n",
    "    df2 = df.copy()\n",
    "\n",
    "    # drop not useful key\n",
    "    df2 = df2.drop('key', axis=1)\n",
    "\n",
    "    # convert timestamp from UTC to localtime New York\n",
    "    time_col = pd.to_datetime(df2['pickup_datetime'])\n",
    "    time_col = time_col.dt.tz_localize('utc').dt.tz_convert('America/New_York')\n",
    "    df2['pickup_datetime'] = time_col\n",
    "    \n",
    "    # downcast float precision\n",
    "    numerical_cols = ['fare_amount', 'pickup_longitude', \n",
    "                  'pickup_latitude', 'dropoff_longitude', \n",
    "                  'dropoff_latitude']\n",
    "    df2[numerical_cols] = df2[numerical_cols].apply(pd.to_numeric,downcast='float')\n",
    "    \n",
    "    return df2\n",
    "\n",
    "\n",
    "df = read_sample(file_name=FILE_NAME, sample_size=SAMPLE_SIZE)\n",
    "df = process_df(df)\n",
    "df.head()\n",
    "    "
   ]
  },
  {
   "cell_type": "code",
   "execution_count": 29,
   "metadata": {},
   "outputs": [
    {
     "name": "stdout",
     "output_type": "stream",
     "text": [
      "<class 'pandas.core.frame.DataFrame'>\n",
      "RangeIndex: 100000 entries, 0 to 99999\n",
      "Data columns (total 7 columns):\n",
      "fare_amount          100000 non-null float32\n",
      "pickup_datetime      100000 non-null datetime64[ns, America/New_York]\n",
      "pickup_longitude     100000 non-null float32\n",
      "pickup_latitude      100000 non-null float32\n",
      "dropoff_longitude    100000 non-null float32\n",
      "dropoff_latitude     100000 non-null float32\n",
      "passenger_count      100000 non-null int64\n",
      "dtypes: datetime64[ns, America/New_York](1), float32(5), int64(1)\n",
      "memory usage: 3.4 MB\n"
     ]
    }
   ],
   "source": [
    "df.info(memory_usage='deep')"
   ]
  },
  {
   "cell_type": "code",
   "execution_count": 32,
   "metadata": {},
   "outputs": [],
   "source": [
    "# save as pickle to keep format\n",
    "\n",
    "with open('data/sample_100000.csv.pickle', 'wb') as f:\n",
    "    pickle.dump(df, f)"
   ]
  },
  {
   "cell_type": "code",
   "execution_count": null,
   "metadata": {},
   "outputs": [],
   "source": []
  }
 ],
 "metadata": {
  "hide_input": false,
  "kernelspec": {
   "display_name": "Python 3",
   "language": "python",
   "name": "python3"
  },
  "language_info": {
   "codemirror_mode": {
    "name": "ipython",
    "version": 3
   },
   "file_extension": ".py",
   "mimetype": "text/x-python",
   "name": "python",
   "nbconvert_exporter": "python",
   "pygments_lexer": "ipython3",
   "version": "3.6.4"
  },
  "toc": {
   "base_numbering": 1,
   "nav_menu": {},
   "number_sections": true,
   "sideBar": true,
   "skip_h1_title": false,
   "title_cell": "Table of Contents",
   "title_sidebar": "Contents",
   "toc_cell": false,
   "toc_position": {},
   "toc_section_display": true,
   "toc_window_display": false
  }
 },
 "nbformat": 4,
 "nbformat_minor": 2
}
